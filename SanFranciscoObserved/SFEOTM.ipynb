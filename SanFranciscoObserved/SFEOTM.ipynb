{
 "cells": [
  {
   "cell_type": "code",
   "execution_count": 52,
   "metadata": {},
   "outputs": [
    {
     "data": {
      "text/html": [
       "\n",
       "            <style>\n",
       "                .geemap-dark {\n",
       "                    --jp-widgets-color: white;\n",
       "                    --jp-widgets-label-color: white;\n",
       "                    --jp-ui-font-color1: white;\n",
       "                    --jp-layout-color2: #454545;\n",
       "                    background-color: #383838;\n",
       "                }\n",
       "\n",
       "                .geemap-dark .jupyter-button {\n",
       "                    --jp-layout-color3: #383838;\n",
       "                }\n",
       "\n",
       "                .geemap-colab {\n",
       "                    background-color: var(--colab-primary-surface-color, white);\n",
       "                }\n",
       "\n",
       "                .geemap-colab .jupyter-button {\n",
       "                    --jp-layout-color3: var(--colab-primary-surface-color, white);\n",
       "                }\n",
       "            </style>\n",
       "            "
      ],
      "text/plain": [
       "<IPython.core.display.HTML object>"
      ]
     },
     "metadata": {},
     "output_type": "display_data"
    }
   ],
   "source": [
    "import ee\n",
    "import openeo\n",
    "import numpy as np\n",
    "import datetime as dt\n",
    "import geemap.core as geemap\n",
    "import pandas as pd\n",
    "import geopandas as gpd\n",
    "from geojson import Feature, FeatureCollection, Point\n",
    "import csv, json\n",
    "import geometryFxns\n",
    "import pyap\n",
    "import folium\n",
    "from shapely.geometry import Polygon, MultiPolygon\n",
    "\n"
   ]
  },
  {
   "cell_type": "code",
   "execution_count": 22,
   "metadata": {},
   "outputs": [
    {
     "data": {
      "text/html": [
       "\n",
       "            <style>\n",
       "                .geemap-dark {\n",
       "                    --jp-widgets-color: white;\n",
       "                    --jp-widgets-label-color: white;\n",
       "                    --jp-ui-font-color1: white;\n",
       "                    --jp-layout-color2: #454545;\n",
       "                    background-color: #383838;\n",
       "                }\n",
       "\n",
       "                .geemap-dark .jupyter-button {\n",
       "                    --jp-layout-color3: #383838;\n",
       "                }\n",
       "\n",
       "                .geemap-colab {\n",
       "                    background-color: var(--colab-primary-surface-color, white);\n",
       "                }\n",
       "\n",
       "                .geemap-colab .jupyter-button {\n",
       "                    --jp-layout-color3: var(--colab-primary-surface-color, white);\n",
       "                }\n",
       "            </style>\n",
       "            "
      ],
      "text/plain": [
       "<IPython.core.display.HTML object>"
      ]
     },
     "metadata": {},
     "output_type": "display_data"
    }
   ],
   "source": [
    "ee.Authenticate()\n",
    "ee.Initialize(project='sfeotm')"
   ]
  },
  {
   "cell_type": "code",
   "execution_count": 50,
   "metadata": {},
   "outputs": [
    {
     "data": {
      "text/html": [
       "\n",
       "            <style>\n",
       "                .geemap-dark {\n",
       "                    --jp-widgets-color: white;\n",
       "                    --jp-widgets-label-color: white;\n",
       "                    --jp-ui-font-color1: white;\n",
       "                    --jp-layout-color2: #454545;\n",
       "                    background-color: #383838;\n",
       "                }\n",
       "\n",
       "                .geemap-dark .jupyter-button {\n",
       "                    --jp-layout-color3: #383838;\n",
       "                }\n",
       "\n",
       "                .geemap-colab {\n",
       "                    background-color: var(--colab-primary-surface-color, white);\n",
       "                }\n",
       "\n",
       "                .geemap-colab .jupyter-button {\n",
       "                    --jp-layout-color3: var(--colab-primary-surface-color, white);\n",
       "                }\n",
       "            </style>\n",
       "            "
      ],
      "text/plain": [
       "<IPython.core.display.HTML object>"
      ]
     },
     "metadata": {},
     "output_type": "display_data"
    },
    {
     "data": {
      "application/vnd.jupyter.widget-view+json": {
       "model_id": "d91cabbf7acb46d6b03d9af0a89fde8a",
       "version_major": 2,
       "version_minor": 0
      },
      "text/plain": [
       "Map(center=[37.501, -122.1899], controls=(ZoomControl(options=['position', 'zoom_in_text', 'zoom_in_title', 'z…"
      ]
     },
     "metadata": {},
     "output_type": "display_data"
    },
    {
     "data": {
      "text/plain": [
       "'https://earthengine.googleapis.com/v1/projects/sfeotm/videoThumbnails/7284c74f2105e6d44718c51a7c4d9e6a-c057fa3a1fee119d50674bf42f3109cc:getPixels'"
      ]
     },
     "execution_count": 50,
     "metadata": {},
     "output_type": "execute_result"
    }
   ],
   "source": [
    "def get_dates (img):\n",
    "  doy = ee.Date(img.get('system:time_start')).getRelative('day', 'year')\n",
    "  return img.set('doy', doy)\n",
    "\n",
    "def median_vis(img):\n",
    "  # Ensure that startDoy is a number.\n",
    "  doyCol = ee.ImageCollection.fromImages(img.get('doy_matches'))\n",
    "  # Filter images by date range; starting with the current startDate and\n",
    "  # ending 15 days later. Reduce the resulting image collection by median.\n",
    "  return doyCol.reduce(ee.Reducer.median())\n",
    "\n",
    "\n",
    "#Only works for africa, need to adjust region geom to make bounding box around location.\n",
    "def make_visualization(wld_rgn, buffer, zoom, location):\n",
    "    # Make a day-of-year sequence from 1 to 365 with a 16-day step.\n",
    "  doyList = ee.List.sequence(1, 365, 16)\n",
    "\n",
    "  # Import a MODIS NDVI collection.\n",
    "  ndviCol = ee.ImageCollection('MODIS/006/MOD13A2').select('NDVI')\n",
    "\n",
    "  # Define a map centered on San Francisco.\n",
    "  Map = geemap.Map(center=[37.5010, -122.1899], zoom=zoom)\n",
    "\n",
    "  # Create a circle by drawing a 20000 meter buffer around a point.\n",
    "  roi = ee.Geometry.Point([-122.4481, 37.7599]).buffer(buffer)\n",
    "  ndviCol = ndviCol.map(lambda img: img.clip(roi))\n",
    "\n",
    "\n",
    "# Add the image layer to the map and display it.\n",
    "  Map.add_layer(ndviCol, None, 'mosaic clipped')\n",
    "\n",
    "\n",
    " # Map.add_layer(ndviCol.first(), name = 'Raw NDVI')\n",
    "\n",
    "\n",
    "  # Define a mask to clip the NDVI data by.\n",
    "  #mask = ee.FeatureCollection('USDOS/LSIB_SIMPLE/2017').filter(ee.Filter.eq('wld_region', 'North America'))\n",
    "\n",
    "\n",
    "  \n",
    "  # Define the regional bounds of animation frames.\n",
    "  region =ee.Geometry.Polygon(\n",
    "        [[[38.231962, -123.451733],\n",
    "           [36.884817, -123.451733],\n",
    "           [36.884817, -121.098064],\n",
    "           [38.231962, -121.098064]]]\n",
    "  )\n",
    "\n",
    "  ndviCol = ndviCol.map(get_dates)\n",
    "\n",
    "  distinctDOY = ndviCol.filterDate('2011-01-01', '2012-01-01')\n",
    "\n",
    "\n",
    "\n",
    "  # Define a filter that identifies which images from the complete collection\n",
    "  # match the DOY from the distinct DOY collection.\n",
    "  filter = ee.Filter.equals(leftField = 'doy', rightField = 'doy')\n",
    "\n",
    "\n",
    "  # Define a join.\n",
    "  join = ee.Join.saveAll('doy_matches')\n",
    "\n",
    "\n",
    "  # Apply the join and convert the resulting FeatureCollection to an\n",
    "  # ImageCollection.\n",
    "  joinCol = ee.ImageCollection(join.apply(distinctDOY, ndviCol, filter))\n",
    "\n",
    "  #Map.add_layer(joinCol.first(), name = 'Unassembeled, Reasembled')\n",
    "\n",
    "\n",
    "  # Map over the list of days to build a list of image composites, this builds a ImageCollection.\n",
    "  ndviCompCol = joinCol.map(median_vis)\n",
    "\n",
    "  #Map.add_layer(ndviCompCol.first(), name = 'median_vis Display')\n",
    "\n",
    "\n",
    "  # Define RGB visualization parameters.\n",
    "  visParams = {\n",
    "    'bands' : ['B1', 'B2'],\n",
    "    'min' : 0.0,\n",
    "    'max' : 9000.0, \n",
    "    'palette' : ['FFFFFF', 'CE7E45', 'DF923D', 'F1B555', 'FCD163', '99B718', '74A901',\n",
    "      '66A000', '529400', '3E8601', '207401', '056201', '004C00', '023B01',\n",
    "      '012E01', '011D01', '011301']\n",
    "  }\n",
    "\n",
    "  # Create RGB visualization images for use as animation frames.\n",
    "  rgbVis = ndviCompCol.map(lambda img : img.visualize( min = 0.0, max = 9000.0, palette = ['FFFFFF', 'CE7E45', 'DF923D', 'F1B555', 'FCD163', '99B718', '74A901',\n",
    "      '66A000', '529400', '3E8601', '207401', '056201', '004C00', '023B01',\n",
    "      '012E01', '011D01', '011301']).clip(roi))\n",
    "\n",
    "  Map.add_layer(rgbVis.first(), name = 'rgb NDVI Display')\n",
    "  # Define GIF visualization parameters.\n",
    "  gifParams = {\n",
    "    'region': roi,\n",
    "    'dimensions': 600,\n",
    "    'crs': 'EPSG:3857',\n",
    "    'framesPerSecond': 10\n",
    "  }\n",
    "\n",
    "  display(Map)\n",
    "\n",
    "\n",
    "  # Print the GIF URL to the console.\n",
    "  return rgbVis.getVideoThumbURL(gifParams)\n",
    "\n",
    "\n",
    "\n",
    "make_visualization('USA', buffer = 900000, zoom = 5, location = [37.5010, -122.1899])"
   ]
  },
  {
   "cell_type": "code",
   "execution_count": 294,
   "metadata": {},
   "outputs": [
    {
     "data": {
      "text/html": [
       "\n",
       "            <style>\n",
       "                .geemap-dark {\n",
       "                    --jp-widgets-color: white;\n",
       "                    --jp-widgets-label-color: white;\n",
       "                    --jp-ui-font-color1: white;\n",
       "                    --jp-layout-color2: #454545;\n",
       "                    background-color: #383838;\n",
       "                }\n",
       "\n",
       "                .geemap-dark .jupyter-button {\n",
       "                    --jp-layout-color3: #383838;\n",
       "                }\n",
       "\n",
       "                .geemap-colab {\n",
       "                    background-color: var(--colab-primary-surface-color, white);\n",
       "                }\n",
       "\n",
       "                .geemap-colab .jupyter-button {\n",
       "                    --jp-layout-color3: var(--colab-primary-surface-color, white);\n",
       "                }\n",
       "            </style>\n",
       "            "
      ],
      "text/plain": [
       "<IPython.core.display.HTML object>"
      ]
     },
     "metadata": {},
     "output_type": "display_data"
    }
   ],
   "source": [
    "import shapely\n",
    "\n",
    "\n",
    "#### Take in df(csv) with geojson elements as string(in column), convert this to a polygon object and output geojson or geopandas ####\n",
    "\n",
    "def Str_element_to_geometry(df, column):\n",
    "    column = df[column]\n",
    "    polygon_counter = 0\n",
    "    MultiPolygon_counter = 0\n",
    "    new_column = []\n",
    "    for item in column:\n",
    "        items = item.split('\":')                                                                                                          # Split each element by a colon\n",
    "        item_class = items[0][2:]                                                                                                         # For my dataset, this is coordinates\n",
    "        geom_list = [eval(x.strip()) for x in items[1][1:(len(items[1])-7)].split('],[')]                                                 # List of listsof lists... of points, trim the end as it contains the word \"type\"\n",
    "        geom_type = items[2][2:(len(items[2])-2)]                                                                                         # third element of list is the geometry type and you need to trim it a bit\n",
    "\n",
    "        if geom_type == \"Polygon\":                                                                                                        # If clauses now to create the geometry\n",
    "            polygon_counter += 1\n",
    "            geom_array = np.array(geom_list, dtype = object)\n",
    "            geom = shapely.Polygon(geom_array[0][0])\n",
    "        if geom_type == \"MultiPolygon\":\n",
    "            MultiPolygon_counter += 1\n",
    "            geom = shapely.MultiPolygon(geom_list[0])\n",
    "        new_column.append(geom)\n",
    "    gdf = df                                                                                                                              # Creating the GeoDataFrame\n",
    "    gdf['Geometry'] = new_column\n",
    "    gdf = gpd.GeoDataFrame(gdf)\n",
    "    return(gdf)\n"
   ]
  },
  {
   "cell_type": "code",
   "execution_count": 25,
   "metadata": {},
   "outputs": [
    {
     "data": {
      "text/html": [
       "\n",
       "            <style>\n",
       "                .geemap-dark {\n",
       "                    --jp-widgets-color: white;\n",
       "                    --jp-widgets-label-color: white;\n",
       "                    --jp-ui-font-color1: white;\n",
       "                    --jp-layout-color2: #454545;\n",
       "                    background-color: #383838;\n",
       "                }\n",
       "\n",
       "                .geemap-dark .jupyter-button {\n",
       "                    --jp-layout-color3: #383838;\n",
       "                }\n",
       "\n",
       "                .geemap-colab {\n",
       "                    background-color: var(--colab-primary-surface-color, white);\n",
       "                }\n",
       "\n",
       "                .geemap-colab .jupyter-button {\n",
       "                    --jp-layout-color3: var(--colab-primary-surface-color, white);\n",
       "                }\n",
       "            </style>\n",
       "            "
      ],
      "text/plain": [
       "<IPython.core.display.HTML object>"
      ]
     },
     "metadata": {},
     "output_type": "display_data"
    },
    {
     "name": "stdout",
     "output_type": "stream",
     "text": [
      "Collecting pyap\n",
      "  Obtaining dependency information for pyap from https://files.pythonhosted.org/packages/53/b2/f0f962a5385d54cd91c153df93932b4996b793f1a2145807823d7f71328d/pyap-0.3.1-py2.py3-none-any.whl.metadata\n",
      "  Downloading pyap-0.3.1-py2.py3-none-any.whl.metadata (3.5 kB)\n",
      "Downloading pyap-0.3.1-py2.py3-none-any.whl (28 kB)\n",
      "Installing collected packages: pyap\n",
      "Successfully installed pyap-0.3.1\n",
      "Note: you may need to restart the kernel to use updated packages.\n"
     ]
    }
   ],
   "source": [
    "\n"
   ]
  },
  {
   "cell_type": "code",
   "execution_count": 7,
   "metadata": {},
   "outputs": [
    {
     "data": {
      "text/html": [
       "\n",
       "            <style>\n",
       "                .geemap-dark {\n",
       "                    --jp-widgets-color: white;\n",
       "                    --jp-widgets-label-color: white;\n",
       "                    --jp-ui-font-color1: white;\n",
       "                    --jp-layout-color2: #454545;\n",
       "                    background-color: #383838;\n",
       "                }\n",
       "\n",
       "                .geemap-dark .jupyter-button {\n",
       "                    --jp-layout-color3: #383838;\n",
       "                }\n",
       "\n",
       "                .geemap-colab {\n",
       "                    background-color: var(--colab-primary-surface-color, white);\n",
       "                }\n",
       "\n",
       "                .geemap-colab .jupyter-button {\n",
       "                    --jp-layout-color3: var(--colab-primary-surface-color, white);\n",
       "                }\n",
       "            </style>\n",
       "            "
      ],
      "text/plain": [
       "<IPython.core.display.HTML object>"
      ]
     },
     "metadata": {},
     "output_type": "display_data"
    },
    {
     "name": "stdout",
     "output_type": "stream",
     "text": [
      "n\n",
      "n\n",
      "n\n",
      "n\n",
      "n\n",
      "n\n",
      "n\n",
      "n\n",
      "n\n",
      "n\n",
      "n\n",
      "n\n",
      "n\n",
      "n\n",
      "n\n",
      "n\n",
      "n\n",
      "n\n",
      "n\n",
      "n\n",
      "n\n",
      "n\n",
      "n\n",
      "n\n",
      "n\n",
      "n\n",
      "n\n",
      "n\n",
      "n\n",
      "n\n",
      "n\n",
      "n\n",
      "n\n",
      "n\n",
      "n\n",
      "n\n",
      "n\n",
      "n\n",
      "n\n",
      "n\n",
      "n\n",
      "n\n",
      "n\n",
      "n\n",
      "n\n",
      "n\n",
      "n\n",
      "n\n",
      "n\n",
      "n\n",
      "n\n",
      "n\n",
      "n\n",
      "n\n",
      "n\n",
      "n\n",
      "n\n",
      "n\n",
      "n\n",
      "n\n",
      "n\n",
      "n\n",
      "n\n"
     ]
    }
   ],
   "source": [
    "from geometryFxns import create_office_geodataframe\n",
    "\n",
    "\n",
    "xompass_gdf = create_office_geodataframe(\"https://www.compass.com/about/offices/\")\n"
   ]
  },
  {
   "cell_type": "code",
   "execution_count": 44,
   "metadata": {},
   "outputs": [
    {
     "data": {
      "text/html": [
       "\n",
       "            <style>\n",
       "                .geemap-dark {\n",
       "                    --jp-widgets-color: white;\n",
       "                    --jp-widgets-label-color: white;\n",
       "                    --jp-ui-font-color1: white;\n",
       "                    --jp-layout-color2: #454545;\n",
       "                    background-color: #383838;\n",
       "                }\n",
       "\n",
       "                .geemap-dark .jupyter-button {\n",
       "                    --jp-layout-color3: #383838;\n",
       "                }\n",
       "\n",
       "                .geemap-colab {\n",
       "                    background-color: var(--colab-primary-surface-color, white);\n",
       "                }\n",
       "\n",
       "                .geemap-colab .jupyter-button {\n",
       "                    --jp-layout-color3: var(--colab-primary-surface-color, white);\n",
       "                }\n",
       "            </style>\n",
       "            "
      ],
      "text/plain": [
       "<IPython.core.display.HTML object>"
      ]
     },
     "metadata": {},
     "output_type": "display_data"
    },
    {
     "name": "stdout",
     "output_type": "stream",
     "text": [
      "number of unreadable addresses is: 244\n",
      "68-70 The Crossing Chappaqua, NY 10514\n",
      "5 Essex Square Essex, CT 06426\n",
      "1 Sasco Hill Road Fairfield, CT 06824\n",
      "89 Whitfield Street Guilford, CT 06437\n",
      "724 Boston Post Road Madison, CT 06443\n",
      "69 Broad St First Floor Stamford, CT 06901\n",
      "2424 Main Street Bridgehampton, NY 11932\n",
      "63 Main Street Hampton, NY 11937\n",
      "n\n",
      "182 Seventh Street Garden City, NY 11530\n",
      "n\n",
      "41 The Plaza Locust Valley, NY 11560\n",
      "485 Underhill Blvd Syosset, NY 11791\n",
      "222 Haddon Avenue Haddon Township, NJ 08108\n",
      "703 Stokes Road Medford, NJ 08055\n",
      "1200 Morris Turnpike Short Hills, NJ 07078\n",
      "126 Newbury Street Boston, MA 02116\n",
      "1330 Boylston Street Chestnut Hill, MA 02467\n",
      "18 Shipyard Dr. Hingham, MA 02043\n",
      "161 Linden Street Wellesley, MA 02482\n",
      "1550 Falmouth Road Centerville, MA 02632\n",
      "681 Falmouth Road Mashpee, MA 02649\n",
      "32 Main Street Orleans, MA 02653\n",
      "n\n",
      "29 Meetinghouse Ln Little Compton, RI 02837\n",
      "369 S Main St Providence, RI 02903\n",
      "235 Main Street Wakefield, RI 02879\n",
      "210 Upper St. Clair, PA 15241\n",
      "6021 Wallace Road Ext. Wexford, PA 15090\n",
      "429 Broad Street Sewickley, PA 15143\n",
      "2077 Somerville Road Annapolis, MD 21401\n",
      "3001 Washington Blvd Arlington, VA 22201\n",
      "921 E. Fort Ave. Baltimore, MD 21230\n",
      "7200 Wisconsin Avenue Bethesda, MD 20814\n",
      "5471 Wisconsin Ave Chevy Chase, MD 20815\n",
      "6849 Old Dominion Drive McLean, VA 22101\n",
      "12435 Park Potomac Avenue Potomac, MD 20854\n",
      "6367 Rolling Mill Place Springfield, VA 22152\n",
      "111 Church St Vienna, VA 22180\n",
      "n\n",
      "7100 Forest Ave Richmond, VA 23226\n",
      "201 Fenton Gateway Drive Cary, NC 27511\n",
      "101 Glen Lennox Drive Chapel Hill, NC 27517\n",
      "4525 Sharon Rd Charlotte, NC 28211\n",
      "3800 Glenwood Ave Raleigh, NC 27612\n",
      "8119 Isabella Lane Brentwood, TN 37027\n",
      "3990 Hillsboro Pike Nashville, TN 37215\n",
      "530 W Main Street Hendersonville, TN 37075\n",
      "1982 Providence Parkway Mt. Juliet, TN 37122\n",
      "1610 West End Avenue Nashville, TN 37203\n",
      "4025 Hillsboro Pike Nashville, TN 37215\n",
      "557 Sam Ridley Parkway Smyrma, TN 37167\n",
      "4031 Aspen Grove Drive Franklin, TN 37067\n",
      "1021 Highway 90 Bay St. Louis, MS 39520\n",
      "2554 Beach Blvd. Biloxi, MS 39531\n",
      "3060 Peachtree Road Atlanta, GA 30305\n",
      "2475 Northwinds Parkway Alpharetta, GA 30009\n",
      "7940 Via Dellagio Way Orlando, FL 32819\n",
      "3615 Bromley Grand Avenue Tampa, FL 33607\n",
      "605 Lincoln Road Miami Beach, FL 33139\n",
      "2875 NE 191st Street Aventura, FL 33180\n",
      "101 N Federal Highway Boca Raton, FL 33432\n",
      "2550 South Bayshore Drive Miami, FL 33133\n",
      "1200 East Las Olas Boulevard Fort Lauderdale, FL 33301\n",
      "1930 Harrison Street Hollywood, FL 33020\n",
      "800 Laurel Oak Drive Naples, FL 34108\n",
      "150 Worth Avenue Palm Beach, FL 33480\n",
      "1515 Sunset Dr. Coral Gables, FL 33143\n",
      "90144 Overseas Hwy Tavernier Office, FL 33070\n",
      "2500 Weston Road Weston, FL 33331\n",
      "480 Hibiscus Street West Palm Beach, FL 33401\n",
      "806 S Taylor Street Covington, LA 70433\n",
      "3 Riverbriar Court Destrehan, LA 70047\n",
      "710 Railroad SW Ave. Hammond, LA 70403\n",
      "2400 Veterans Memorial Blvd Kenner, LA 70062\n",
      "1041 Veterans Blvd Metairie, LA 70005\n",
      "1700 City Farm Drive Baton Rouge, LA 70806\n",
      "209 W. Main Street New Ilberia, LA 70560\n",
      "7414 Perkins Rd. Baton Rouge, LA 70808\n",
      "200 Broadway Street New Orleans, LA 70118\n",
      "220 Prescott Blvd Youngsville, LA 70592\n",
      "10 E. Main Street Carmel, IN 46032\n",
      "n\n",
      "5420 College Ave Indianapolis, IN 46220\n",
      "11 S Evergreen Ave Arlington Heights, IL 60005\n",
      "105 E Galena Blvd Aurora, IL 60505\n",
      "479 N Main St Glen Ellyn, IL 60137\n",
      "1866 Second St. Highland Park, IL 60035\n",
      "280 E Deerpath Road Lake Forest, IL 60045\n",
      "1107 Park Avenue Libertyville, IL 60048\n",
      "2350 North Lincoln Avenue Chicago, IL 60614\n",
      "55 S Main Street Naperville, IL 60540\n",
      "7375 W. North Ave River Forest, IL 60305\n",
      "55 E Erie Street Chicago, IL 60611\n",
      "703 W Main St Geneva, WI 53147\n",
      "n\n",
      "101 Geneva National Ave South Lake Geneva, WI 53147\n",
      "751 Geneva Pkwy North Lake Geneva, WI 53147\n",
      "11220 W Burleigh St Wauwatosa, WI 53222\n",
      "8909 N Port Washington Rd Milwaukee, WI 53217\n",
      "900 W. 48th Place Kansas City, MO 64112\n",
      "230 E Hopkins Ave Aspen, CO 81611\n",
      "790 East Valley Road Basalt, CO 81621\n",
      "1470 Walnut St Boulder, CO 80304\n",
      "200 Columbine Street Denver, CO 80206\n",
      "683 Meridian Lake Drive Crested Butte, CO 81124\n",
      "4643 S Ulster St Denver, CO 80237\n",
      "1900 W 32nd Ave Denver, CO 80211\n",
      "6699 17 Kearns Rd Snowmass Village, CO 81615\n",
      "941 Lincoln Ave Steamboat Springs, CO 80487\n",
      "141 East Meadow Drive Vail, CO 81657\n",
      "5049 Edwards Ranch Road Fort Worth, TX 76109\n",
      "6220 Gaston Ave Dallas, TX 75214\n",
      "2595 Dallas Parkway Frisco, TX 75034\n",
      "5960 Berkshire Lane Dallas, TX 75225\n",
      "550 Reserve Street Southlake, TX 76092\n",
      "2500 Bee Caves Road Austin, TX 78746\n",
      "4200 Westheimer Road Houston, TX 77027\n",
      "24275 Katy Fwy Katy, TX 77494\n",
      "12525 Memorial Drive Houston, TX 77024\n",
      "600 N Shepherd Dr Houston, TX 77007\n",
      "n\n",
      "1800 Hughes Landing Blvd The Woodlands, TX 77380\n",
      "1953 San Elijo Avenue Cardiff, CA 92007\n",
      "5796 Armada Drive Carlsbad, CA 92008\n",
      "401 West A Street San Diego, CA 92101\n",
      "7863 Girard Avenue La Jolla, CA 92037\n",
      "8889 Rio San Diego Drive San Diego, CA 92108\n",
      "3717 S. La Brea Avenue Los Angeles, CA 90016\n",
      "5575 Pine Knot Avenue Unit A Big Bear Lake, CA 92315\n",
      "11601 Wilshire Boulevard Los Angeles, CA 90025\n",
      "33522 Niguel Road Dana Point, CA 92629\n",
      "1221 Hermosa Avenue Hermosa Beach, CA 90254\n",
      "5715 North Figueroa Street Los Angeles, CA 90042\n",
      "6430 Sunset Boulevard Los Angeles, CA 90028\n",
      "303 3rd Street Huntington Beach, CA 92648\n",
      "540 South Coast Highway Laguna Beach, CA 92651\n",
      "6460 Pacific Coast Hwy Long Beach, CA 90803\n",
      "23410 Civic Center Way Malibu, CA 90265\n",
      "24903 Pacific Coast Highway Malibu, CA 90265\n",
      "1600 Newport Center Drive Newport Beach, CA 92660\n",
      "520 Newport Center Drive Newport Beach, CA 92660\n",
      "15207 Sunset Boulevard Pacific Palisades, CA 90272\n",
      "74-199 El Paseo Drive Palm Desert, CA 92260\n",
      "830 N. Palm Canyon Drive Palm Springs, CA 92262\n",
      "550 Silver Spur Rd Rancho Palos Verdes, CA 90275\n",
      "680 E. Colorado Blvd Pasadena, CA 91101\n",
      "2115 Main Street Santa Monica, CA 90405\n",
      "14140 Ventura Boulevard Sherman Oaks, CA 91423\n",
      "8560 Sunset Boulevard Los Angeles, CA 90069\n",
      "21250 Hawthorne Blvd Torrance, CA 90503\n",
      "2945 Townsgate Road Westlake Village, CA 91361\n",
      "134 West Branch Street Arroyo Grande, CA 93420\n",
      "1101 Coast Village Road Montecito, CA 93108\n",
      "511 North H Street Lompoc, CA 93436\n",
      "1550 Tiburon Boulevard Belvedere, CA 94920\n",
      "1625 Shattuck Avenue Berkeley, CA 94709\n",
      "1440 Chapin Avenue Burlingame, CA 94010\n",
      "39488 Stevenson Place Fremont, CA 94539\n",
      "300 Drakes Landing Road Greenbrae, CA 94904\n",
      "3595 Mount Diablo Boulevard Lafayette, CA 94549\n",
      "2059 3rd St Livermore, CA 94550\n",
      "270 3rd Street Los Altos, CA 94022\n",
      "750 University Avenue Los Gatos, CA 95032\n",
      "350 Woodview Ave Morgan Hill, CA 95037\n",
      "1300 First Street Napa, CA 94559\n",
      "900 Main Street Pleasanton, CA 94566\n",
      "23 Ross Common Ross, CA 94957\n",
      "1346 Main Street St. Helena, CA 94574\n",
      "2921 The Village Parkway San Jose, CA 95135\n",
      "n\n",
      "1702 4th Street Santa Rosa, CA 95404\n",
      "12772 Saratoga Sunnyvale Road Saratoga, CA 95070\n",
      "135 W. Napa Street Sonoma, CA 95476\n",
      "1646 N. California Boulevard Walnut Creek, CA 94596\n",
      "65 Foothill Blvd Road Reno, NV 89511\n",
      "165 River Road Tahoe City, CA 96145\n",
      "2999 Douglas Blvd Roseville, CA 95661\n",
      "501 E. Pike Street Seattle, WA 98122\n",
      "837 N 34th Street Seattle, WA 98103\n",
      "18 Haven Road Eastsound, WA 98245\n",
      "5005 Main St Tacoma, WA 98407\n",
      "4701 S 19th Street Tacoma, WA 98402\n",
      "11901 NE Village Plaza Kirkland, WA 98034\n",
      "10 Front St Coupervill, WA 98239\n",
      "75-1029 Henry St Kailua-Kona, HI 96740\n",
      "65-1230 Mamalahoa Hwy Kamuela, HI 96743\n",
      "2555 Ala Namahana Pkwy Kilauea, HI 96754\n",
      "2829 Ala Kalanikaumaka St. Koloa, HI 96756\n",
      "3750 Wailea Alanui Drive Kihei, HI 96753\n",
      "325 Keawe Street Lahaina, HI 96761\n",
      "14885 Sporting Club Rd Jackson, WY 83001\n",
      "1120 S Rackham Way Meridian, ID 83642\n",
      "8 N Main Street Victor, ID 83455\n",
      "n\n",
      "8711 E. Pinnacle Peak Rd Scottsdale, AZ 85255\n"
     ]
    }
   ],
   "source": [
    "## To impliment into geometryFxns.py to ensure more addresses are geocoded\n",
    "print(\"number of unreadable addresses is:\", len(xompass_gdf[xompass_gdf['geometry'] == None]))\n",
    "\n",
    "\n",
    "for index, item in enumerate(xompass_gdf['geometry']):\n",
    "    if item == None:\n",
    "        office_location = xompass_gdf['office_location'][index]\n",
    "        address = pyap.parse(office_location, country='US')\n",
    "        if len(address) > 0:\n",
    "            address_dict = address[0].as_dict()\n",
    "            codeable_address = str(address_dict['street_number'] + ' ' + address_dict['street_name'] + ' ' + address_dict['street_type'] + ' ' + address_dict['city'] + ', ' + address_dict['region1'] + ' ' + address_dict['postal_code'])\n",
    "            print(codeable_address)\n",
    "            xompass_gdf.loc[index, 'geometry'] = geometryFxns.geocode_address(codeable_address)\n",
    "\n",
    "\n",
    "        \n"
   ]
  },
  {
   "cell_type": "code",
   "execution_count": 94,
   "metadata": {},
   "outputs": [
    {
     "data": {
      "text/html": [
       "\n",
       "            <style>\n",
       "                .geemap-dark {\n",
       "                    --jp-widgets-color: white;\n",
       "                    --jp-widgets-label-color: white;\n",
       "                    --jp-ui-font-color1: white;\n",
       "                    --jp-layout-color2: #454545;\n",
       "                    background-color: #383838;\n",
       "                }\n",
       "\n",
       "                .geemap-dark .jupyter-button {\n",
       "                    --jp-layout-color3: #383838;\n",
       "                }\n",
       "\n",
       "                .geemap-colab {\n",
       "                    background-color: var(--colab-primary-surface-color, white);\n",
       "                }\n",
       "\n",
       "                .geemap-colab .jupyter-button {\n",
       "                    --jp-layout-color3: var(--colab-primary-surface-color, white);\n",
       "                }\n",
       "            </style>\n",
       "            "
      ],
      "text/plain": [
       "<IPython.core.display.HTML object>"
      ]
     },
     "metadata": {},
     "output_type": "display_data"
    },
    {
     "name": "stdout",
     "output_type": "stream",
     "text": [
      "number of unreadable addresses is: 105\n"
     ]
    }
   ],
   "source": [
    "print('number of unreadable addresses is:', len(xompass_gdf[xompass_gdf['geometry'] == None]))\n",
    "\n",
    "\n",
    "def create_map_with_geoms(gdf):\n",
    "    \n",
    "    #df = create_office_geodataframe(url)\n",
    "    # Create a map centered on the mean of all points\n",
    "    no_missing_gdf = gdf[gdf['geometry'] != None]\n",
    "    points = [[point.xy[1][0], point.xy[0][0]] for point in no_missing_gdf['geometry']]\n",
    "    center_lat = sum(points[0][0] for point in points) / len(no_missing_gdf)\n",
    "    center_lon = sum(points[0][1] for point in points) / len(no_missing_gdf)\n",
    "    \n",
    "    m = folium.Map(location=[center_lat, center_lon], zoom_start=4)\n",
    "    \n",
    "    # Add each geometry to the map\n",
    "    for i in range(len(no_missing_gdf)):\n",
    "        row = no_missing_gdf.iloc[i]\n",
    "        geom = row['geometry']\n",
    "        folium.Marker(\n",
    "            points[i],\n",
    "\n",
    "            popup=f\"{row['office_title']}<br>{row['office_location']}<br>{row['office_phone_number']}\"\n",
    "        ).add_to(m)\n",
    "    \n",
    "    filepath = 'map.html'\n",
    "    m.save(filepath)\n",
    "    return \n",
    "\n",
    "create_map_with_geoms(xompass_gdf)\n",
    "\n",
    "#xompass_gdf.to_file('compass_geodata.csv', driver = \"CSV\", geometry = \"AS_WKT\")\n",
    "# import webbrowser\n",
    "# webbrowser.open('map.html')\n"
   ]
  },
  {
   "cell_type": "code",
   "execution_count": 5,
   "metadata": {},
   "outputs": [
    {
     "data": {
      "text/html": [
       "\n",
       "            <style>\n",
       "                .geemap-dark {\n",
       "                    --jp-widgets-color: white;\n",
       "                    --jp-widgets-label-color: white;\n",
       "                    --jp-ui-font-color1: white;\n",
       "                    --jp-layout-color2: #454545;\n",
       "                    background-color: #383838;\n",
       "                }\n",
       "\n",
       "                .geemap-dark .jupyter-button {\n",
       "                    --jp-layout-color3: #383838;\n",
       "                }\n",
       "\n",
       "                .geemap-colab {\n",
       "                    background-color: var(--colab-primary-surface-color, white);\n",
       "                }\n",
       "\n",
       "                .geemap-colab .jupyter-button {\n",
       "                    --jp-layout-color3: var(--colab-primary-surface-color, white);\n",
       "                }\n",
       "            </style>\n",
       "            "
      ],
      "text/plain": [
       "<IPython.core.display.HTML object>"
      ]
     },
     "metadata": {},
     "output_type": "display_data"
    },
    {
     "name": "stdout",
     "output_type": "stream",
     "text": [
      "Hello from the Earth Engine servers!\n"
     ]
    }
   ],
   "source": [
    "\n",
    "print(ee.String('Hello from the Earth Engine servers!').getInfo())"
   ]
  },
  {
   "cell_type": "code",
   "execution_count": 5,
   "metadata": {},
   "outputs": [
    {
     "data": {
      "text/html": [
       "\n",
       "            <style>\n",
       "                .geemap-dark {\n",
       "                    --jp-widgets-color: white;\n",
       "                    --jp-widgets-label-color: white;\n",
       "                    --jp-ui-font-color1: white;\n",
       "                    --jp-layout-color2: #454545;\n",
       "                    background-color: #383838;\n",
       "                }\n",
       "\n",
       "                .geemap-dark .jupyter-button {\n",
       "                    --jp-layout-color3: #383838;\n",
       "                }\n",
       "\n",
       "                .geemap-colab {\n",
       "                    background-color: var(--colab-primary-surface-color, white);\n",
       "                }\n",
       "\n",
       "                .geemap-colab .jupyter-button {\n",
       "                    --jp-layout-color3: var(--colab-primary-surface-color, white);\n",
       "                }\n",
       "            </style>\n",
       "            "
      ],
      "text/plain": [
       "<IPython.core.display.HTML object>"
      ]
     },
     "metadata": {},
     "output_type": "display_data"
    },
    {
     "name": "stdout",
     "output_type": "stream",
     "text": [
      "ee.Date({\n",
      "  \"functionInvocationValue\": {\n",
      "    \"functionName\": \"Date\",\n",
      "    \"arguments\": {\n",
      "      \"value\": {\n",
      "        \"constantValue\": 1724781664854\n",
      "      }\n",
      "    }\n",
      "  }\n",
      "})\n"
     ]
    },
    {
     "name": "stderr",
     "output_type": "stream",
     "text": [
      "C:\\Users\\Tyler Marino\\AppData\\Local\\Temp\\ipykernel_22612\\3424296761.py:3: DeprecationWarning: datetime.datetime.utcfromtimestamp() is deprecated and scheduled for removal in a future version. Use timezone-aware objects to represent datetimes in UTC: datetime.datetime.fromtimestamp(timestamp, datetime.UTC).\n",
      "  py_date = dt.datetime.utcfromtimestamp(ee_date.getInfo()['value']/1000)\n",
      "C:\\Users\\Tyler Marino\\AppData\\Local\\Temp\\ipykernel_22612\\3424296761.py:7: DeprecationWarning: datetime.datetime.utcnow() is deprecated and scheduled for removal in a future version. Use timezone-aware objects to represent datetimes in UTC: datetime.datetime.now(datetime.UTC).\n",
      "  py_date = dt.datetime.utcnow()\n"
     ]
    }
   ],
   "source": [
    "#ee date to python date\n",
    "ee_date = ee.Date('2020-02-12')\n",
    "py_date = dt.datetime.utcfromtimestamp(ee_date.getInfo()['value']/1000)\n",
    "py_date\n",
    "\n",
    "#python date to ee date\n",
    "py_date = dt.datetime.utcnow()\n",
    "ee_date = ee.Date(py_date)\n",
    "print(ee_date)"
   ]
  },
  {
   "cell_type": "code",
   "execution_count": 74,
   "metadata": {},
   "outputs": [
    {
     "data": {
      "text/html": [
       "\n",
       "            <style>\n",
       "                .geemap-dark {\n",
       "                    --jp-widgets-color: white;\n",
       "                    --jp-widgets-label-color: white;\n",
       "                    --jp-ui-font-color1: white;\n",
       "                    --jp-layout-color2: #454545;\n",
       "                    background-color: #383838;\n",
       "                }\n",
       "\n",
       "                .geemap-dark .jupyter-button {\n",
       "                    --jp-layout-color3: #383838;\n",
       "                }\n",
       "\n",
       "                .geemap-colab {\n",
       "                    background-color: var(--colab-primary-surface-color, white);\n",
       "                }\n",
       "\n",
       "                .geemap-colab .jupyter-button {\n",
       "                    --jp-layout-color3: var(--colab-primary-surface-color, white);\n",
       "                }\n",
       "            </style>\n",
       "            "
      ],
      "text/plain": [
       "<IPython.core.display.HTML object>"
      ]
     },
     "metadata": {},
     "output_type": "display_data"
    },
    {
     "name": "stdout",
     "output_type": "stream",
     "text": [
      "Requirement already satisfied: requests in c:\\users\\tyler marino\\documents\\anaconda\\envs\\epsvenvv\\lib\\site-packages (2.32.3)\n",
      "Requirement already satisfied: charset-normalizer<4,>=2 in c:\\users\\tyler marino\\documents\\anaconda\\envs\\epsvenvv\\lib\\site-packages (from requests) (3.3.2)\n",
      "Requirement already satisfied: idna<4,>=2.5 in c:\\users\\tyler marino\\documents\\anaconda\\envs\\epsvenvv\\lib\\site-packages (from requests) (3.7)\n",
      "Requirement already satisfied: urllib3<3,>=1.21.1 in c:\\users\\tyler marino\\documents\\anaconda\\envs\\epsvenvv\\lib\\site-packages (from requests) (2.2.2)\n",
      "Requirement already satisfied: certifi>=2017.4.17 in c:\\users\\tyler marino\\documents\\anaconda\\envs\\epsvenvv\\lib\\site-packages (from requests) (2024.7.4)\n",
      "Note: you may need to restart the kernel to use updated packages.\n"
     ]
    }
   ],
   "source": []
  },
  {
   "cell_type": "code",
   "execution_count": null,
   "metadata": {},
   "outputs": [],
   "source": [
    "###How to export images\n",
    "\n",
    "# task = ee.batch.Export.image.toDrive(image=my_image,  # an ee.Image object.\n",
    "#                                      region=my_geometry,  # an ee.Geometry object.\n",
    "#                                      description='mock_export',\n",
    "#                                      folder='gdrive_folder',\n",
    "#                                      fileNamePrefix='mock_export',\n",
    "#                                      scale=1000,\n",
    "#                                      crs='EPSG:4326')\n",
    "# task.start()\n",
    "# task.status()\n",
    "\n"
   ]
  },
  {
   "cell_type": "code",
   "execution_count": 95,
   "metadata": {},
   "outputs": [
    {
     "data": {
      "text/html": [
       "\n",
       "            <style>\n",
       "                .geemap-dark {\n",
       "                    --jp-widgets-color: white;\n",
       "                    --jp-widgets-label-color: white;\n",
       "                    --jp-ui-font-color1: white;\n",
       "                    --jp-layout-color2: #454545;\n",
       "                    background-color: #383838;\n",
       "                }\n",
       "\n",
       "                .geemap-dark .jupyter-button {\n",
       "                    --jp-layout-color3: #383838;\n",
       "                }\n",
       "\n",
       "                .geemap-colab {\n",
       "                    background-color: var(--colab-primary-surface-color, white);\n",
       "                }\n",
       "\n",
       "                .geemap-colab .jupyter-button {\n",
       "                    --jp-layout-color3: var(--colab-primary-surface-color, white);\n",
       "                }\n",
       "            </style>\n",
       "            "
      ],
      "text/plain": [
       "<IPython.core.display.HTML object>"
      ]
     },
     "metadata": {},
     "output_type": "display_data"
    },
    {
     "ename": "FileNotFoundError",
     "evalue": "[Errno 2] No such file or directory: 'us-state-boundaries.csv'",
     "output_type": "error",
     "traceback": [
      "\u001b[1;31m---------------------------------------------------------------------------\u001b[0m",
      "\u001b[1;31mFileNotFoundError\u001b[0m                         Traceback (most recent call last)",
      "Cell \u001b[1;32mIn[95], line 3\u001b[0m\n\u001b[0;32m      1\u001b[0m \u001b[38;5;66;03m### Get geometries\u001b[39;00m\n\u001b[1;32m----> 3\u001b[0m States_geoms \u001b[38;5;241m=\u001b[39m \u001b[43mpd\u001b[49m\u001b[38;5;241;43m.\u001b[39;49m\u001b[43mread_csv\u001b[49m\u001b[43m(\u001b[49m\u001b[38;5;124;43m\"\u001b[39;49m\u001b[38;5;124;43mus-state-boundaries.csv\u001b[39;49m\u001b[38;5;124;43m\"\u001b[39;49m\u001b[43m,\u001b[49m\u001b[43m \u001b[49m\u001b[43mdelimiter\u001b[49m\u001b[38;5;241;43m=\u001b[39;49m\u001b[38;5;124;43m'\u001b[39;49m\u001b[38;5;124;43m;\u001b[39;49m\u001b[38;5;124;43m'\u001b[39;49m\u001b[43m)\u001b[49m\n\u001b[0;32m      4\u001b[0m County_geoms \u001b[38;5;241m=\u001b[39m pd\u001b[38;5;241m.\u001b[39mread_csv(\u001b[38;5;124m\"\u001b[39m\u001b[38;5;124mus-county-boundaries.csv\u001b[39m\u001b[38;5;124m\"\u001b[39m, delimiter\u001b[38;5;241m=\u001b[39m \u001b[38;5;124m'\u001b[39m\u001b[38;5;124m;\u001b[39m\u001b[38;5;124m'\u001b[39m)\n\u001b[0;32m      9\u001b[0m County_geoms\u001b[38;5;241m.\u001b[39mtail()\n",
      "File \u001b[1;32mc:\\Users\\Tyler Marino\\Documents\\anaconda\\envs\\epsvenvv\\Lib\\site-packages\\pandas\\io\\parsers\\readers.py:1026\u001b[0m, in \u001b[0;36mread_csv\u001b[1;34m(filepath_or_buffer, sep, delimiter, header, names, index_col, usecols, dtype, engine, converters, true_values, false_values, skipinitialspace, skiprows, skipfooter, nrows, na_values, keep_default_na, na_filter, verbose, skip_blank_lines, parse_dates, infer_datetime_format, keep_date_col, date_parser, date_format, dayfirst, cache_dates, iterator, chunksize, compression, thousands, decimal, lineterminator, quotechar, quoting, doublequote, escapechar, comment, encoding, encoding_errors, dialect, on_bad_lines, delim_whitespace, low_memory, memory_map, float_precision, storage_options, dtype_backend)\u001b[0m\n\u001b[0;32m   1013\u001b[0m kwds_defaults \u001b[38;5;241m=\u001b[39m _refine_defaults_read(\n\u001b[0;32m   1014\u001b[0m     dialect,\n\u001b[0;32m   1015\u001b[0m     delimiter,\n\u001b[1;32m   (...)\u001b[0m\n\u001b[0;32m   1022\u001b[0m     dtype_backend\u001b[38;5;241m=\u001b[39mdtype_backend,\n\u001b[0;32m   1023\u001b[0m )\n\u001b[0;32m   1024\u001b[0m kwds\u001b[38;5;241m.\u001b[39mupdate(kwds_defaults)\n\u001b[1;32m-> 1026\u001b[0m \u001b[38;5;28;01mreturn\u001b[39;00m \u001b[43m_read\u001b[49m\u001b[43m(\u001b[49m\u001b[43mfilepath_or_buffer\u001b[49m\u001b[43m,\u001b[49m\u001b[43m \u001b[49m\u001b[43mkwds\u001b[49m\u001b[43m)\u001b[49m\n",
      "File \u001b[1;32mc:\\Users\\Tyler Marino\\Documents\\anaconda\\envs\\epsvenvv\\Lib\\site-packages\\pandas\\io\\parsers\\readers.py:620\u001b[0m, in \u001b[0;36m_read\u001b[1;34m(filepath_or_buffer, kwds)\u001b[0m\n\u001b[0;32m    617\u001b[0m _validate_names(kwds\u001b[38;5;241m.\u001b[39mget(\u001b[38;5;124m\"\u001b[39m\u001b[38;5;124mnames\u001b[39m\u001b[38;5;124m\"\u001b[39m, \u001b[38;5;28;01mNone\u001b[39;00m))\n\u001b[0;32m    619\u001b[0m \u001b[38;5;66;03m# Create the parser.\u001b[39;00m\n\u001b[1;32m--> 620\u001b[0m parser \u001b[38;5;241m=\u001b[39m \u001b[43mTextFileReader\u001b[49m\u001b[43m(\u001b[49m\u001b[43mfilepath_or_buffer\u001b[49m\u001b[43m,\u001b[49m\u001b[43m \u001b[49m\u001b[38;5;241;43m*\u001b[39;49m\u001b[38;5;241;43m*\u001b[39;49m\u001b[43mkwds\u001b[49m\u001b[43m)\u001b[49m\n\u001b[0;32m    622\u001b[0m \u001b[38;5;28;01mif\u001b[39;00m chunksize \u001b[38;5;129;01mor\u001b[39;00m iterator:\n\u001b[0;32m    623\u001b[0m     \u001b[38;5;28;01mreturn\u001b[39;00m parser\n",
      "File \u001b[1;32mc:\\Users\\Tyler Marino\\Documents\\anaconda\\envs\\epsvenvv\\Lib\\site-packages\\pandas\\io\\parsers\\readers.py:1620\u001b[0m, in \u001b[0;36mTextFileReader.__init__\u001b[1;34m(self, f, engine, **kwds)\u001b[0m\n\u001b[0;32m   1617\u001b[0m     \u001b[38;5;28mself\u001b[39m\u001b[38;5;241m.\u001b[39moptions[\u001b[38;5;124m\"\u001b[39m\u001b[38;5;124mhas_index_names\u001b[39m\u001b[38;5;124m\"\u001b[39m] \u001b[38;5;241m=\u001b[39m kwds[\u001b[38;5;124m\"\u001b[39m\u001b[38;5;124mhas_index_names\u001b[39m\u001b[38;5;124m\"\u001b[39m]\n\u001b[0;32m   1619\u001b[0m \u001b[38;5;28mself\u001b[39m\u001b[38;5;241m.\u001b[39mhandles: IOHandles \u001b[38;5;241m|\u001b[39m \u001b[38;5;28;01mNone\u001b[39;00m \u001b[38;5;241m=\u001b[39m \u001b[38;5;28;01mNone\u001b[39;00m\n\u001b[1;32m-> 1620\u001b[0m \u001b[38;5;28mself\u001b[39m\u001b[38;5;241m.\u001b[39m_engine \u001b[38;5;241m=\u001b[39m \u001b[38;5;28;43mself\u001b[39;49m\u001b[38;5;241;43m.\u001b[39;49m\u001b[43m_make_engine\u001b[49m\u001b[43m(\u001b[49m\u001b[43mf\u001b[49m\u001b[43m,\u001b[49m\u001b[43m \u001b[49m\u001b[38;5;28;43mself\u001b[39;49m\u001b[38;5;241;43m.\u001b[39;49m\u001b[43mengine\u001b[49m\u001b[43m)\u001b[49m\n",
      "File \u001b[1;32mc:\\Users\\Tyler Marino\\Documents\\anaconda\\envs\\epsvenvv\\Lib\\site-packages\\pandas\\io\\parsers\\readers.py:1880\u001b[0m, in \u001b[0;36mTextFileReader._make_engine\u001b[1;34m(self, f, engine)\u001b[0m\n\u001b[0;32m   1878\u001b[0m     \u001b[38;5;28;01mif\u001b[39;00m \u001b[38;5;124m\"\u001b[39m\u001b[38;5;124mb\u001b[39m\u001b[38;5;124m\"\u001b[39m \u001b[38;5;129;01mnot\u001b[39;00m \u001b[38;5;129;01min\u001b[39;00m mode:\n\u001b[0;32m   1879\u001b[0m         mode \u001b[38;5;241m+\u001b[39m\u001b[38;5;241m=\u001b[39m \u001b[38;5;124m\"\u001b[39m\u001b[38;5;124mb\u001b[39m\u001b[38;5;124m\"\u001b[39m\n\u001b[1;32m-> 1880\u001b[0m \u001b[38;5;28mself\u001b[39m\u001b[38;5;241m.\u001b[39mhandles \u001b[38;5;241m=\u001b[39m \u001b[43mget_handle\u001b[49m\u001b[43m(\u001b[49m\n\u001b[0;32m   1881\u001b[0m \u001b[43m    \u001b[49m\u001b[43mf\u001b[49m\u001b[43m,\u001b[49m\n\u001b[0;32m   1882\u001b[0m \u001b[43m    \u001b[49m\u001b[43mmode\u001b[49m\u001b[43m,\u001b[49m\n\u001b[0;32m   1883\u001b[0m \u001b[43m    \u001b[49m\u001b[43mencoding\u001b[49m\u001b[38;5;241;43m=\u001b[39;49m\u001b[38;5;28;43mself\u001b[39;49m\u001b[38;5;241;43m.\u001b[39;49m\u001b[43moptions\u001b[49m\u001b[38;5;241;43m.\u001b[39;49m\u001b[43mget\u001b[49m\u001b[43m(\u001b[49m\u001b[38;5;124;43m\"\u001b[39;49m\u001b[38;5;124;43mencoding\u001b[39;49m\u001b[38;5;124;43m\"\u001b[39;49m\u001b[43m,\u001b[49m\u001b[43m \u001b[49m\u001b[38;5;28;43;01mNone\u001b[39;49;00m\u001b[43m)\u001b[49m\u001b[43m,\u001b[49m\n\u001b[0;32m   1884\u001b[0m \u001b[43m    \u001b[49m\u001b[43mcompression\u001b[49m\u001b[38;5;241;43m=\u001b[39;49m\u001b[38;5;28;43mself\u001b[39;49m\u001b[38;5;241;43m.\u001b[39;49m\u001b[43moptions\u001b[49m\u001b[38;5;241;43m.\u001b[39;49m\u001b[43mget\u001b[49m\u001b[43m(\u001b[49m\u001b[38;5;124;43m\"\u001b[39;49m\u001b[38;5;124;43mcompression\u001b[39;49m\u001b[38;5;124;43m\"\u001b[39;49m\u001b[43m,\u001b[49m\u001b[43m \u001b[49m\u001b[38;5;28;43;01mNone\u001b[39;49;00m\u001b[43m)\u001b[49m\u001b[43m,\u001b[49m\n\u001b[0;32m   1885\u001b[0m \u001b[43m    \u001b[49m\u001b[43mmemory_map\u001b[49m\u001b[38;5;241;43m=\u001b[39;49m\u001b[38;5;28;43mself\u001b[39;49m\u001b[38;5;241;43m.\u001b[39;49m\u001b[43moptions\u001b[49m\u001b[38;5;241;43m.\u001b[39;49m\u001b[43mget\u001b[49m\u001b[43m(\u001b[49m\u001b[38;5;124;43m\"\u001b[39;49m\u001b[38;5;124;43mmemory_map\u001b[39;49m\u001b[38;5;124;43m\"\u001b[39;49m\u001b[43m,\u001b[49m\u001b[43m \u001b[49m\u001b[38;5;28;43;01mFalse\u001b[39;49;00m\u001b[43m)\u001b[49m\u001b[43m,\u001b[49m\n\u001b[0;32m   1886\u001b[0m \u001b[43m    \u001b[49m\u001b[43mis_text\u001b[49m\u001b[38;5;241;43m=\u001b[39;49m\u001b[43mis_text\u001b[49m\u001b[43m,\u001b[49m\n\u001b[0;32m   1887\u001b[0m \u001b[43m    \u001b[49m\u001b[43merrors\u001b[49m\u001b[38;5;241;43m=\u001b[39;49m\u001b[38;5;28;43mself\u001b[39;49m\u001b[38;5;241;43m.\u001b[39;49m\u001b[43moptions\u001b[49m\u001b[38;5;241;43m.\u001b[39;49m\u001b[43mget\u001b[49m\u001b[43m(\u001b[49m\u001b[38;5;124;43m\"\u001b[39;49m\u001b[38;5;124;43mencoding_errors\u001b[39;49m\u001b[38;5;124;43m\"\u001b[39;49m\u001b[43m,\u001b[49m\u001b[43m \u001b[49m\u001b[38;5;124;43m\"\u001b[39;49m\u001b[38;5;124;43mstrict\u001b[39;49m\u001b[38;5;124;43m\"\u001b[39;49m\u001b[43m)\u001b[49m\u001b[43m,\u001b[49m\n\u001b[0;32m   1888\u001b[0m \u001b[43m    \u001b[49m\u001b[43mstorage_options\u001b[49m\u001b[38;5;241;43m=\u001b[39;49m\u001b[38;5;28;43mself\u001b[39;49m\u001b[38;5;241;43m.\u001b[39;49m\u001b[43moptions\u001b[49m\u001b[38;5;241;43m.\u001b[39;49m\u001b[43mget\u001b[49m\u001b[43m(\u001b[49m\u001b[38;5;124;43m\"\u001b[39;49m\u001b[38;5;124;43mstorage_options\u001b[39;49m\u001b[38;5;124;43m\"\u001b[39;49m\u001b[43m,\u001b[49m\u001b[43m \u001b[49m\u001b[38;5;28;43;01mNone\u001b[39;49;00m\u001b[43m)\u001b[49m\u001b[43m,\u001b[49m\n\u001b[0;32m   1889\u001b[0m \u001b[43m\u001b[49m\u001b[43m)\u001b[49m\n\u001b[0;32m   1890\u001b[0m \u001b[38;5;28;01massert\u001b[39;00m \u001b[38;5;28mself\u001b[39m\u001b[38;5;241m.\u001b[39mhandles \u001b[38;5;129;01mis\u001b[39;00m \u001b[38;5;129;01mnot\u001b[39;00m \u001b[38;5;28;01mNone\u001b[39;00m\n\u001b[0;32m   1891\u001b[0m f \u001b[38;5;241m=\u001b[39m \u001b[38;5;28mself\u001b[39m\u001b[38;5;241m.\u001b[39mhandles\u001b[38;5;241m.\u001b[39mhandle\n",
      "File \u001b[1;32mc:\\Users\\Tyler Marino\\Documents\\anaconda\\envs\\epsvenvv\\Lib\\site-packages\\pandas\\io\\common.py:873\u001b[0m, in \u001b[0;36mget_handle\u001b[1;34m(path_or_buf, mode, encoding, compression, memory_map, is_text, errors, storage_options)\u001b[0m\n\u001b[0;32m    868\u001b[0m \u001b[38;5;28;01melif\u001b[39;00m \u001b[38;5;28misinstance\u001b[39m(handle, \u001b[38;5;28mstr\u001b[39m):\n\u001b[0;32m    869\u001b[0m     \u001b[38;5;66;03m# Check whether the filename is to be opened in binary mode.\u001b[39;00m\n\u001b[0;32m    870\u001b[0m     \u001b[38;5;66;03m# Binary mode does not support 'encoding' and 'newline'.\u001b[39;00m\n\u001b[0;32m    871\u001b[0m     \u001b[38;5;28;01mif\u001b[39;00m ioargs\u001b[38;5;241m.\u001b[39mencoding \u001b[38;5;129;01mand\u001b[39;00m \u001b[38;5;124m\"\u001b[39m\u001b[38;5;124mb\u001b[39m\u001b[38;5;124m\"\u001b[39m \u001b[38;5;129;01mnot\u001b[39;00m \u001b[38;5;129;01min\u001b[39;00m ioargs\u001b[38;5;241m.\u001b[39mmode:\n\u001b[0;32m    872\u001b[0m         \u001b[38;5;66;03m# Encoding\u001b[39;00m\n\u001b[1;32m--> 873\u001b[0m         handle \u001b[38;5;241m=\u001b[39m \u001b[38;5;28;43mopen\u001b[39;49m\u001b[43m(\u001b[49m\n\u001b[0;32m    874\u001b[0m \u001b[43m            \u001b[49m\u001b[43mhandle\u001b[49m\u001b[43m,\u001b[49m\n\u001b[0;32m    875\u001b[0m \u001b[43m            \u001b[49m\u001b[43mioargs\u001b[49m\u001b[38;5;241;43m.\u001b[39;49m\u001b[43mmode\u001b[49m\u001b[43m,\u001b[49m\n\u001b[0;32m    876\u001b[0m \u001b[43m            \u001b[49m\u001b[43mencoding\u001b[49m\u001b[38;5;241;43m=\u001b[39;49m\u001b[43mioargs\u001b[49m\u001b[38;5;241;43m.\u001b[39;49m\u001b[43mencoding\u001b[49m\u001b[43m,\u001b[49m\n\u001b[0;32m    877\u001b[0m \u001b[43m            \u001b[49m\u001b[43merrors\u001b[49m\u001b[38;5;241;43m=\u001b[39;49m\u001b[43merrors\u001b[49m\u001b[43m,\u001b[49m\n\u001b[0;32m    878\u001b[0m \u001b[43m            \u001b[49m\u001b[43mnewline\u001b[49m\u001b[38;5;241;43m=\u001b[39;49m\u001b[38;5;124;43m\"\u001b[39;49m\u001b[38;5;124;43m\"\u001b[39;49m\u001b[43m,\u001b[49m\n\u001b[0;32m    879\u001b[0m \u001b[43m        \u001b[49m\u001b[43m)\u001b[49m\n\u001b[0;32m    880\u001b[0m     \u001b[38;5;28;01melse\u001b[39;00m:\n\u001b[0;32m    881\u001b[0m         \u001b[38;5;66;03m# Binary mode\u001b[39;00m\n\u001b[0;32m    882\u001b[0m         handle \u001b[38;5;241m=\u001b[39m \u001b[38;5;28mopen\u001b[39m(handle, ioargs\u001b[38;5;241m.\u001b[39mmode)\n",
      "\u001b[1;31mFileNotFoundError\u001b[0m: [Errno 2] No such file or directory: 'us-state-boundaries.csv'"
     ]
    }
   ],
   "source": [
    "### Get geometries\n",
    "\n",
    "States_geoms = pd.read_csv(\"us-state-boundaries.csv\", delimiter=';')\n",
    "County_geoms = pd.read_csv(\"us-county-boundaries.csv\", delimiter= ';')\n",
    "\n",
    "\n",
    "\n",
    "\n",
    "County_geoms.tail()\n",
    "\n",
    "\n",
    "\n",
    "# California_coordinates_str = list(States_geoms[States_geoms['name'] == \"California\"][\"St Asgeojson\"])[0][15:(57661-9)]\n",
    "# #print(California_coordinates_str)\n",
    "# sublists = [eval(x.strip()) for x in California_coordinates_str[1:-1].split('],[')]\n",
    "# sublists = sublists\n",
    "# #California_coordinates = ee.featurecollection(sublists)\n",
    "# #California_coordinates\\\n"
   ]
  },
  {
   "cell_type": "code",
   "execution_count": 290,
   "metadata": {},
   "outputs": [
    {
     "data": {
      "text/html": [
       "\n",
       "            <style>\n",
       "                .geemap-dark {\n",
       "                    --jp-widgets-color: white;\n",
       "                    --jp-widgets-label-color: white;\n",
       "                    --jp-ui-font-color1: white;\n",
       "                    --jp-layout-color2: #454545;\n",
       "                    background-color: #383838;\n",
       "                }\n",
       "\n",
       "                .geemap-dark .jupyter-button {\n",
       "                    --jp-layout-color3: #383838;\n",
       "                }\n",
       "\n",
       "                .geemap-colab {\n",
       "                    background-color: var(--colab-primary-surface-color, white);\n",
       "                }\n",
       "\n",
       "                .geemap-colab .jupyter-button {\n",
       "                    --jp-layout-color3: var(--colab-primary-surface-color, white);\n",
       "                }\n",
       "            </style>\n",
       "            "
      ],
      "text/plain": [
       "<IPython.core.display.HTML object>"
      ]
     },
     "metadata": {},
     "output_type": "display_data"
    },
    {
     "ename": "TypeError",
     "evalue": "'float' object is not iterable",
     "output_type": "error",
     "traceback": [
      "\u001b[1;31m---------------------------------------------------------------------------\u001b[0m",
      "\u001b[1;31mTypeError\u001b[0m                                 Traceback (most recent call last)",
      "Cell \u001b[1;32mIn[290], line 1\u001b[0m\n\u001b[1;32m----> 1\u001b[0m \u001b[43mgeometryFxns\u001b[49m\u001b[38;5;241;43m.\u001b[39;49m\u001b[43mStr_element_to_geometry\u001b[49m\u001b[43m(\u001b[49m\u001b[43mCounty_geoms\u001b[49m\u001b[43m,\u001b[49m\u001b[43m \u001b[49m\u001b[38;5;124;43m\"\u001b[39;49m\u001b[38;5;124;43mGeo Shape\u001b[39;49m\u001b[38;5;124;43m\"\u001b[39;49m\u001b[43m)\u001b[49m\n",
      "File \u001b[1;32mc:\\Users\\Tyler Marino\\OneDrive\\Desktop\\EOData\\SanFranciscoObserved\\geometryFxns.py:27\u001b[0m, in \u001b[0;36mStr_element_to_geometry\u001b[1;34m(df, column)\u001b[0m\n\u001b[0;32m     25\u001b[0m     \u001b[38;5;28;01mif\u001b[39;00m geom_type \u001b[38;5;241m==\u001b[39m \u001b[38;5;124m\"\u001b[39m\u001b[38;5;124mMultiPolygon\u001b[39m\u001b[38;5;124m\"\u001b[39m:\n\u001b[0;32m     26\u001b[0m         MultiPolygon_counter \u001b[38;5;241m+\u001b[39m\u001b[38;5;241m=\u001b[39m \u001b[38;5;241m1\u001b[39m\n\u001b[1;32m---> 27\u001b[0m         geom \u001b[38;5;241m=\u001b[39m \u001b[43mshapely\u001b[49m\u001b[38;5;241;43m.\u001b[39;49m\u001b[43mMultiPolygon\u001b[49m\u001b[43m(\u001b[49m\u001b[43mgeom_list\u001b[49m\u001b[43m[\u001b[49m\u001b[38;5;241;43m0\u001b[39;49m\u001b[43m]\u001b[49m\u001b[43m)\u001b[49m\n\u001b[0;32m     28\u001b[0m     new_column\u001b[38;5;241m.\u001b[39mappend(geom)\n\u001b[0;32m     29\u001b[0m gdf \u001b[38;5;241m=\u001b[39m df                                                                                                                              \u001b[38;5;66;03m# Creating the GeoDataFrame\u001b[39;00m\n",
      "File \u001b[1;32mc:\\Users\\Tyler Marino\\Documents\\anaconda\\envs\\epsvenvv\\Lib\\site-packages\\shapely\\geometry\\multipolygon.py:84\u001b[0m, in \u001b[0;36mMultiPolygon.__new__\u001b[1;34m(self, polygons)\u001b[0m\n\u001b[0;32m     82\u001b[0m     \u001b[38;5;28;01melse\u001b[39;00m:\n\u001b[0;32m     83\u001b[0m         holes \u001b[38;5;241m=\u001b[39m \u001b[38;5;28;01mNone\u001b[39;00m\n\u001b[1;32m---> 84\u001b[0m     p \u001b[38;5;241m=\u001b[39m \u001b[43mpolygon\u001b[49m\u001b[38;5;241;43m.\u001b[39;49m\u001b[43mPolygon\u001b[49m\u001b[43m(\u001b[49m\u001b[43mshell\u001b[49m\u001b[43m,\u001b[49m\u001b[43m \u001b[49m\u001b[43mholes\u001b[49m\u001b[43m)\u001b[49m\n\u001b[0;32m     85\u001b[0m \u001b[38;5;28;01melse\u001b[39;00m:\n\u001b[0;32m     86\u001b[0m     p \u001b[38;5;241m=\u001b[39m polygon\u001b[38;5;241m.\u001b[39mPolygon(ob)\n",
      "File \u001b[1;32mc:\\Users\\Tyler Marino\\Documents\\anaconda\\envs\\epsvenvv\\Lib\\site-packages\\shapely\\geometry\\polygon.py:237\u001b[0m, in \u001b[0;36mPolygon.__new__\u001b[1;34m(self, shell, holes)\u001b[0m\n\u001b[0;32m    235\u001b[0m         holes \u001b[38;5;241m=\u001b[39m \u001b[38;5;28;01mNone\u001b[39;00m\n\u001b[0;32m    236\u001b[0m     \u001b[38;5;28;01melse\u001b[39;00m:\n\u001b[1;32m--> 237\u001b[0m         holes \u001b[38;5;241m=\u001b[39m [\u001b[43mLinearRing\u001b[49m\u001b[43m(\u001b[49m\u001b[43mring\u001b[49m\u001b[43m)\u001b[49m \u001b[38;5;28;01mfor\u001b[39;00m ring \u001b[38;5;129;01min\u001b[39;00m holes]\n\u001b[0;32m    239\u001b[0m geom \u001b[38;5;241m=\u001b[39m shapely\u001b[38;5;241m.\u001b[39mpolygons(shell, holes\u001b[38;5;241m=\u001b[39mholes)\n\u001b[0;32m    240\u001b[0m \u001b[38;5;28;01mif\u001b[39;00m \u001b[38;5;129;01mnot\u001b[39;00m \u001b[38;5;28misinstance\u001b[39m(geom, Polygon):\n",
      "File \u001b[1;32mc:\\Users\\Tyler Marino\\Documents\\anaconda\\envs\\epsvenvv\\Lib\\site-packages\\shapely\\geometry\\polygon.py:93\u001b[0m, in \u001b[0;36mLinearRing.__new__\u001b[1;34m(self, coordinates)\u001b[0m\n\u001b[0;32m     90\u001b[0m     \u001b[38;5;28;01melse\u001b[39;00m:\n\u001b[0;32m     91\u001b[0m         \u001b[38;5;28;01mreturn\u001b[39;00m [\u001b[38;5;28mfloat\u001b[39m(c) \u001b[38;5;28;01mfor\u001b[39;00m c \u001b[38;5;129;01min\u001b[39;00m o]\n\u001b[1;32m---> 93\u001b[0m coordinates \u001b[38;5;241m=\u001b[39m np\u001b[38;5;241m.\u001b[39marray([\u001b[43m_coords\u001b[49m\u001b[43m(\u001b[49m\u001b[43mo\u001b[49m\u001b[43m)\u001b[49m \u001b[38;5;28;01mfor\u001b[39;00m o \u001b[38;5;129;01min\u001b[39;00m coordinates])\n\u001b[0;32m     94\u001b[0m \u001b[38;5;28;01mif\u001b[39;00m \u001b[38;5;129;01mnot\u001b[39;00m np\u001b[38;5;241m.\u001b[39missubdtype(coordinates\u001b[38;5;241m.\u001b[39mdtype, np\u001b[38;5;241m.\u001b[39mnumber):\n\u001b[0;32m     95\u001b[0m     \u001b[38;5;66;03m# conversion of coords to 2D array failed, this might be due\u001b[39;00m\n\u001b[0;32m     96\u001b[0m     \u001b[38;5;66;03m# to inconsistent coordinate dimensionality\u001b[39;00m\n\u001b[0;32m     97\u001b[0m     \u001b[38;5;28;01mraise\u001b[39;00m \u001b[38;5;167;01mValueError\u001b[39;00m(\u001b[38;5;124m\"\u001b[39m\u001b[38;5;124mInconsistent coordinate dimensionality\u001b[39m\u001b[38;5;124m\"\u001b[39m)\n",
      "File \u001b[1;32mc:\\Users\\Tyler Marino\\Documents\\anaconda\\envs\\epsvenvv\\Lib\\site-packages\\shapely\\geometry\\polygon.py:91\u001b[0m, in \u001b[0;36mLinearRing.__new__.<locals>._coords\u001b[1;34m(o)\u001b[0m\n\u001b[0;32m     89\u001b[0m     \u001b[38;5;28;01mreturn\u001b[39;00m o\u001b[38;5;241m.\u001b[39mcoords[\u001b[38;5;241m0\u001b[39m]\n\u001b[0;32m     90\u001b[0m \u001b[38;5;28;01melse\u001b[39;00m:\n\u001b[1;32m---> 91\u001b[0m     \u001b[38;5;28;01mreturn\u001b[39;00m [\u001b[38;5;28mfloat\u001b[39m(c) \u001b[38;5;28;01mfor\u001b[39;00m c \u001b[38;5;129;01min\u001b[39;00m o]\n",
      "\u001b[1;31mTypeError\u001b[0m: 'float' object is not iterable"
     ]
    }
   ],
   "source": [
    "geometryFxns.Str_element_to_geometry(County_geoms, \"Geo Shape\")"
   ]
  },
  {
   "cell_type": "code",
   "execution_count": 148,
   "metadata": {},
   "outputs": [
    {
     "data": {
      "text/html": [
       "\n",
       "            <style>\n",
       "                .geemap-dark {\n",
       "                    --jp-widgets-color: white;\n",
       "                    --jp-widgets-label-color: white;\n",
       "                    --jp-ui-font-color1: white;\n",
       "                    --jp-layout-color2: #454545;\n",
       "                    background-color: #383838;\n",
       "                }\n",
       "\n",
       "                .geemap-dark .jupyter-button {\n",
       "                    --jp-layout-color3: #383838;\n",
       "                }\n",
       "\n",
       "                .geemap-colab {\n",
       "                    background-color: var(--colab-primary-surface-color, white);\n",
       "                }\n",
       "\n",
       "                .geemap-colab .jupyter-button {\n",
       "                    --jp-layout-color3: var(--colab-primary-surface-color, white);\n",
       "                }\n",
       "            </style>\n",
       "            "
      ],
      "text/plain": [
       "<IPython.core.display.HTML object>"
      ]
     },
     "metadata": {},
     "output_type": "display_data"
    },
    {
     "name": "stdout",
     "output_type": "stream",
     "text": [
      "coordinates\n",
      "[[[[-92.8870669998142, 45.644148000243], [-92.882504000142, 45.6594709999592], [-92.8789320003316, 45.6656060003126], [-92.8754879996695, 45.6890140000094], [-92.8701450000226, 45.6967569997031], [-92.8717750002922, 45.6997740001271], [-92.8688620000827, 45.7119929997078], [-92.8691929996205, 45.7175679997961], [-92.8625979999958, 45.7222409998213], [-92.8509329996374, 45.7238309999597], [-92.8488510003546, 45.7287509999304], [-92.8289810001934, 45.7337140001747], [-92.8165590003249, 45.7420369999782], [-92.8098369995803, 45.7441720001411], [-92.8049419996471, 45.7479159998752], [-92.8026300002104, 45.751887999756], [-92.7846170000996, 45.7641989997565], [-92.7764819997187, 45.7900039998289], [-92.7720649996364, 45.7952299998324], [-92.761832999904, 45.8012580000347], [-92.7578150000299, 45.8065739999136], [-92.7579470002744, 45.8112159999288], [-92.7656809998989, 45.8272519999053], [-92.7651460001466, 45.8301830001258], [-92.7594579998199, 45.835341000248], [-92.7510839999628, 45.8406169996967], [-92.7455570001929, 45.8414549997674], [-92.7399910000649, 45.8462829999409], [-92.7361170001308, 45.8591290000527], [-92.7382200002284, 45.8620309998893], [-92.7222089999327, 45.8830009998221], [-92.7125029997319, 45.8917049996886], [-92.7063719997144, 45.8954449999269], [-92.6998149997246, 45.8961469998667], [-92.6773519999194, 45.9058179996999], [-92.6757369997184, 45.9074779999995], [-92.6761669998887, 45.9120720000179], [-92.6595489998708, 45.9229370002274], [-92.6555579997608, 45.9245860000511], [-92.6391199996679, 45.9245580001445], [-92.6401149997278, 45.932477999738], [-92.6388240002902, 45.9341659998924], [-92.6292600003796, 45.9324039997268], [-92.6227200001082, 45.9351860000908], [-92.6143139995657, 45.934528999888], [-92.6024599999597, 45.9408150002873], [-92.5895279995549, 45.9417819998003], [-92.5748920001591, 45.9481029998418], [-92.5519330000613, 45.951650999797], [-92.5498579995529, 45.9570389998835], [-92.5498059996743, 45.9679860001963], [-92.5377090003941, 45.9778180001731], [-92.527051999616, 45.9832450001407], [-92.5194879998708, 45.9839169999617], [-92.5025350001171, 45.9799949998502], [-92.4909960001554, 45.9755599997225], [-92.4697650002365, 45.9735690001656], [-92.4615839998249, 45.9788939999129], [-92.464512000103, 45.9850380002164], [-92.4624769997775, 45.9878500001769], [-92.4533730001744, 45.9929130002301], [-92.4529520002249, 45.9977819998409], [-92.4442939997873, 46.0091610001187], [-92.4422590003601, 46.0161769998427], [-92.4285550003766, 46.0242409998322], [-92.4118960003508, 46.0274780003018], [-92.3926809995925, 46.0195400002486], [-92.37271699972, 46.0141979999861], [-92.3621410000311, 46.0131030001404], [-92.3517600003359, 46.0156850001898], [-92.3499769999054, 46.0169819999274], [-92.3492809995964, 46.0236239996893], [-92.3437449996056, 46.0285249999352], [-92.3424290000537, 46.0345409998796], [-92.3434590002737, 46.0429900000764], [-92.3387330003948, 46.0481260000266], [-92.3363530002878, 46.0569979998521], [-92.3329119999988, 46.0626970001601], [-92.319329000389, 46.0692890002554], [-92.294032999842, 46.0743770000359], [-92.2923189999069, 46.6633069997353], [-92.2912889996869, 46.6681370002649], [-92.2873920001866, 46.6673430002477], [-92.2861920000873, 46.6603420001568], [-92.283899000019, 46.6587099997028], [-92.2743920000097, 46.6574409997764], [-92.2705919996955, 46.6507410002997], [-92.2659930000382, 46.6510409999614], [-92.2565920003342, 46.6587409999327], [-92.2523090001462, 46.6570689998481], [-92.2424930003404, 46.6492409998477], [-92.228492000256, 46.6529410000782], [-92.2163919997044, 46.6498409999639], [-92.2070920002827, 46.6519410000614], [-92.201592000277, 46.6566409999867], [-92.2054920001504, 46.6647410002428], [-92.2040920000346, 46.6669410000881], [-92.1924919999735, 46.6767410002535], [-92.1813589998927, 46.6802410000654], [-92.1758749997805, 46.686465999912], [-92.1762589999201, 46.6904729997838], [-92.182999000208, 46.6956519999371], [-92.1984909997465, 46.6961409997266], [-92.2051919996764, 46.698340999773], [-92.2046910002593, 46.7040409999913], [-92.1973910001047, 46.7076410001807], [-92.1932910002148, 46.7112409998956], [-92.1914910000659, 46.716241000064], [-92.1890909998674, 46.7175409999446], [-92.17429100044, 46.7172409998146], [-92.1672909998611, 46.7199410000615], [-92.1551910002078, 46.7159399998771], [-92.146730000312, 46.7157940001577], [-92.1415220003844, 46.7252850002868], [-92.1434020000008, 46.7281519999546], [-92.1432899998479, 46.7346400001177], [-92.1378900002996, 46.7395399999614], [-92.1165899998854, 46.7486399997331], [-92.0894930002629, 46.7492369999054], [-92.0339890004156, 46.7089390001779], [-92.0202939997545, 46.7040409999913], [-91.9813409999779, 46.7230910001729], [-91.8751860003836, 46.7633030000525], [-91.5921169998389, 46.8749350001723], [-91.5001809998889, 46.9133199997186], [-91.1166090000916, 47.0952159998095], [-90.6546599996645, 47.3098220001952], [-89.9571020001925, 47.2911030002522], [-90.0001449998133, 47.2149690002009], [-90.4183920001204, 46.5660990002009], [-90.4151990004267, 46.5631129998376], [-90.4150439997177, 46.5576729997099], [-90.4080299997934, 46.5548389997035], [-90.4059800002976, 46.5485769998376], [-90.4016479997057, 46.544153999769], [-90.3993360002691, 46.5439509999689], [-90.3955379996046, 46.5359459998507], [-90.3922160000396, 46.5360479999015], [-90.3923280001926, 46.5345859998169], [-90.3951529996402, 46.5342269999439], [-90.393262000153, 46.5324330001149], [-90.3804510001221, 46.5365649998173], [-90.3778890004402, 46.5355460002502], [-90.3755169998308, 46.5388310000324], [-90.36822900027, 46.5411320000792], [-90.3653910004036, 46.5395359999771], [-90.360684999718, 46.5413800001485], [-90.3578500002246, 46.5388130000875], [-90.3506839999643, 46.5403249999909], [-90.3455069999988, 46.5454379997567], [-90.3477320002951, 46.5474760001935], [-90.3468059998323, 46.5493499997071], [-90.3423360000465, 46.5478309998489], [-90.3394039995704, 46.5492879999399], [-90.3437770001701, 46.5508539999666], [-90.3435329997727, 46.5524549998777], [-90.3366209999556, 46.5541209997714], [-90.3322299998125, 46.5534319999576], [-90.3324750000349, 46.5516719998825], [-90.3273790002602, 46.551408999697], [-90.3280579999526, 46.5481700001946], [-90.3267309996317, 46.5460709997862], [-90.321306999794, 46.5467419999687], [-90.3184480000112, 46.5442430001573], [-90.3154770000754, 46.5446970001452], [-90.3170810004057, 46.5423480000033], [-90.3161599999657, 46.54050399996], [-90.3121989999929, 46.5402170001142], [-90.3106189999521, 46.5391659999774], [-90.311613000187, 46.5379800002298], [-90.3094409995941, 46.5372849999032], [-90.3113799996601, 46.5340390001464], [-90.3106039998834, 46.5324110002672], [-90.3130219996253, 46.5308890000167], [-90.3120130002201, 46.529192999999], [-90.3144340003349, 46.5236909998741], [-90.3178350004411, 46.5215229999371], [-90.316554000151, 46.5168959999281], [-90.3140860001804, 46.5160119999646], [-90.3087669999246, 46.5167300001309], [-90.3071969999296, 46.5184369998068], [-90.3033260003685, 46.5173599998515], [-90.2953220004072, 46.5185100001494], [-90.2945890002882, 46.5216599999239], [-90.2844639997876, 46.5187150001889], [-90.2769400002254, 46.5244470002103], [-90.2717959998718, 46.5192650001075], [-90.2753240001995, 46.5182300002328], [-90.2776230001157, 46.5148100002361], [-90.2746520001799, 46.5153580002891], [-90.2704409999619, 46.5116830001309], [-90.2728699995744, 46.5086330001826], [-90.2725509997321, 46.5045119998336], [-90.2709339998814, 46.5068520002365], [-90.2665670000277, 46.5078550000096], [-90.2640060001708, 46.5063100002196], [-90.2654969996248, 46.5043000001151], [-90.261548000246, 46.5025619997418], [-90.2566979996203, 46.5048049998045], [-90.2408970002852, 46.5059760001942], [-90.2312360002902, 46.5098930001463], [-90.2294339995932, 46.5078910000106], [-90.2312530000086, 46.5030700002283], [-90.2291320003677, 46.5026510002771], [-90.2309180002729, 46.5015289999116], [-90.220771999856, 46.5035680002264], [-90.2166369998059, 46.5016370000446], [-90.2111920000518, 46.4931110002564], [-90.2120809998064, 46.490611000223], [-90.2057880003055, 46.4847609997172], [-90.2042119995643, 46.4783089998138], [-90.1971879995943, 46.4731589996923], [-90.1931479999788, 46.4723160001249], [-90.1926569997091, 46.4685760002624], [-90.1888339998286, 46.4689190002649], [-90.1921830000562, 46.4657579999483], [-90.1922270004371, 46.4633739997548], [-90.1936140001341, 46.4633790000822], [-90.1907920001612, 46.4598159996999], [-90.1804180001387, 46.4565830001205], [-90.1810879996102, 46.4587520002884], [-90.1783250000868, 46.4574079998446], [-90.1791710001838, 46.4505960000462], [-90.1766970003654, 46.447982999918], [-90.1783500002012, 46.4404649998429], [-90.1704039999662, 46.4394379998501], [-90.1674199996117, 46.4417050000156], [-90.1671300000817, 46.4384529997672], [-90.1633189998968, 46.4347639998753], [-90.1624200000964, 46.4275790002601], [-90.1596590002229, 46.4253939998644], [-90.1605589998482, 46.4228890001064], [-90.1572980003825, 46.4211219999437], [-90.158921000081, 46.4190889999845], [-90.1577200001569, 46.41570599987], [-90.1590869997624, 46.4140300002077], [-90.158368999712, 46.4094539999627], [-90.1536420000083, 46.4070010000175], [-90.1532679999144, 46.4058749998506], [-90.1549719998038, 46.4054570000805], [-90.1528300002465, 46.4037769997101], [-90.1540970002929, 46.4032980000842], [-90.1531680003553, 46.401216999781], [-90.146667000442, 46.3990130001429], [-90.1477820001524, 46.3960560001845], [-90.1447350000486, 46.3932439998136], [-90.144351999734, 46.3900480002124], [-90.1411740001089, 46.3888729999251], [-90.1396819999317, 46.3852590000697], [-90.1321769997377, 46.3811199997641], [-90.134249999698, 46.3791310002334], [-90.1328079997494, 46.3781199998798], [-90.1344460004149, 46.377439000303], [-90.1339860001074, 46.3717890002625], [-90.1304600003278, 46.3711510000849], [-90.1297320002316, 46.3698730000887], [-90.1313519995571, 46.3690530000344], [-90.1228110001937, 46.3636450000365], [-90.1233679996873, 46.3607349998608], [-90.1187029999079, 46.3593450003083], [-90.1168519997054, 46.3506510002151], [-90.1203959999266, 46.3495940000026], [-90.1236510004429, 46.3462649999189], [-90.1217800001489, 46.344399999865], [-90.1200319998785, 46.3447640000419], [-90.1179840000326, 46.3415049996993], [-90.1214300003445, 46.3374249997687], [-89.091638000012, 46.1384469999974], [-88.850821999966, 46.0403120000075], [-88.8390910003836, 46.0299760000124], [-88.8354080002452, 46.0304439999548], [-88.8243789999215, 46.026552999842], [-88.8190839999552, 46.026314000016], [-88.8154400001748, 46.0229739999697], [-88.8160259999807, 46.0205859999584], [-88.7964599995932, 46.0236059999669], [-88.7962420000333, 46.02685400011], [-88.8006699999863, 46.0300360002584], [-88.7961819997589, 46.0337120001507], [-88.7921620002349, 46.0323160000117], [-88.7887660001516, 46.0286230000279], [-88.7845959999415, 46.0326540002285], [-88.7787389995604, 46.0316900000847], [-88.7787340004358, 46.0288750001811], [-88.7839399998154, 46.023843999773], [-88.7824729997524, 46.0167509999357], [-88.7801560002929, 46.0153949999465], [-88.7698009996386, 46.0189439999361], [-88.7688480003099, 46.0218869997878], [-88.7706209997963, 46.0255609999146], [-88.7663989997076, 46.0248820002827], [-88.7589680000318, 46.0196330002884], [-88.7527199998384, 46.0234149999528], [-88.7389799998699, 46.027459000152], [-88.7342339998995, 46.0255449998906], [-88.7304749995932, 46.0267279999362], [-88.7212610003852, 46.0222209999084], [-88.722217000087, 46.017530000023], [-88.7180240003106, 46.0156110002335], [-88.7183139998405, 46.0131820000562], [-88.7129770000414, 46.0127180002706], [-88.712078000241, 46.0163460002705], [-88.7077149996871, 46.0153959999758], [-88.7037110000566, 46.0182930001132], [-88.6974210000305, 46.017489999758], [-88.6896959997284, 46.0140029996945], [-88.6872689997657, 46.0150439997864], [-88.6788680001444, 46.0135950003057], [-88.6752839997402, 46.0113960003094], [-88.6759159995769, 46.0085459998363], [-88.6712149998124, 46.0048589999649], [-88.6722569997279, 46.0026450000494], [-88.6703300002558, 46.0009980000107], [-88.671005999575, 45.9988319999178], [-88.6667280003082, 45.9969319997763], [-88.6670019999446, 45.9937159998114], [-88.6634829998377, 45.9927020002507], [-88.6706010004174, 45.9898300001244], [-88.6708270003732, 45.9885470000379], [-88.6641620004283, 45.9891399999747], [-88.6629780002226, 45.9874989999904], [-88.6579379996261, 45.989419000067], [-88.651767000324, 45.9875660001249], [-88.6476020001367, 45.9886410002779], [-88.6464699998095, 45.9871100001406], [-88.6385460002142, 45.9850609997758], [-88.6352010001846, 45.9852169997913], [-88.6339380003362, 45.9881690001834], [-88.6159570000123, 45.9878960000702], [-88.6130039996199, 45.9909770002351], [-88.615967999883, 45.9935389998601], [-88.6118489997265, 45.9983900001159], [-88.6115120003409, 46.0034779999204], [-88.6127120004402, 46.004461999888], [-88.6073110001686, 46.0076210002055], [-88.6072709999857, 46.0113530002916], [-88.6041059998811, 46.0163039997473], [-88.601177999603, 46.0177699997572], [-88.5976819999607, 46.0174719999101], [-88.5935479997355, 46.0147699999525], [-88.5928909997845, 46.0111250001901], [-88.588270000386, 46.0050980001885], [-88.5809190001778, 46.006784999768], [-88.5787540001559, 46.0096930001071], [-88.5729570000493, 46.0115979998731], [-88.5717589995998, 46.0137739998531], [-88.5656629997425, 46.0156790000452], [-88.5592970004467, 46.0140969997417], [-88.5550900004266, 46.015044999822], [-88.5491510000297, 46.0128839998155], [-88.5394320003084, 46.0144700000666], [-88.5362680000287, 46.0176880001939], [-88.5325220001411, 46.0183710001253], [-88.5336860002554, 46.0211499999454], [-88.522749999818, 46.019364999857], [-88.5146920003284, 46.0200189999955], [-88.5063639996037, 46.0176099998421], [-88.5065510000997, 46.0113030001418], [-88.5022860003534, 46.0069710001655], [-88.503102000313, 46.005964999878], [-88.5008850004127, 46.0006039999498], [-88.4968519995715, 45.9992340001928], [-88.497978000051, 45.9957939998476], [-88.4893549997735, 45.9913670002098], [-88.475205999551, 45.9931289996922], [-88.4737710001734, 45.9949070000266], [-88.4745829999352, 45.9989530002504], [-88.4707719997502, 46.0009980000107], [-88.458672000097, 45.9995140002638], [-88.4541090004248, 45.9975289999001], [-88.4542349999231, 45.9934759999207], [-88.4500370001239, 45.9901120000703], [-88.4407490003978, 45.9908500002199], [-88.4385580004367, 45.9886040000099], [-88.4347620003203, 45.9883399998429], [-88.4335570001982, 45.9854089999752], [-88.4261309996469, 45.9843860002119], [-88.4231930002214, 45.9817250001048], [-88.4230380004107, 45.9783969997695], [-88.4163809999635, 45.9750919997559], [-88.4099100001873, 45.9796699998782], [-88.4031010003024, 45.981193000221], [-88.3954210002062, 45.9803120000979], [-88.3886440001084, 45.9826230001767], [-88.384259999638, 45.9879000003033], [-88.3848420001443, 45.9904490000579], [-88.3805029998797, 45.9917649998408], [-88.3742980002424, 45.989050000108], [-88.3717580003018, 45.9854469998287], [-88.3598209999569, 45.9818920002767], [-88.3454170003646, 45.9739850000487], [-88.3425230004217, 45.971986999979], [-88.34203600035, 45.9689840003089], [-88.3347400003933, 45.9686270001383], [-88.3302780001052, 45.9658350001616], [-88.3280410001133, 45.9635390001792], [-88.3278760002568, 45.9589150002542], [-88.3301719997999, 45.956631999957], [-88.3272760002072, 45.9549570000979], [-88.3202439998412, 45.9600840003042], [-88.3203080003136, 45.9636569998425], [-88.3130209996795, 45.9594310001757], [-88.3013779999607, 45.9564590001018], [-88.2938490003756, 45.9509410002592], [-88.2853139999617, 45.9552619997466], [-88.269306999864, 45.9562719999505], [-88.2676399997845, 45.9578940002487], [-88.2590259997279, 45.9596499997501], [-88.2549800002646, 45.9635120003003], [-88.2468940002876, 45.9635320002813], [-88.245708000432, 45.9627350002287], [-88.2461789997119, 45.9560830000881], [-88.2448330000228, 45.9528639998965], [-88.2371060000709, 45.9482780001597], [-88.2320439997331, 45.9472139997886], [-88.224222000245, 45.948607000036], [-88.2037970002401, 45.9479410002115], [-88.197759999934, 45.9530190001506], [-88.1920580002619, 45.9526509998436], [-88.1780410002839, 45.9470930000428], [-88.1700890002011, 45.9394919998019], [-88.1638579997262, 45.9383810001666], [-88.1617610003747, 45.9407410001564], [-88.1556389996798, 45.9373520001743], [-88.147650999612, 45.9374270000193], [-88.145710999721, 45.9362429999387], [-88.1463340002352, 45.9340690001505], [-88.1412500001561, 45.9308439998302], [-88.1268080000306, 45.9259939998955], [-88.1266540000449, 45.9217909999045], [-88.102461000411, 45.9215460002408], [-88.0949269999047, 45.9153230001605], [-88.0953140004173, 45.9136570001505], [-88.1022520001737, 45.9099419999008], [-88.1066240000502, 45.9022129999457], [-88.1067579999445, 45.8985290002783], [-88.102526999635, 45.8922220002934], [-88.1012639997865, 45.8822819999599], [-88.0964960000749, 45.8798610003058], [-88.0818199995977, 45.8802009998346], [-88.0697629996022, 45.8729380002808], [-88.0758380004415, 45.8696300002843], [-88.074828000313, 45.8649050002919], [-88.0776529997607, 45.8637440001659], [-88.0824649998532, 45.8649610002249], [-88.0877189998116, 45.8569500002183], [-88.0977580000984, 45.8504379997075], [-88.1051960003453, 45.8424130002237], [-88.1209010003192, 45.8329620001566], [-88.1345170004392, 45.8224569998998], [-88.1360330000076, 45.8180909997827], [-88.1301289997708, 45.8097079997687], [-88.1162659997786, 45.8040859997274], [-88.1076080002394, 45.8030399997952], [-88.1032129998983, 45.7912549997249], [-88.099420000155, 45.7899900000908], [-88.0947539996524, 45.7857549999565], [-88.0799759999663, 45.7851239999016], [-88.0721669999986, 45.7800850000952], [-88.0499600002865, 45.7811930000741], [-88.040936999976, 45.7842650001216], [-88.0397279996559, 45.789626000028], [-88.0272320001675, 45.7891969996986], [-88.0175879998909, 45.7924549997333], [-88.0070430001641, 45.7921919997928], [-87.9914469999702, 45.7953930001202], [-87.987942000107, 45.7930750001163], [-87.980869999558, 45.7769769997249], [-87.9817890003482, 45.7750810003019], [-87.9855970001601, 45.7749260000002], [-87.9896560000421, 45.7720249998198], [-87.9864290000133, 45.7695960000422], [-87.9669699997559, 45.7640210002013], [-87.9634520003722, 45.7582200002352], [-87.952182999849, 45.7584160001364], [-87.9454779997211, 45.756687000268], [-87.93458300019, 45.7580960001468], [-87.9291269996669, 45.7603680000667], [-87.9219939999169, 45.7569959999745], [-87.9165559998354, 45.759461000012], [-87.9113360002122, 45.7565389999263], [-87.9066599996637, 45.7595240000867], [-87.9027070000869, 45.757932000193], [-87.8983629997995, 45.752502999931], [-87.8768980004272, 45.7543790001584], [-87.8733390001374, 45.7504389998892], [-87.8681110001182, 45.7494769998507], [-87.8656809997825, 45.7462880001237], [-87.8622110000794, 45.7450180001478], [-87.8643200000248, 45.7371389999014], [-87.8554800000123, 45.7269429997046], [-87.8373449997027, 45.7169179998407], [-87.8101440003231, 45.7102299997308], [-87.8050810001604, 45.7049739999217], [-87.8090749997452, 45.6997170002114], [-87.8018800000709, 45.6938619998644], [-87.7822259998198, 45.6830529998987], [-87.7808080001606, 45.680348999946], [-87.7816230002954, 45.6732800002585], [-87.7972780000406, 45.6708380002225], [-87.8032900002324, 45.6664939997836], [-87.8241910004384, 45.6620439997229], [-87.8223779998707, 45.6609969998294], [-87.8237009999936, 45.6596969997617], [-87.8224590000616, 45.6571510001418], [-87.8246779996118, 45.6532119998244], [-87.8243920002798, 45.6477100001141], [-87.8101950003768, 45.638732000041], [-87.8045199995706, 45.6289870002256], [-87.7969829995895, 45.6236129996865], [-87.7958799995747, 45.6188459999214], [-87.7808449999706, 45.6145990000084], [-87.7776709996452, 45.6092039998595], [-87.777936999784, 45.6044400002782], [-87.7746820001661, 45.6020240002011], [-87.7775040001389, 45.5939080002816], [-87.7771989996421, 45.5884980001985], [-87.7867659999258, 45.5828280003118], [-87.7887979998783, 45.5659470001969], [-87.7923720002367, 45.5630550000346], [-87.8061039998094, 45.5628629999757], [-87.8104199996094, 45.5653079999593], [-87.8293480003124, 45.5687769998378], [-87.8316909997112, 45.5680359998609], [-87.8336900000517, 45.5615559998698], [-87.8322959997837, 45.558767000069], [-87.8187909999918, 45.5521000003023], [-87.8170889997522, 45.5495119999311], [-87.8083659999156, 45.544661999725], [-87.8033899997915, 45.5382719997737], [-87.8047199995871, 45.5312439997197], [-87.8022409997459, 45.5130589999292], [-87.798793999609, 45.5062870000136], [-87.7932149999606, 45.5050280001222], [-87.7927689998968, 45.4999670000331], [-87.798172999643, 45.4936659998174], [-87.7989600001887, 45.4851470000437], [-87.8068910003551, 45.4790920000008], [-87.8057730002716, 45.473139000186], [-87.8114690000959, 45.4679910001881], [-87.8129760003418, 45.4641599999258], [-87.8202639999025, 45.4623140000744], [-87.8200399995965, 45.4604529999621], [-87.8255089996401, 45.4580260001996], [-87.8312170000583, 45.4571849999401], [-87.8355620001706, 45.451102000302], [-87.8448039998659, 45.4484060001437], [-87.8474290001953, 45.4441770002755], [-87.8552980004374, 45.4413789998479], [-87.8578409998527, 45.4370319997553], [-87.8616970002435, 45.4344730000813], [-87.860431999847, 45.4235039997639], [-87.8571239996272, 45.4201919999225], [-87.8562159996061, 45.4161009998967], [-87.8505330002005, 45.4116849997064], [-87.8493220002306, 45.4038719997532], [-87.8509690002186, 45.4019249998827], [-87.8591310003637, 45.3989670001105], [-87.8596030003668, 45.3964089998422], [-87.8568299998994, 45.3931059999985], [-87.8594180004188, 45.3882270001685], [-87.8709049996037, 45.3831160001107], [-87.8754239997933, 45.3793730001818], [-87.8756919995819, 45.3770520002411], [-87.8714849995618, 45.3715460001298], [-87.8848549996345, 45.3627919997412], [-87.8878280001185, 45.3581220000221], [-87.8880520004245, 45.3546969998267], [-87.8851700001771, 45.3517360000477], [-87.8811139997698, 45.3512779998885], [-87.8703670003767, 45.3562670002182], [-87.8697709996267, 45.3586159999008], [-87.8758449997428, 45.3650170002306], [-87.8729499999749, 45.3665259997648], [-87.8691670002774, 45.3660489997448], [-87.8653440003969, 45.3620959998174], [-87.8657629997983, 45.356280000032], [-87.8634889999965, 45.3530200002594], [-87.8504179996745, 45.3474920001447], [-87.8498989998157, 45.3446509997413], [-87.8514749996586, 45.3423350000568], [-87.8501330001674, 45.3404349999342], [-87.8381409995709, 45.3451009998029], [-87.8353029997045, 45.3509799996969], [-87.8326120001512, 45.3522489999908], [-87.8269179999767, 45.350538000205], [-87.8230280001491, 45.3526500000739], [-87.8100759996528, 45.3512690000964], [-87.8004640000616, 45.3536080002011], [-87.7903219998426, 45.3534509999846], [-87.7830760001147, 45.3497250000517], [-87.7692599999781, 45.3511959998355], [-87.762128000053, 45.3484009997539], [-87.7541040000003, 45.3494420000313], [-87.7514519999067, 45.3517550000818], [-87.750928000025, 45.3550370000562], [-87.7388230003489, 45.3568509997342], [-87.7334089996586, 45.3644320000473], [-87.7188910002635, 45.3774620000123], [-87.70832899992, 45.3812180000181], [-87.70433799981, 45.3854639998156], [-87.6939560002898, 45.3898929997954], [-87.6859339998869, 45.3887110001358], [-87.6828659998667, 45.3849500000657], [-87.6750169997161, 45.3824539998224], [-87.6735129998432, 45.3769459997674], [-87.65735000011, 45.3687540000763], [-87.6558040004043, 45.3627129999168], [-87.6564470001116, 45.3584130002631], [-87.6539189998666, 45.3545899998313], [-87.650721999975, 45.3540049997784], [-87.6477290002979, 45.3507209999549], [-87.6481259999579, 45.339395999824], [-87.655775000092, 45.3308459999771], [-87.6616030001608, 45.327607999765], [-87.6617110001158, 45.3207360001729], [-87.6726690002944, 45.3102129999194], [-87.6718890003198, 45.3081060001446], [-87.6790909996668, 45.3058410000504], [-87.6803300001241, 45.3028000000329], [-87.6874989998591, 45.2980550001359], [-87.6903409999235, 45.2902169997758], [-87.6982479998004, 45.281511999802], [-87.6973730002895, 45.2784440003108], [-87.6992289996165, 45.2767459999638], [-87.6987800000779, 45.2694199998907], [-87.7056430003895, 45.2661039997721], [-87.7104499995609, 45.259323999974], [-87.7077580001827, 45.2586369998842], [-87.7113149999244, 45.2523960000887], [-87.7099330002502, 45.2490330001536], [-87.7113390002138, 45.2399650001902], [-87.7182639995514, 45.2383329997877], [-87.7249920001438, 45.2321399999745], [-87.7251650003961, 45.2303320000636], [-87.7213540002112, 45.226846999886], [-87.7224730001196, 45.2233089997689], [-87.7269520001262, 45.2189490001487], [-87.7261980000908, 45.2093909997575], [-87.7363389995865, 45.2046529997849], [-87.7418100001782, 45.197469000033], [-87.7390069995736, 45.1927380001697], [-87.739396999561, 45.1900460001596], [-87.7352099996324, 45.1776420001462], [-87.7361040003082, 45.172244000064], [-87.7277680000859, 45.1695959998881], [-87.7179100004474, 45.1611910001891], [-87.709539000065, 45.158690000049], [-87.7073909997615, 45.1546789998452], [-87.7034919997131, 45.1522059996961], [-87.6923750004241, 45.149505000148], [-87.6839019999344, 45.1441349999698], [-87.6758159999574, 45.1350590003118], [-87.6782089995848, 45.130083999938], [-87.6747420002548, 45.1270179996965], [-87.6724469996383, 45.1212940002972], [-87.6612960000141, 45.1125659999724], [-87.6612109996253, 45.108278999799], [-87.6599519999748, 45.1075120003146], [-87.6525120000781, 45.1086330001328], [-87.6481910002553, 45.1063680001699], [-87.6315349997042, 45.1062239997108], [-87.6277169998465, 45.1033499999353], [-87.5918799997707, 45.0946890001531], [-87.5853880000782, 45.0969249999411], [-87.44250799958, 45.0764339998307], [-87.405693999886, 45.2019690000849], [-87.3154219996425, 45.2406569998735], [-87.1711700004143, 45.3525400001324], [-87.1011330002048, 45.4442300001973], [-86.7542360001843, 45.4436099997207], [-86.2495479999101, 45.2361249999463], [-86.433127999732, 45.1249910001394], [-86.4999300004149, 45.0807999998192], [-86.6862879998288, 44.8810020000028], [-86.8551839996759, 44.5003389998039], [-86.8476940004488, 44.5003389998039], [-87.000080000233, 44.1548209998068], [-87.000072999662, 44.1632359998216], [-87.0132340003956, 44.1319049997823], [-87.0462489996003, 43.999999999853], [-87.0488470001655, 43.999999999853], [-87.1141020004196, 43.7341109999213], [-87.1250789999665, 43.670445000247], [-87.147166000028, 43.3798590001406], [-87.1250720002938, 43.2277370001511], [-87.1083970003744, 43.1250100000078], [-87.0199350003255, 42.4934979997221], [-87.3750580000652, 42.4938150003252], [-87.7933709995962, 42.4917199999595], [-87.961771999874, 42.4947560000858], [-88.138878000445, 42.4956039998572], [-88.6289970003722, 42.4950449996741], [-88.776493000246, 42.4919120002119], [-89.6698199997799, 42.505043999862], [-89.9552369997463, 42.5056509997906], [-90.0736700001674, 42.5082750003305], [-90.4017029999573, 42.5068889998929], [-90.6428429998685, 42.5084810000285], [-90.6359889997777, 42.515409000118], [-90.6358289999442, 42.5179279997136], [-90.6413730003308, 42.5285749997643], [-90.6446870003983, 42.5413169999123], [-90.654126999562, 42.5498999999572], [-90.6591269999756, 42.5578999998577], [-90.6615270001741, 42.5679989998069], [-90.6779350001297, 42.5800310002963], [-90.6869750001587, 42.5917740001689], [-90.6879989996326, 42.5991979999216], [-90.6939990001288, 42.6145090001406], [-90.7000949999862, 42.6224610001319], [-90.7026709999118, 42.630756000099], [-90.7092039996122, 42.6360780003162], [-90.7202089996465, 42.640758000228], [-90.7694950003361, 42.6514429997789], [-90.8439100002697, 42.6630709998636], [-90.8874299999165, 42.6724700003124], [-90.900261000039, 42.6762540000109], [-90.9211549996739, 42.6854060001879], [-90.9370449995957, 42.6833989998717], [-90.9492100004446, 42.6855690003211], [-90.9650479995896, 42.6932329997361], [-90.977734999772, 42.6968159999695], [-90.9887759997913, 42.7087240001163], [-91.0001280001553, 42.716188999763], [-91.0095770004382, 42.7201229998299], [-91.0172390000927, 42.7195660002736], [-91.0267860002849, 42.7242279998871], [-91.0296919999234, 42.7267740001466], [-91.0320129995808, 42.7344840002126], [-91.0354179998849, 42.7373399999279], [-91.0441390000717, 42.7386050002548], [-91.0499720001633, 42.7369050002706], [-91.0537330001196, 42.7382380003222], [-91.0562970003496, 42.747340999843], [-91.0601720001086, 42.7504809999673], [-91.0646800004276, 42.750913999987], [-91.0657830004424, 42.7533869999539], [-91.0654920001893, 42.7570810001507], [-91.061431999584, 42.757974000014], [-91.0602609997971, 42.7618469996807], [-91.0695490004215, 42.769628000113], [-91.0708299998133, 42.7822250000685], [-91.0780970003559, 42.8065259999684], [-91.0786649997202, 42.8276779999353], [-91.082769999633, 42.829976999752], [-91.0901359999098, 42.8292370000261], [-91.0940600000727, 42.8308129998058], [-91.0951139996837, 42.8349660003135], [-91.0914020001313, 42.8498599999896], [-91.0976560001725, 42.8598710001365], [-91.0982379997804, 42.8757979998261], [-91.100565000184, 42.8830780002169], [-91.1174109998075, 42.8958370002869], [-91.1447939996603, 42.9059969997715], [-91.1461820000805, 42.9123380002158], [-91.1438780001415, 42.9206460003185], [-91.1443149999845, 42.9265920000532], [-91.1498800002875, 42.9419549999189], [-91.1455400001981, 42.9565100000035], [-91.1459350002083, 42.9607699998851], [-91.1480009995976, 42.9661550002244], [-91.1565619999509, 42.9782260003007], [-91.1574900000635, 42.9914749998379], [-91.1746920002376, 43.0387130001764], [-91.1778940001521, 43.0642059996809], [-91.1794569995761, 43.06742700031], [-91.1772639999652, 43.0729829997536], [-91.1751929996547, 43.1037709999086], [-91.1779319997869, 43.1288749999039], [-91.1752529999291, 43.1346649999959], [-91.1561999995526, 43.1429450002945], [-91.1461999996239, 43.1524049996772], [-91.1432830001147, 43.1564129998076], [-91.1386490002974, 43.1699930001915], [-91.1244280001049, 43.1878860002178], [-91.1221700001967, 43.197255000236], [-91.0874560002272, 43.2218909999556], [-91.0663979996624, 43.2392930000581], [-91.059684000212, 43.248566000069], [-91.0579180003983, 43.2553660000226], [-91.0597500003342, 43.2590739997603], [-91.0699369998607, 43.2602720002273], [-91.0726490002288, 43.2621290000198], [-91.0717239995908, 43.2713919997991], [-91.0737100004108, 43.2747460000955], [-91.0856519998803, 43.2918699996848], [-91.1072369998015, 43.3136449999018], [-91.137342999893, 43.329756999891], [-91.1548060001829, 43.3348259999954], [-91.1811150003331, 43.3459260002849], [-91.2039639999277, 43.3498520000649], [-91.2147699997703, 43.3658739998174], [-91.2141720002688, 43.3693779999628], [-91.2060720000481, 43.3749759999641], [-91.1976699997036, 43.3953339998705], [-91.200358999607, 43.4127009998384], [-91.20314399977, 43.419805000046], [-91.2287499999384, 43.4455370002522], [-91.2333670000373, 43.4551679998861], [-91.2322409995579, 43.4600180001267], [-91.2245859995761, 43.4655250002099], [-91.2203989996475, 43.4713059998989], [-91.2160350001669, 43.4811419998452], [-91.2152819999564, 43.484797999741], [-91.2182699996106, 43.4972279997589], [-91.2173530002669, 43.5124739998354], [-91.2226130000731, 43.5178919998855], [-91.2329410000649, 43.5239669998905], [-91.2367249995874, 43.5329299998314], [-91.243182999843, 43.5403090003179], [-91.2432139998051, 43.5507219997008], [-91.2328120001935, 43.5648419997293], [-91.2318649998142, 43.5818220001739], [-91.2391089998924, 43.5897600000397], [-91.261631000147, 43.6061750001754], [-91.2687480000035, 43.6153480001049], [-91.2684569997504, 43.6273520001603], [-91.262396999878, 43.6417600000237], [-91.2638560004434, 43.6476619998582], [-91.2717490000766, 43.6549289998829], [-91.2732520001245, 43.666622999937], [-91.2712979999899, 43.6727529997405], [-91.2727409997634, 43.6766089999418], [-91.2677920003018, 43.6956520001303], [-91.2684550001006, 43.7098240000312], [-91.2587559995724, 43.7234260000289], [-91.2559319999497, 43.7298490002645], [-91.2554309996343, 43.7448759997578], [-91.2441350002451, 43.7746669997475], [-91.262432999863, 43.7921699996905], [-91.2644360004015, 43.8003649998626], [-91.2674359997513, 43.8041660001435], [-91.2678490002032, 43.8087610002789], [-91.2720369999567, 43.8137660000509], [-91.2757369998135, 43.8248659998174], [-91.2776950001461, 43.837740999785], [-91.2841380003332, 43.8470649998367], [-91.2910019995713, 43.8527329997589], [-91.2988149997369, 43.8565550003004], [-91.3109909995581, 43.8673810002367], [-91.3153099997312, 43.8818079999966], [-91.3206049996975, 43.888490999873], [-91.325465000369, 43.8922239997409], [-91.3381409997824, 43.8976640001297], [-91.3477409996781, 43.9119640000169], [-91.3574250001376, 43.9172309997956], [-91.3632270002671, 43.9265569996945], [-91.3647200002693, 43.9348800002628], [-91.3666419997186, 43.9374629997026], [-91.3857939998294, 43.9542390001961], [-91.4060110003201, 43.9639290001833], [-91.4124910003171, 43.9734109999851], [-91.4241340000358, 43.9826310000888], [-91.4312030002118, 43.9954449997525], [-91.4392649998994, 44.0009880001859], [-91.4635150003329, 44.0090409999301], [-91.4808699997695, 44.0081450002525], [-91.4949880000299, 44.0125360001001], [-91.5071210001934, 44.0189800000635], [-91.5243149999715, 44.0214329997414], [-91.5470280000219, 44.0222260000451], [-91.5590039998266, 44.0253150000481], [-91.5800189998354, 44.0269250002544], [-91.5920699999832, 44.0313719999982], [-91.5976169998446, 44.0349649997996], [-91.6035500003937, 44.043681000168], [-91.6104870003251, 44.0493100002913], [-91.6278960001884, 44.0558049997577], [-91.6381399996163, 44.0632949996846], [-91.6447169996976, 44.0627819997966], [-91.6478729995813, 44.0641090000362], [-91.6595110001756, 44.0742029997472], [-91.6670060003238, 44.0869639997264], [-91.6815299995667, 44.0974000002313], [-91.6953099997182, 44.0985699997629], [-91.7074909995623, 44.1039059998194], [-91.7105970001157, 44.1204800001286], [-91.7215519999213, 44.1303419999304], [-91.7306480000268, 44.1329000001897], [-91.7517469997012, 44.134785999994], [-91.7744859996909, 44.1475390002434], [-91.8080640000335, 44.1592620000754], [-91.8173020004292, 44.1642349997954], [-91.8291669999059, 44.1783499998752], [-91.8447539998789, 44.184877999693], [-91.8643870002136, 44.1965740001464], [-91.8751579998962, 44.2005750000134], [-91.8774290002233, 44.2129210002704], [-91.892698000179, 44.2311050002326], [-91.8929629995946, 44.2351490001634], [-91.8870399999896, 44.2517720001731], [-91.8891320002165, 44.2560600001597], [-91.8960080000486, 44.2628709998545], [-91.8963879999902, 44.2746899999686], [-91.9057889996942, 44.2816140002522], [-91.9202819998733, 44.2864960000474], [-91.9246129997419, 44.2918150002165], [-91.924102000279, 44.2970950002521], [-91.9135740002707, 44.3103920001173], [-91.9186249998395, 44.3226710001931], [-91.9255900002584, 44.3335480000276], [-91.9413110001258, 44.3409779997263], [-91.9595230004282, 44.3594040001935], [-91.9668090003391, 44.3639860003087], [-91.9771029999957, 44.3681359999626], [-91.9872889996973, 44.3691189997244], [-92.0061789998672, 44.3788250000273], [-92.0193129999384, 44.3812170002698], [-92.0381470000318, 44.3887310000697], [-92.0564859996576, 44.4027289999786], [-92.0786050004045, 44.4048690001617], [-92.0872389996543, 44.4088499999859], [-92.1123080004206, 44.4143319998581], [-92.1245129996558, 44.422114999826], [-92.1624539996542, 44.4272079997312], [-92.1953780004188, 44.4337920003189], [-92.2151630001912, 44.4385030000003], [-92.2308559995711, 44.4444960000234], [-92.2448840003181, 44.4568420002818], [-92.2739789995579, 44.471882000053], [-92.2910050000048, 44.4854640002326], [-92.3022150000785, 44.5002980001132], [-92.3030460001068, 44.5186459996972], [-92.3108269995871, 44.5287559999266], [-92.3140710002326, 44.5380139998854], [-92.3223410003327, 44.5467789997064], [-92.3361139999132, 44.5540039998599], [-92.3615180004153, 44.5589349999888], [-92.3915449999657, 44.5576429997038], [-92.4021049997611, 44.5586060001027], [-92.4150890000444, 44.5603590001373], [-92.4311010001649, 44.5657859998604], [-92.4407460002664, 44.5628549999443], [-92.4550899995843, 44.5620230001726], [-92.4809860001809, 44.5684489998466], [-92.4937169998459, 44.5660520000664], [-92.5086669999595, 44.5703129997796], [-92.5192180004324, 44.5752749996899], [-92.5279999998202, 44.5732500000667], [-92.5410159998906, 44.5671269996812], [-92.5488890003306, 44.5682519997631], [-92.5515670003634, 44.5722149998064], [-92.5493389996941, 44.5778469997078], [-92.5498269995907, 44.5810979998642], [-92.5689460000895, 44.6033719998859], [-92.5771559999151, 44.6050370000785], [-92.581588000066, 44.6008509999148], [-92.5862160000356, 44.6000880000335], [-92.5887969999841, 44.6016980000593], [-92.590488000353, 44.6059440001593], [-92.601608000015, 44.6120380002335], [-92.6147129997738, 44.6116579998054], [-92.6216420002077, 44.614929000208], [-92.6235660002051, 44.6206400001601], [-92.6202620001834, 44.6286539997056], [-92.6202150003277, 44.6341940000406], [-92.6218470002471, 44.6390179996983], [-92.6320210002531, 44.6491869999551], [-92.6609880003447, 44.6608999999722], [-92.6943199997417, 44.6886150000621], [-92.7320430001801, 44.7143449999939], [-92.7556709999244, 44.7232430001043], [-92.7719480003588, 44.7320770001509], [-92.7923359996555, 44.7393620000284], [-92.8082420003692, 44.7510830000029], [-92.8076869996271, 44.759285000258], [-92.8044450004279, 44.7707599999577], [-92.7991649996319, 44.7789690001343], [-92.7856220002052, 44.7918869999466], [-92.7807540000361, 44.8122999999507], [-92.7729109997333, 44.8215030003056], [-92.7724379999053, 44.8281899997304], [-92.7659319999691, 44.8356309998568], [-92.7695010003047, 44.8620010001343], [-92.7634110002951, 44.8741400000499], [-92.7739459999761, 44.8899969999078], [-92.7745710001401, 44.8980839999054], [-92.7731030002522, 44.9013669999404], [-92.7587010003098, 44.908978999945], [-92.7506449995716, 44.937298999984], [-92.7546030000697, 44.9557669997512], [-92.7606999997519, 44.964978999813], [-92.7672180002821, 44.9680839997128], [-92.7694450002282, 44.9721499997619], [-92.7703459996784, 44.9833280002514], [-92.7690490003931, 44.988195000238], [-92.7712310001334, 45.0013780000113], [-92.7620599996848, 45.024320000222], [-92.7646039998233, 45.0287670002637], [-92.7703619995719, 45.0338029997251], [-92.7955860001489, 45.0492439999037], [-92.8015680002035, 45.0565070001207], [-92.8031239999548, 45.0615660000308], [-92.8015220001727, 45.068623000193], [-92.7926570000459, 45.0787620003079], [-92.7467489998962, 45.1070510002393], [-92.7395829996359, 45.1155979999773], [-92.7406100003811, 45.118453999913], [-92.7456919999121, 45.1231119997578], [-92.7525059998199, 45.145965999964], [-92.7573520002476, 45.152350999731], [-92.7581320002223, 45.1596769997219], [-92.7569070000087, 45.1651659997683], [-92.7524039997126, 45.1739159997959], [-92.7668080002032, 45.18546600018], [-92.7671300004185, 45.1941650001125], [-92.7639080004125, 45.2048659999631], [-92.7540049996699, 45.2127689997442], [-92.7517080003018, 45.218666000019], [-92.7574560000047, 45.2305260000408], [-92.7602639997339, 45.2517170002524], [-92.7536210004286, 45.259419000156], [-92.7519200000139, 45.2658770002116], [-92.7538440000114, 45.2709589997707], [-92.7606119998884, 45.2788279997549], [-92.7620039996083, 45.2882129999528], [-92.7587099996323, 45.2909649997698], [-92.7511550001079, 45.2928270000287], [-92.7371210004115, 45.3004590001845], [-92.7277370004258, 45.3092879999422], [-92.7086749998285, 45.3225249999361], [-92.6989669999778, 45.3363740001818], [-92.6995229996465, 45.3424210002209], [-92.70405400043, 45.3536599999878], [-92.7027229999112, 45.3584680002338], [-92.6885279996579, 45.3684289997519], [-92.6791870002284, 45.3727099999109], [-92.676962999757, 45.3801439999731], [-92.6641040000454, 45.3933080001731], [-92.6504200001533, 45.398509999841], [-92.6505680002914, 45.4033109998196], [-92.6466759999156, 45.4132270002599], [-92.6502689996423, 45.4191680002277], [-92.6466020002957, 45.4416350002183], [-92.6535490002729, 45.4553460000073], [-92.6802340001667, 45.4643439997533], [-92.6825959998321, 45.4699089997533], [-92.6909620001916, 45.475442000112], [-92.7008990003712, 45.4916089998334], [-92.712862999582, 45.5048489998076], [-92.7266770000687, 45.514461999916], [-92.7280229997578, 45.525651999948], [-92.7246500001391, 45.5367440000365], [-92.7260820000419, 45.54111199986], [-92.7455909996298, 45.5530160001641], [-92.7569060001838, 45.5574989998254], [-92.7702229996547, 45.566939000089], [-92.7759879999743, 45.5684780000085], [-92.7857410000308, 45.5678879999334], [-92.8015029999061, 45.5628539999273], [-92.8233089997603, 45.5609340000497], [-92.8464469999581, 45.566514999966], [-92.8710820003562, 45.5675809997753], [-92.8837490004471, 45.5754829999659], [-92.8849539996709, 45.5788179999829], [-92.883277000444, 45.5898309997506], [-92.8864209997338, 45.5948809997645], [-92.8864419996502, 45.5986789997729], [-92.8825290002563, 45.6102159999332], [-92.8880350001098, 45.6249590001359], [-92.8868569997519, 45.6357229999685], [-92.8894329996775, 45.6412019999931], [-92.8870669998142, 45.644148000243]]]]\n",
      "Polygon\n",
      "[[-92.8870669998142 45.644148000243]\n",
      " [-92.882504000142 45.6594709999592]\n",
      " [-92.8789320003316 45.6656060003126]\n",
      " ...\n",
      " [-92.8868569997519 45.6357229999685]\n",
      " [-92.8894329996775 45.6412019999931]\n",
      " [-92.8870669998142 45.644148000243]]\n"
     ]
    },
    {
     "data": {
      "image/svg+xml": [
       "<svg xmlns=\"http://www.w3.org/2000/svg\" xmlns:xlink=\"http://www.w3.org/1999/xlink\" width=\"100.0\" height=\"100.0\" viewBox=\"-93.1550283996682 42.226124599968806 7.171075799748792 5.349292800217086\" preserveAspectRatio=\"xMinYMin meet\"><g transform=\"matrix(1,0,0,-1,0,89.8015420001547)\"><path fill-rule=\"evenodd\" fill=\"#66cc99\" stroke=\"#555555\" stroke-width=\"0.14342151599497582\" opacity=\"0.6\" d=\"M -92.8870669998142,45.644148000243 L -92.882504000142,45.6594709999592 L -92.8789320003316,45.6656060003126 L -92.8754879996695,45.6890140000094 L -92.8701450000226,45.6967569997031 L -92.8717750002922,45.6997740001271 L -92.8688620000827,45.7119929997078 L -92.8691929996205,45.7175679997961 L -92.8625979999958,45.7222409998213 L -92.8509329996374,45.7238309999597 L -92.8488510003546,45.7287509999304 L -92.8289810001934,45.7337140001747 L -92.8165590003249,45.7420369999782 L -92.8098369995803,45.7441720001411 L -92.8049419996471,45.7479159998752 L -92.8026300002104,45.751887999756 L -92.7846170000996,45.7641989997565 L -92.7764819997187,45.7900039998289 L -92.7720649996364,45.7952299998324 L -92.761832999904,45.8012580000347 L -92.7578150000299,45.8065739999136 L -92.7579470002744,45.8112159999288 L -92.7656809998989,45.8272519999053 L -92.7651460001466,45.8301830001258 L -92.7594579998199,45.835341000248 L -92.7510839999628,45.8406169996967 L -92.7455570001929,45.8414549997674 L -92.7399910000649,45.8462829999409 L -92.7361170001308,45.8591290000527 L -92.7382200002284,45.8620309998893 L -92.7222089999327,45.8830009998221 L -92.7125029997319,45.8917049996886 L -92.7063719997144,45.8954449999269 L -92.6998149997246,45.8961469998667 L -92.6773519999194,45.9058179996999 L -92.6757369997184,45.9074779999995 L -92.6761669998887,45.9120720000179 L -92.6595489998708,45.9229370002274 L -92.6555579997608,45.9245860000511 L -92.6391199996679,45.9245580001445 L -92.6401149997278,45.932477999738 L -92.6388240002902,45.9341659998924 L -92.6292600003796,45.9324039997268 L -92.6227200001082,45.9351860000908 L -92.6143139995657,45.934528999888 L -92.6024599999597,45.9408150002873 L -92.5895279995549,45.9417819998003 L -92.5748920001591,45.9481029998418 L -92.5519330000613,45.951650999797 L -92.5498579995529,45.9570389998835 L -92.5498059996743,45.9679860001963 L -92.5377090003941,45.9778180001731 L -92.527051999616,45.9832450001407 L -92.5194879998708,45.9839169999617 L -92.5025350001171,45.9799949998502 L -92.4909960001554,45.9755599997225 L -92.4697650002365,45.9735690001656 L -92.4615839998249,45.9788939999129 L -92.464512000103,45.9850380002164 L -92.4624769997775,45.9878500001769 L -92.4533730001744,45.9929130002301 L -92.4529520002249,45.9977819998409 L -92.4442939997873,46.0091610001187 L -92.4422590003601,46.0161769998427 L -92.4285550003766,46.0242409998322 L -92.4118960003508,46.0274780003018 L -92.3926809995925,46.0195400002486 L -92.37271699972,46.0141979999861 L -92.3621410000311,46.0131030001404 L -92.3517600003359,46.0156850001898 L -92.3499769999054,46.0169819999274 L -92.3492809995964,46.0236239996893 L -92.3437449996056,46.0285249999352 L -92.3424290000537,46.0345409998796 L -92.3434590002737,46.0429900000764 L -92.3387330003948,46.0481260000266 L -92.3363530002878,46.0569979998521 L -92.3329119999988,46.0626970001601 L -92.319329000389,46.0692890002554 L -92.294032999842,46.0743770000359 L -92.2923189999069,46.6633069997353 L -92.2912889996869,46.6681370002649 L -92.2873920001866,46.6673430002477 L -92.2861920000873,46.6603420001568 L -92.283899000019,46.6587099997028 L -92.2743920000097,46.6574409997764 L -92.2705919996955,46.6507410002997 L -92.2659930000382,46.6510409999614 L -92.2565920003342,46.6587409999327 L -92.2523090001462,46.6570689998481 L -92.2424930003404,46.6492409998477 L -92.228492000256,46.6529410000782 L -92.2163919997044,46.6498409999639 L -92.2070920002827,46.6519410000614 L -92.201592000277,46.6566409999867 L -92.2054920001504,46.6647410002428 L -92.2040920000346,46.6669410000881 L -92.1924919999735,46.6767410002535 L -92.1813589998927,46.6802410000654 L -92.1758749997805,46.686465999912 L -92.1762589999201,46.6904729997838 L -92.182999000208,46.6956519999371 L -92.1984909997465,46.6961409997266 L -92.2051919996764,46.698340999773 L -92.2046910002593,46.7040409999913 L -92.1973910001047,46.7076410001807 L -92.1932910002148,46.7112409998956 L -92.1914910000659,46.716241000064 L -92.1890909998674,46.7175409999446 L -92.17429100044,46.7172409998146 L -92.1672909998611,46.7199410000615 L -92.1551910002078,46.7159399998771 L -92.146730000312,46.7157940001577 L -92.1415220003844,46.7252850002868 L -92.1434020000008,46.7281519999546 L -92.1432899998479,46.7346400001177 L -92.1378900002996,46.7395399999614 L -92.1165899998854,46.7486399997331 L -92.0894930002629,46.7492369999054 L -92.0339890004156,46.7089390001779 L -92.0202939997545,46.7040409999913 L -91.9813409999779,46.7230910001729 L -91.8751860003836,46.7633030000525 L -91.5921169998389,46.8749350001723 L -91.5001809998889,46.9133199997186 L -91.1166090000916,47.0952159998095 L -90.6546599996645,47.3098220001952 L -89.9571020001925,47.2911030002522 L -90.0001449998133,47.2149690002009 L -90.4183920001204,46.5660990002009 L -90.4151990004267,46.5631129998376 L -90.4150439997177,46.5576729997099 L -90.4080299997934,46.5548389997035 L -90.4059800002976,46.5485769998376 L -90.4016479997057,46.544153999769 L -90.3993360002691,46.5439509999689 L -90.3955379996046,46.5359459998507 L -90.3922160000396,46.5360479999015 L -90.3923280001926,46.5345859998169 L -90.3951529996402,46.5342269999439 L -90.393262000153,46.5324330001149 L -90.3804510001221,46.5365649998173 L -90.3778890004402,46.5355460002502 L -90.3755169998308,46.5388310000324 L -90.36822900027,46.5411320000792 L -90.3653910004036,46.5395359999771 L -90.360684999718,46.5413800001485 L -90.3578500002246,46.5388130000875 L -90.3506839999643,46.5403249999909 L -90.3455069999988,46.5454379997567 L -90.3477320002951,46.5474760001935 L -90.3468059998323,46.5493499997071 L -90.3423360000465,46.5478309998489 L -90.3394039995704,46.5492879999399 L -90.3437770001701,46.5508539999666 L -90.3435329997727,46.5524549998777 L -90.3366209999556,46.5541209997714 L -90.3322299998125,46.5534319999576 L -90.3324750000349,46.5516719998825 L -90.3273790002602,46.551408999697 L -90.3280579999526,46.5481700001946 L -90.3267309996317,46.5460709997862 L -90.321306999794,46.5467419999687 L -90.3184480000112,46.5442430001573 L -90.3154770000754,46.5446970001452 L -90.3170810004057,46.5423480000033 L -90.3161599999657,46.54050399996 L -90.3121989999929,46.5402170001142 L -90.3106189999521,46.5391659999774 L -90.311613000187,46.5379800002298 L -90.3094409995941,46.5372849999032 L -90.3113799996601,46.5340390001464 L -90.3106039998834,46.5324110002672 L -90.3130219996253,46.5308890000167 L -90.3120130002201,46.529192999999 L -90.3144340003349,46.5236909998741 L -90.3178350004411,46.5215229999371 L -90.316554000151,46.5168959999281 L -90.3140860001804,46.5160119999646 L -90.3087669999246,46.5167300001309 L -90.3071969999296,46.5184369998068 L -90.3033260003685,46.5173599998515 L -90.2953220004072,46.5185100001494 L -90.2945890002882,46.5216599999239 L -90.2844639997876,46.5187150001889 L -90.2769400002254,46.5244470002103 L -90.2717959998718,46.5192650001075 L -90.2753240001995,46.5182300002328 L -90.2776230001157,46.5148100002361 L -90.2746520001799,46.5153580002891 L -90.2704409999619,46.5116830001309 L -90.2728699995744,46.5086330001826 L -90.2725509997321,46.5045119998336 L -90.2709339998814,46.5068520002365 L -90.2665670000277,46.5078550000096 L -90.2640060001708,46.5063100002196 L -90.2654969996248,46.5043000001151 L -90.261548000246,46.5025619997418 L -90.2566979996203,46.5048049998045 L -90.2408970002852,46.5059760001942 L -90.2312360002902,46.5098930001463 L -90.2294339995932,46.5078910000106 L -90.2312530000086,46.5030700002283 L -90.2291320003677,46.5026510002771 L -90.2309180002729,46.5015289999116 L -90.220771999856,46.5035680002264 L -90.2166369998059,46.5016370000446 L -90.2111920000518,46.4931110002564 L -90.2120809998064,46.490611000223 L -90.2057880003055,46.4847609997172 L -90.2042119995643,46.4783089998138 L -90.1971879995943,46.4731589996923 L -90.1931479999788,46.4723160001249 L -90.1926569997091,46.4685760002624 L -90.1888339998286,46.4689190002649 L -90.1921830000562,46.4657579999483 L -90.1922270004371,46.4633739997548 L -90.1936140001341,46.4633790000822 L -90.1907920001612,46.4598159996999 L -90.1804180001387,46.4565830001205 L -90.1810879996102,46.4587520002884 L -90.1783250000868,46.4574079998446 L -90.1791710001838,46.4505960000462 L -90.1766970003654,46.447982999918 L -90.1783500002012,46.4404649998429 L -90.1704039999662,46.4394379998501 L -90.1674199996117,46.4417050000156 L -90.1671300000817,46.4384529997672 L -90.1633189998968,46.4347639998753 L -90.1624200000964,46.4275790002601 L -90.1596590002229,46.4253939998644 L -90.1605589998482,46.4228890001064 L -90.1572980003825,46.4211219999437 L -90.158921000081,46.4190889999845 L -90.1577200001569,46.41570599987 L -90.1590869997624,46.4140300002077 L -90.158368999712,46.4094539999627 L -90.1536420000083,46.4070010000175 L -90.1532679999144,46.4058749998506 L -90.1549719998038,46.4054570000805 L -90.1528300002465,46.4037769997101 L -90.1540970002929,46.4032980000842 L -90.1531680003553,46.401216999781 L -90.146667000442,46.3990130001429 L -90.1477820001524,46.3960560001845 L -90.1447350000486,46.3932439998136 L -90.144351999734,46.3900480002124 L -90.1411740001089,46.3888729999251 L -90.1396819999317,46.3852590000697 L -90.1321769997377,46.3811199997641 L -90.134249999698,46.3791310002334 L -90.1328079997494,46.3781199998798 L -90.1344460004149,46.377439000303 L -90.1339860001074,46.3717890002625 L -90.1304600003278,46.3711510000849 L -90.1297320002316,46.3698730000887 L -90.1313519995571,46.3690530000344 L -90.1228110001937,46.3636450000365 L -90.1233679996873,46.3607349998608 L -90.1187029999079,46.3593450003083 L -90.1168519997054,46.3506510002151 L -90.1203959999266,46.3495940000026 L -90.1236510004429,46.3462649999189 L -90.1217800001489,46.344399999865 L -90.1200319998785,46.3447640000419 L -90.1179840000326,46.3415049996993 L -90.1214300003445,46.3374249997687 L -89.091638000012,46.1384469999974 L -88.850821999966,46.0403120000075 L -88.8390910003836,46.0299760000124 L -88.8354080002452,46.0304439999548 L -88.8243789999215,46.026552999842 L -88.8190839999552,46.026314000016 L -88.8154400001748,46.0229739999697 L -88.8160259999807,46.0205859999584 L -88.7964599995932,46.0236059999669 L -88.7962420000333,46.02685400011 L -88.8006699999863,46.0300360002584 L -88.7961819997589,46.0337120001507 L -88.7921620002349,46.0323160000117 L -88.7887660001516,46.0286230000279 L -88.7845959999415,46.0326540002285 L -88.7787389995604,46.0316900000847 L -88.7787340004358,46.0288750001811 L -88.7839399998154,46.023843999773 L -88.7824729997524,46.0167509999357 L -88.7801560002929,46.0153949999465 L -88.7698009996386,46.0189439999361 L -88.7688480003099,46.0218869997878 L -88.7706209997963,46.0255609999146 L -88.7663989997076,46.0248820002827 L -88.7589680000318,46.0196330002884 L -88.7527199998384,46.0234149999528 L -88.7389799998699,46.027459000152 L -88.7342339998995,46.0255449998906 L -88.7304749995932,46.0267279999362 L -88.7212610003852,46.0222209999084 L -88.722217000087,46.017530000023 L -88.7180240003106,46.0156110002335 L -88.7183139998405,46.0131820000562 L -88.7129770000414,46.0127180002706 L -88.712078000241,46.0163460002705 L -88.7077149996871,46.0153959999758 L -88.7037110000566,46.0182930001132 L -88.6974210000305,46.017489999758 L -88.6896959997284,46.0140029996945 L -88.6872689997657,46.0150439997864 L -88.6788680001444,46.0135950003057 L -88.6752839997402,46.0113960003094 L -88.6759159995769,46.0085459998363 L -88.6712149998124,46.0048589999649 L -88.6722569997279,46.0026450000494 L -88.6703300002558,46.0009980000107 L -88.671005999575,45.9988319999178 L -88.6667280003082,45.9969319997763 L -88.6670019999446,45.9937159998114 L -88.6634829998377,45.9927020002507 L -88.6706010004174,45.9898300001244 L -88.6708270003732,45.9885470000379 L -88.6641620004283,45.9891399999747 L -88.6629780002226,45.9874989999904 L -88.6579379996261,45.989419000067 L -88.651767000324,45.9875660001249 L -88.6476020001367,45.9886410002779 L -88.6464699998095,45.9871100001406 L -88.6385460002142,45.9850609997758 L -88.6352010001846,45.9852169997913 L -88.6339380003362,45.9881690001834 L -88.6159570000123,45.9878960000702 L -88.6130039996199,45.9909770002351 L -88.615967999883,45.9935389998601 L -88.6118489997265,45.9983900001159 L -88.6115120003409,46.0034779999204 L -88.6127120004402,46.004461999888 L -88.6073110001686,46.0076210002055 L -88.6072709999857,46.0113530002916 L -88.6041059998811,46.0163039997473 L -88.601177999603,46.0177699997572 L -88.5976819999607,46.0174719999101 L -88.5935479997355,46.0147699999525 L -88.5928909997845,46.0111250001901 L -88.588270000386,46.0050980001885 L -88.5809190001778,46.006784999768 L -88.5787540001559,46.0096930001071 L -88.5729570000493,46.0115979998731 L -88.5717589995998,46.0137739998531 L -88.5656629997425,46.0156790000452 L -88.5592970004467,46.0140969997417 L -88.5550900004266,46.015044999822 L -88.5491510000297,46.0128839998155 L -88.5394320003084,46.0144700000666 L -88.5362680000287,46.0176880001939 L -88.5325220001411,46.0183710001253 L -88.5336860002554,46.0211499999454 L -88.522749999818,46.019364999857 L -88.5146920003284,46.0200189999955 L -88.5063639996037,46.0176099998421 L -88.5065510000997,46.0113030001418 L -88.5022860003534,46.0069710001655 L -88.503102000313,46.005964999878 L -88.5008850004127,46.0006039999498 L -88.4968519995715,45.9992340001928 L -88.497978000051,45.9957939998476 L -88.4893549997735,45.9913670002098 L -88.475205999551,45.9931289996922 L -88.4737710001734,45.9949070000266 L -88.4745829999352,45.9989530002504 L -88.4707719997502,46.0009980000107 L -88.458672000097,45.9995140002638 L -88.4541090004248,45.9975289999001 L -88.4542349999231,45.9934759999207 L -88.4500370001239,45.9901120000703 L -88.4407490003978,45.9908500002199 L -88.4385580004367,45.9886040000099 L -88.4347620003203,45.9883399998429 L -88.4335570001982,45.9854089999752 L -88.4261309996469,45.9843860002119 L -88.4231930002214,45.9817250001048 L -88.4230380004107,45.9783969997695 L -88.4163809999635,45.9750919997559 L -88.4099100001873,45.9796699998782 L -88.4031010003024,45.981193000221 L -88.3954210002062,45.9803120000979 L -88.3886440001084,45.9826230001767 L -88.384259999638,45.9879000003033 L -88.3848420001443,45.9904490000579 L -88.3805029998797,45.9917649998408 L -88.3742980002424,45.989050000108 L -88.3717580003018,45.9854469998287 L -88.3598209999569,45.9818920002767 L -88.3454170003646,45.9739850000487 L -88.3425230004217,45.971986999979 L -88.34203600035,45.9689840003089 L -88.3347400003933,45.9686270001383 L -88.3302780001052,45.9658350001616 L -88.3280410001133,45.9635390001792 L -88.3278760002568,45.9589150002542 L -88.3301719997999,45.956631999957 L -88.3272760002072,45.9549570000979 L -88.3202439998412,45.9600840003042 L -88.3203080003136,45.9636569998425 L -88.3130209996795,45.9594310001757 L -88.3013779999607,45.9564590001018 L -88.2938490003756,45.9509410002592 L -88.2853139999617,45.9552619997466 L -88.269306999864,45.9562719999505 L -88.2676399997845,45.9578940002487 L -88.2590259997279,45.9596499997501 L -88.2549800002646,45.9635120003003 L -88.2468940002876,45.9635320002813 L -88.245708000432,45.9627350002287 L -88.2461789997119,45.9560830000881 L -88.2448330000228,45.9528639998965 L -88.2371060000709,45.9482780001597 L -88.2320439997331,45.9472139997886 L -88.224222000245,45.948607000036 L -88.2037970002401,45.9479410002115 L -88.197759999934,45.9530190001506 L -88.1920580002619,45.9526509998436 L -88.1780410002839,45.9470930000428 L -88.1700890002011,45.9394919998019 L -88.1638579997262,45.9383810001666 L -88.1617610003747,45.9407410001564 L -88.1556389996798,45.9373520001743 L -88.147650999612,45.9374270000193 L -88.145710999721,45.9362429999387 L -88.1463340002352,45.9340690001505 L -88.1412500001561,45.9308439998302 L -88.1268080000306,45.9259939998955 L -88.1266540000449,45.9217909999045 L -88.102461000411,45.9215460002408 L -88.0949269999047,45.9153230001605 L -88.0953140004173,45.9136570001505 L -88.1022520001737,45.9099419999008 L -88.1066240000502,45.9022129999457 L -88.1067579999445,45.8985290002783 L -88.102526999635,45.8922220002934 L -88.1012639997865,45.8822819999599 L -88.0964960000749,45.8798610003058 L -88.0818199995977,45.8802009998346 L -88.0697629996022,45.8729380002808 L -88.0758380004415,45.8696300002843 L -88.074828000313,45.8649050002919 L -88.0776529997607,45.8637440001659 L -88.0824649998532,45.8649610002249 L -88.0877189998116,45.8569500002183 L -88.0977580000984,45.8504379997075 L -88.1051960003453,45.8424130002237 L -88.1209010003192,45.8329620001566 L -88.1345170004392,45.8224569998998 L -88.1360330000076,45.8180909997827 L -88.1301289997708,45.8097079997687 L -88.1162659997786,45.8040859997274 L -88.1076080002394,45.8030399997952 L -88.1032129998983,45.7912549997249 L -88.099420000155,45.7899900000908 L -88.0947539996524,45.7857549999565 L -88.0799759999663,45.7851239999016 L -88.0721669999986,45.7800850000952 L -88.0499600002865,45.7811930000741 L -88.040936999976,45.7842650001216 L -88.0397279996559,45.789626000028 L -88.0272320001675,45.7891969996986 L -88.0175879998909,45.7924549997333 L -88.0070430001641,45.7921919997928 L -87.9914469999702,45.7953930001202 L -87.987942000107,45.7930750001163 L -87.980869999558,45.7769769997249 L -87.9817890003482,45.7750810003019 L -87.9855970001601,45.7749260000002 L -87.9896560000421,45.7720249998198 L -87.9864290000133,45.7695960000422 L -87.9669699997559,45.7640210002013 L -87.9634520003722,45.7582200002352 L -87.952182999849,45.7584160001364 L -87.9454779997211,45.756687000268 L -87.93458300019,45.7580960001468 L -87.9291269996669,45.7603680000667 L -87.9219939999169,45.7569959999745 L -87.9165559998354,45.759461000012 L -87.9113360002122,45.7565389999263 L -87.9066599996637,45.7595240000867 L -87.9027070000869,45.757932000193 L -87.8983629997995,45.752502999931 L -87.8768980004272,45.7543790001584 L -87.8733390001374,45.7504389998892 L -87.8681110001182,45.7494769998507 L -87.8656809997825,45.7462880001237 L -87.8622110000794,45.7450180001478 L -87.8643200000248,45.7371389999014 L -87.8554800000123,45.7269429997046 L -87.8373449997027,45.7169179998407 L -87.8101440003231,45.7102299997308 L -87.8050810001604,45.7049739999217 L -87.8090749997452,45.6997170002114 L -87.8018800000709,45.6938619998644 L -87.7822259998198,45.6830529998987 L -87.7808080001606,45.680348999946 L -87.7816230002954,45.6732800002585 L -87.7972780000406,45.6708380002225 L -87.8032900002324,45.6664939997836 L -87.8241910004384,45.6620439997229 L -87.8223779998707,45.6609969998294 L -87.8237009999936,45.6596969997617 L -87.8224590000616,45.6571510001418 L -87.8246779996118,45.6532119998244 L -87.8243920002798,45.6477100001141 L -87.8101950003768,45.638732000041 L -87.8045199995706,45.6289870002256 L -87.7969829995895,45.6236129996865 L -87.7958799995747,45.6188459999214 L -87.7808449999706,45.6145990000084 L -87.7776709996452,45.6092039998595 L -87.777936999784,45.6044400002782 L -87.7746820001661,45.6020240002011 L -87.7775040001389,45.5939080002816 L -87.7771989996421,45.5884980001985 L -87.7867659999258,45.5828280003118 L -87.7887979998783,45.5659470001969 L -87.7923720002367,45.5630550000346 L -87.8061039998094,45.5628629999757 L -87.8104199996094,45.5653079999593 L -87.8293480003124,45.5687769998378 L -87.8316909997112,45.5680359998609 L -87.8336900000517,45.5615559998698 L -87.8322959997837,45.558767000069 L -87.8187909999918,45.5521000003023 L -87.8170889997522,45.5495119999311 L -87.8083659999156,45.544661999725 L -87.8033899997915,45.5382719997737 L -87.8047199995871,45.5312439997197 L -87.8022409997459,45.5130589999292 L -87.798793999609,45.5062870000136 L -87.7932149999606,45.5050280001222 L -87.7927689998968,45.4999670000331 L -87.798172999643,45.4936659998174 L -87.7989600001887,45.4851470000437 L -87.8068910003551,45.4790920000008 L -87.8057730002716,45.473139000186 L -87.8114690000959,45.4679910001881 L -87.8129760003418,45.4641599999258 L -87.8202639999025,45.4623140000744 L -87.8200399995965,45.4604529999621 L -87.8255089996401,45.4580260001996 L -87.8312170000583,45.4571849999401 L -87.8355620001706,45.451102000302 L -87.8448039998659,45.4484060001437 L -87.8474290001953,45.4441770002755 L -87.8552980004374,45.4413789998479 L -87.8578409998527,45.4370319997553 L -87.8616970002435,45.4344730000813 L -87.860431999847,45.4235039997639 L -87.8571239996272,45.4201919999225 L -87.8562159996061,45.4161009998967 L -87.8505330002005,45.4116849997064 L -87.8493220002306,45.4038719997532 L -87.8509690002186,45.4019249998827 L -87.8591310003637,45.3989670001105 L -87.8596030003668,45.3964089998422 L -87.8568299998994,45.3931059999985 L -87.8594180004188,45.3882270001685 L -87.8709049996037,45.3831160001107 L -87.8754239997933,45.3793730001818 L -87.8756919995819,45.3770520002411 L -87.8714849995618,45.3715460001298 L -87.8848549996345,45.3627919997412 L -87.8878280001185,45.3581220000221 L -87.8880520004245,45.3546969998267 L -87.8851700001771,45.3517360000477 L -87.8811139997698,45.3512779998885 L -87.8703670003767,45.3562670002182 L -87.8697709996267,45.3586159999008 L -87.8758449997428,45.3650170002306 L -87.8729499999749,45.3665259997648 L -87.8691670002774,45.3660489997448 L -87.8653440003969,45.3620959998174 L -87.8657629997983,45.356280000032 L -87.8634889999965,45.3530200002594 L -87.8504179996745,45.3474920001447 L -87.8498989998157,45.3446509997413 L -87.8514749996586,45.3423350000568 L -87.8501330001674,45.3404349999342 L -87.8381409995709,45.3451009998029 L -87.8353029997045,45.3509799996969 L -87.8326120001512,45.3522489999908 L -87.8269179999767,45.350538000205 L -87.8230280001491,45.3526500000739 L -87.8100759996528,45.3512690000964 L -87.8004640000616,45.3536080002011 L -87.7903219998426,45.3534509999846 L -87.7830760001147,45.3497250000517 L -87.7692599999781,45.3511959998355 L -87.762128000053,45.3484009997539 L -87.7541040000003,45.3494420000313 L -87.7514519999067,45.3517550000818 L -87.750928000025,45.3550370000562 L -87.7388230003489,45.3568509997342 L -87.7334089996586,45.3644320000473 L -87.7188910002635,45.3774620000123 L -87.70832899992,45.3812180000181 L -87.70433799981,45.3854639998156 L -87.6939560002898,45.3898929997954 L -87.6859339998869,45.3887110001358 L -87.6828659998667,45.3849500000657 L -87.6750169997161,45.3824539998224 L -87.6735129998432,45.3769459997674 L -87.65735000011,45.3687540000763 L -87.6558040004043,45.3627129999168 L -87.6564470001116,45.3584130002631 L -87.6539189998666,45.3545899998313 L -87.650721999975,45.3540049997784 L -87.6477290002979,45.3507209999549 L -87.6481259999579,45.339395999824 L -87.655775000092,45.3308459999771 L -87.6616030001608,45.327607999765 L -87.6617110001158,45.3207360001729 L -87.6726690002944,45.3102129999194 L -87.6718890003198,45.3081060001446 L -87.6790909996668,45.3058410000504 L -87.6803300001241,45.3028000000329 L -87.6874989998591,45.2980550001359 L -87.6903409999235,45.2902169997758 L -87.6982479998004,45.281511999802 L -87.6973730002895,45.2784440003108 L -87.6992289996165,45.2767459999638 L -87.6987800000779,45.2694199998907 L -87.7056430003895,45.2661039997721 L -87.7104499995609,45.259323999974 L -87.7077580001827,45.2586369998842 L -87.7113149999244,45.2523960000887 L -87.7099330002502,45.2490330001536 L -87.7113390002138,45.2399650001902 L -87.7182639995514,45.2383329997877 L -87.7249920001438,45.2321399999745 L -87.7251650003961,45.2303320000636 L -87.7213540002112,45.226846999886 L -87.7224730001196,45.2233089997689 L -87.7269520001262,45.2189490001487 L -87.7261980000908,45.2093909997575 L -87.7363389995865,45.2046529997849 L -87.7418100001782,45.197469000033 L -87.7390069995736,45.1927380001697 L -87.739396999561,45.1900460001596 L -87.7352099996324,45.1776420001462 L -87.7361040003082,45.172244000064 L -87.7277680000859,45.1695959998881 L -87.7179100004474,45.1611910001891 L -87.709539000065,45.158690000049 L -87.7073909997615,45.1546789998452 L -87.7034919997131,45.1522059996961 L -87.6923750004241,45.149505000148 L -87.6839019999344,45.1441349999698 L -87.6758159999574,45.1350590003118 L -87.6782089995848,45.130083999938 L -87.6747420002548,45.1270179996965 L -87.6724469996383,45.1212940002972 L -87.6612960000141,45.1125659999724 L -87.6612109996253,45.108278999799 L -87.6599519999748,45.1075120003146 L -87.6525120000781,45.1086330001328 L -87.6481910002553,45.1063680001699 L -87.6315349997042,45.1062239997108 L -87.6277169998465,45.1033499999353 L -87.5918799997707,45.0946890001531 L -87.5853880000782,45.0969249999411 L -87.44250799958,45.0764339998307 L -87.405693999886,45.2019690000849 L -87.3154219996425,45.2406569998735 L -87.1711700004143,45.3525400001324 L -87.1011330002048,45.4442300001973 L -86.7542360001843,45.4436099997207 L -86.2495479999101,45.2361249999463 L -86.433127999732,45.1249910001394 L -86.4999300004149,45.0807999998192 L -86.6862879998288,44.8810020000028 L -86.8551839996759,44.5003389998039 L -86.8476940004488,44.5003389998039 L -87.000080000233,44.1548209998068 L -87.000072999662,44.1632359998216 L -87.0132340003956,44.1319049997823 L -87.0462489996003,43.999999999853 L -87.0488470001655,43.999999999853 L -87.1141020004196,43.7341109999213 L -87.1250789999665,43.670445000247 L -87.147166000028,43.3798590001406 L -87.1250720002938,43.2277370001511 L -87.1083970003744,43.1250100000078 L -87.0199350003255,42.4934979997221 L -87.3750580000652,42.4938150003252 L -87.7933709995962,42.4917199999595 L -87.961771999874,42.4947560000858 L -88.138878000445,42.4956039998572 L -88.6289970003722,42.4950449996741 L -88.776493000246,42.4919120002119 L -89.6698199997799,42.505043999862 L -89.9552369997463,42.5056509997906 L -90.0736700001674,42.5082750003305 L -90.4017029999573,42.5068889998929 L -90.6428429998685,42.5084810000285 L -90.6359889997777,42.515409000118 L -90.6358289999442,42.5179279997136 L -90.6413730003308,42.5285749997643 L -90.6446870003983,42.5413169999123 L -90.654126999562,42.5498999999572 L -90.6591269999756,42.5578999998577 L -90.6615270001741,42.5679989998069 L -90.6779350001297,42.5800310002963 L -90.6869750001587,42.5917740001689 L -90.6879989996326,42.5991979999216 L -90.6939990001288,42.6145090001406 L -90.7000949999862,42.6224610001319 L -90.7026709999118,42.630756000099 L -90.7092039996122,42.6360780003162 L -90.7202089996465,42.640758000228 L -90.7694950003361,42.6514429997789 L -90.8439100002697,42.6630709998636 L -90.8874299999165,42.6724700003124 L -90.900261000039,42.6762540000109 L -90.9211549996739,42.6854060001879 L -90.9370449995957,42.6833989998717 L -90.9492100004446,42.6855690003211 L -90.9650479995896,42.6932329997361 L -90.977734999772,42.6968159999695 L -90.9887759997913,42.7087240001163 L -91.0001280001553,42.716188999763 L -91.0095770004382,42.7201229998299 L -91.0172390000927,42.7195660002736 L -91.0267860002849,42.7242279998871 L -91.0296919999234,42.7267740001466 L -91.0320129995808,42.7344840002126 L -91.0354179998849,42.7373399999279 L -91.0441390000717,42.7386050002548 L -91.0499720001633,42.7369050002706 L -91.0537330001196,42.7382380003222 L -91.0562970003496,42.747340999843 L -91.0601720001086,42.7504809999673 L -91.0646800004276,42.750913999987 L -91.0657830004424,42.7533869999539 L -91.0654920001893,42.7570810001507 L -91.061431999584,42.757974000014 L -91.0602609997971,42.7618469996807 L -91.0695490004215,42.769628000113 L -91.0708299998133,42.7822250000685 L -91.0780970003559,42.8065259999684 L -91.0786649997202,42.8276779999353 L -91.082769999633,42.829976999752 L -91.0901359999098,42.8292370000261 L -91.0940600000727,42.8308129998058 L -91.0951139996837,42.8349660003135 L -91.0914020001313,42.8498599999896 L -91.0976560001725,42.8598710001365 L -91.0982379997804,42.8757979998261 L -91.100565000184,42.8830780002169 L -91.1174109998075,42.8958370002869 L -91.1447939996603,42.9059969997715 L -91.1461820000805,42.9123380002158 L -91.1438780001415,42.9206460003185 L -91.1443149999845,42.9265920000532 L -91.1498800002875,42.9419549999189 L -91.1455400001981,42.9565100000035 L -91.1459350002083,42.9607699998851 L -91.1480009995976,42.9661550002244 L -91.1565619999509,42.9782260003007 L -91.1574900000635,42.9914749998379 L -91.1746920002376,43.0387130001764 L -91.1778940001521,43.0642059996809 L -91.1794569995761,43.06742700031 L -91.1772639999652,43.0729829997536 L -91.1751929996547,43.1037709999086 L -91.1779319997869,43.1288749999039 L -91.1752529999291,43.1346649999959 L -91.1561999995526,43.1429450002945 L -91.1461999996239,43.1524049996772 L -91.1432830001147,43.1564129998076 L -91.1386490002974,43.1699930001915 L -91.1244280001049,43.1878860002178 L -91.1221700001967,43.197255000236 L -91.0874560002272,43.2218909999556 L -91.0663979996624,43.2392930000581 L -91.059684000212,43.248566000069 L -91.0579180003983,43.2553660000226 L -91.0597500003342,43.2590739997603 L -91.0699369998607,43.2602720002273 L -91.0726490002288,43.2621290000198 L -91.0717239995908,43.2713919997991 L -91.0737100004108,43.2747460000955 L -91.0856519998803,43.2918699996848 L -91.1072369998015,43.3136449999018 L -91.137342999893,43.329756999891 L -91.1548060001829,43.3348259999954 L -91.1811150003331,43.3459260002849 L -91.2039639999277,43.3498520000649 L -91.2147699997703,43.3658739998174 L -91.2141720002688,43.3693779999628 L -91.2060720000481,43.3749759999641 L -91.1976699997036,43.3953339998705 L -91.200358999607,43.4127009998384 L -91.20314399977,43.419805000046 L -91.2287499999384,43.4455370002522 L -91.2333670000373,43.4551679998861 L -91.2322409995579,43.4600180001267 L -91.2245859995761,43.4655250002099 L -91.2203989996475,43.4713059998989 L -91.2160350001669,43.4811419998452 L -91.2152819999564,43.484797999741 L -91.2182699996106,43.4972279997589 L -91.2173530002669,43.5124739998354 L -91.2226130000731,43.5178919998855 L -91.2329410000649,43.5239669998905 L -91.2367249995874,43.5329299998314 L -91.243182999843,43.5403090003179 L -91.2432139998051,43.5507219997008 L -91.2328120001935,43.5648419997293 L -91.2318649998142,43.5818220001739 L -91.2391089998924,43.5897600000397 L -91.261631000147,43.6061750001754 L -91.2687480000035,43.6153480001049 L -91.2684569997504,43.6273520001603 L -91.262396999878,43.6417600000237 L -91.2638560004434,43.6476619998582 L -91.2717490000766,43.6549289998829 L -91.2732520001245,43.666622999937 L -91.2712979999899,43.6727529997405 L -91.2727409997634,43.6766089999418 L -91.2677920003018,43.6956520001303 L -91.2684550001006,43.7098240000312 L -91.2587559995724,43.7234260000289 L -91.2559319999497,43.7298490002645 L -91.2554309996343,43.7448759997578 L -91.2441350002451,43.7746669997475 L -91.262432999863,43.7921699996905 L -91.2644360004015,43.8003649998626 L -91.2674359997513,43.8041660001435 L -91.2678490002032,43.8087610002789 L -91.2720369999567,43.8137660000509 L -91.2757369998135,43.8248659998174 L -91.2776950001461,43.837740999785 L -91.2841380003332,43.8470649998367 L -91.2910019995713,43.8527329997589 L -91.2988149997369,43.8565550003004 L -91.3109909995581,43.8673810002367 L -91.3153099997312,43.8818079999966 L -91.3206049996975,43.888490999873 L -91.325465000369,43.8922239997409 L -91.3381409997824,43.8976640001297 L -91.3477409996781,43.9119640000169 L -91.3574250001376,43.9172309997956 L -91.3632270002671,43.9265569996945 L -91.3647200002693,43.9348800002628 L -91.3666419997186,43.9374629997026 L -91.3857939998294,43.9542390001961 L -91.4060110003201,43.9639290001833 L -91.4124910003171,43.9734109999851 L -91.4241340000358,43.9826310000888 L -91.4312030002118,43.9954449997525 L -91.4392649998994,44.0009880001859 L -91.4635150003329,44.0090409999301 L -91.4808699997695,44.0081450002525 L -91.4949880000299,44.0125360001001 L -91.5071210001934,44.0189800000635 L -91.5243149999715,44.0214329997414 L -91.5470280000219,44.0222260000451 L -91.5590039998266,44.0253150000481 L -91.5800189998354,44.0269250002544 L -91.5920699999832,44.0313719999982 L -91.5976169998446,44.0349649997996 L -91.6035500003937,44.043681000168 L -91.6104870003251,44.0493100002913 L -91.6278960001884,44.0558049997577 L -91.6381399996163,44.0632949996846 L -91.6447169996976,44.0627819997966 L -91.6478729995813,44.0641090000362 L -91.6595110001756,44.0742029997472 L -91.6670060003238,44.0869639997264 L -91.6815299995667,44.0974000002313 L -91.6953099997182,44.0985699997629 L -91.7074909995623,44.1039059998194 L -91.7105970001157,44.1204800001286 L -91.7215519999213,44.1303419999304 L -91.7306480000268,44.1329000001897 L -91.7517469997012,44.134785999994 L -91.7744859996909,44.1475390002434 L -91.8080640000335,44.1592620000754 L -91.8173020004292,44.1642349997954 L -91.8291669999059,44.1783499998752 L -91.8447539998789,44.184877999693 L -91.8643870002136,44.1965740001464 L -91.8751579998962,44.2005750000134 L -91.8774290002233,44.2129210002704 L -91.892698000179,44.2311050002326 L -91.8929629995946,44.2351490001634 L -91.8870399999896,44.2517720001731 L -91.8891320002165,44.2560600001597 L -91.8960080000486,44.2628709998545 L -91.8963879999902,44.2746899999686 L -91.9057889996942,44.2816140002522 L -91.9202819998733,44.2864960000474 L -91.9246129997419,44.2918150002165 L -91.924102000279,44.2970950002521 L -91.9135740002707,44.3103920001173 L -91.9186249998395,44.3226710001931 L -91.9255900002584,44.3335480000276 L -91.9413110001258,44.3409779997263 L -91.9595230004282,44.3594040001935 L -91.9668090003391,44.3639860003087 L -91.9771029999957,44.3681359999626 L -91.9872889996973,44.3691189997244 L -92.0061789998672,44.3788250000273 L -92.0193129999384,44.3812170002698 L -92.0381470000318,44.3887310000697 L -92.0564859996576,44.4027289999786 L -92.0786050004045,44.4048690001617 L -92.0872389996543,44.4088499999859 L -92.1123080004206,44.4143319998581 L -92.1245129996558,44.422114999826 L -92.1624539996542,44.4272079997312 L -92.1953780004188,44.4337920003189 L -92.2151630001912,44.4385030000003 L -92.2308559995711,44.4444960000234 L -92.2448840003181,44.4568420002818 L -92.2739789995579,44.471882000053 L -92.2910050000048,44.4854640002326 L -92.3022150000785,44.5002980001132 L -92.3030460001068,44.5186459996972 L -92.3108269995871,44.5287559999266 L -92.3140710002326,44.5380139998854 L -92.3223410003327,44.5467789997064 L -92.3361139999132,44.5540039998599 L -92.3615180004153,44.5589349999888 L -92.3915449999657,44.5576429997038 L -92.4021049997611,44.5586060001027 L -92.4150890000444,44.5603590001373 L -92.4311010001649,44.5657859998604 L -92.4407460002664,44.5628549999443 L -92.4550899995843,44.5620230001726 L -92.4809860001809,44.5684489998466 L -92.4937169998459,44.5660520000664 L -92.5086669999595,44.5703129997796 L -92.5192180004324,44.5752749996899 L -92.5279999998202,44.5732500000667 L -92.5410159998906,44.5671269996812 L -92.5488890003306,44.5682519997631 L -92.5515670003634,44.5722149998064 L -92.5493389996941,44.5778469997078 L -92.5498269995907,44.5810979998642 L -92.5689460000895,44.6033719998859 L -92.5771559999151,44.6050370000785 L -92.581588000066,44.6008509999148 L -92.5862160000356,44.6000880000335 L -92.5887969999841,44.6016980000593 L -92.590488000353,44.6059440001593 L -92.601608000015,44.6120380002335 L -92.6147129997738,44.6116579998054 L -92.6216420002077,44.614929000208 L -92.6235660002051,44.6206400001601 L -92.6202620001834,44.6286539997056 L -92.6202150003277,44.6341940000406 L -92.6218470002471,44.6390179996983 L -92.6320210002531,44.6491869999551 L -92.6609880003447,44.6608999999722 L -92.6943199997417,44.6886150000621 L -92.7320430001801,44.7143449999939 L -92.7556709999244,44.7232430001043 L -92.7719480003588,44.7320770001509 L -92.7923359996555,44.7393620000284 L -92.8082420003692,44.7510830000029 L -92.8076869996271,44.759285000258 L -92.8044450004279,44.7707599999577 L -92.7991649996319,44.7789690001343 L -92.7856220002052,44.7918869999466 L -92.7807540000361,44.8122999999507 L -92.7729109997333,44.8215030003056 L -92.7724379999053,44.8281899997304 L -92.7659319999691,44.8356309998568 L -92.7695010003047,44.8620010001343 L -92.7634110002951,44.8741400000499 L -92.7739459999761,44.8899969999078 L -92.7745710001401,44.8980839999054 L -92.7731030002522,44.9013669999404 L -92.7587010003098,44.908978999945 L -92.7506449995716,44.937298999984 L -92.7546030000697,44.9557669997512 L -92.7606999997519,44.964978999813 L -92.7672180002821,44.9680839997128 L -92.7694450002282,44.9721499997619 L -92.7703459996784,44.9833280002514 L -92.7690490003931,44.988195000238 L -92.7712310001334,45.0013780000113 L -92.7620599996848,45.024320000222 L -92.7646039998233,45.0287670002637 L -92.7703619995719,45.0338029997251 L -92.7955860001489,45.0492439999037 L -92.8015680002035,45.0565070001207 L -92.8031239999548,45.0615660000308 L -92.8015220001727,45.068623000193 L -92.7926570000459,45.0787620003079 L -92.7467489998962,45.1070510002393 L -92.7395829996359,45.1155979999773 L -92.7406100003811,45.118453999913 L -92.7456919999121,45.1231119997578 L -92.7525059998199,45.145965999964 L -92.7573520002476,45.152350999731 L -92.7581320002223,45.1596769997219 L -92.7569070000087,45.1651659997683 L -92.7524039997126,45.1739159997959 L -92.7668080002032,45.18546600018 L -92.7671300004185,45.1941650001125 L -92.7639080004125,45.2048659999631 L -92.7540049996699,45.2127689997442 L -92.7517080003018,45.218666000019 L -92.7574560000047,45.2305260000408 L -92.7602639997339,45.2517170002524 L -92.7536210004286,45.259419000156 L -92.7519200000139,45.2658770002116 L -92.7538440000114,45.2709589997707 L -92.7606119998884,45.2788279997549 L -92.7620039996083,45.2882129999528 L -92.7587099996323,45.2909649997698 L -92.7511550001079,45.2928270000287 L -92.7371210004115,45.3004590001845 L -92.7277370004258,45.3092879999422 L -92.7086749998285,45.3225249999361 L -92.6989669999778,45.3363740001818 L -92.6995229996465,45.3424210002209 L -92.70405400043,45.3536599999878 L -92.7027229999112,45.3584680002338 L -92.6885279996579,45.3684289997519 L -92.6791870002284,45.3727099999109 L -92.676962999757,45.3801439999731 L -92.6641040000454,45.3933080001731 L -92.6504200001533,45.398509999841 L -92.6505680002914,45.4033109998196 L -92.6466759999156,45.4132270002599 L -92.6502689996423,45.4191680002277 L -92.6466020002957,45.4416350002183 L -92.6535490002729,45.4553460000073 L -92.6802340001667,45.4643439997533 L -92.6825959998321,45.4699089997533 L -92.6909620001916,45.475442000112 L -92.7008990003712,45.4916089998334 L -92.712862999582,45.5048489998076 L -92.7266770000687,45.514461999916 L -92.7280229997578,45.525651999948 L -92.7246500001391,45.5367440000365 L -92.7260820000419,45.54111199986 L -92.7455909996298,45.5530160001641 L -92.7569060001838,45.5574989998254 L -92.7702229996547,45.566939000089 L -92.7759879999743,45.5684780000085 L -92.7857410000308,45.5678879999334 L -92.8015029999061,45.5628539999273 L -92.8233089997603,45.5609340000497 L -92.8464469999581,45.566514999966 L -92.8710820003562,45.5675809997753 L -92.8837490004471,45.5754829999659 L -92.8849539996709,45.5788179999829 L -92.883277000444,45.5898309997506 L -92.8864209997338,45.5948809997645 L -92.8864419996502,45.5986789997729 L -92.8825290002563,45.6102159999332 L -92.8880350001098,45.6249590001359 L -92.8868569997519,45.6357229999685 L -92.8894329996775,45.6412019999931 L -92.8870669998142,45.644148000243 z\" /></g></svg>"
      ],
      "text/plain": [
       "<POLYGON ((-92.887 45.644, -92.883 45.659, -92.879 45.666, -92.875 45.689, -...>"
      ]
     },
     "execution_count": 148,
     "metadata": {},
     "output_type": "execute_result"
    }
   ],
   "source": [
    "items = list(States_geoms[\"St Asgeojson\"])[len(States_geoms)-1].split('\":')\n",
    "print(items[0][2:])\n",
    "print([eval(x.strip()) for x in items[1][1:(len(items[1])-7)].split('],[')])\n",
    "print(items[2][2:(len(items[2])-2)])\n",
    "\n",
    "geom_array = np.array([eval(x.strip()) for x in items[1][1:(len(items[1])-7)].split('],[')], dtype=object)\n",
    "print(geom_array[0][0])\n",
    "shapely.Polygon(geom_array[0][0])"
   ]
  },
  {
   "cell_type": "code",
   "execution_count": 295,
   "metadata": {},
   "outputs": [
    {
     "data": {
      "text/html": [
       "\n",
       "            <style>\n",
       "                .geemap-dark {\n",
       "                    --jp-widgets-color: white;\n",
       "                    --jp-widgets-label-color: white;\n",
       "                    --jp-ui-font-color1: white;\n",
       "                    --jp-layout-color2: #454545;\n",
       "                    background-color: #383838;\n",
       "                }\n",
       "\n",
       "                .geemap-dark .jupyter-button {\n",
       "                    --jp-layout-color3: #383838;\n",
       "                }\n",
       "\n",
       "                .geemap-colab {\n",
       "                    background-color: var(--colab-primary-surface-color, white);\n",
       "                }\n",
       "\n",
       "                .geemap-colab .jupyter-button {\n",
       "                    --jp-layout-color3: var(--colab-primary-surface-color, white);\n",
       "                }\n",
       "            </style>\n",
       "            "
      ],
      "text/plain": [
       "<IPython.core.display.HTML object>"
      ]
     },
     "metadata": {},
     "output_type": "display_data"
    },
    {
     "ename": "TypeError",
     "evalue": "'float' object is not iterable",
     "output_type": "error",
     "traceback": [
      "\u001b[1;31m---------------------------------------------------------------------------\u001b[0m",
      "\u001b[1;31mTypeError\u001b[0m                                 Traceback (most recent call last)",
      "Cell \u001b[1;32mIn[295], line 2\u001b[0m\n\u001b[0;32m      1\u001b[0m Stastes_gdf \u001b[38;5;241m=\u001b[39m Str_element_to_geometry(States_geoms, \u001b[38;5;124m\"\u001b[39m\u001b[38;5;124mSt Asgeojson\u001b[39m\u001b[38;5;124m\"\u001b[39m)\n\u001b[1;32m----> 2\u001b[0m county_gdf \u001b[38;5;241m=\u001b[39m \u001b[43mStr_element_to_geometry\u001b[49m\u001b[43m(\u001b[49m\u001b[43mCounty_geoms\u001b[49m\u001b[43m,\u001b[49m\u001b[43m \u001b[49m\u001b[38;5;124;43m\"\u001b[39;49m\u001b[38;5;124;43mGeo Shape\u001b[39;49m\u001b[38;5;124;43m\"\u001b[39;49m\u001b[43m)\u001b[49m\n\u001b[0;32m      3\u001b[0m \u001b[38;5;66;03m# for index, item in enumerate(multipolygon_problem[0].tolist()):\u001b[39;00m\n\u001b[0;32m      4\u001b[0m \u001b[38;5;66;03m#     list = item\u001b[39;00m\n\u001b[0;32m      5\u001b[0m \u001b[38;5;66;03m#     for i, itemm in enumerate(list):\u001b[39;00m\n\u001b[0;32m      6\u001b[0m \u001b[38;5;66;03m#         array = np.array(itemm)\u001b[39;00m\n\u001b[0;32m      7\u001b[0m         \n\u001b[0;32m      8\u001b[0m \u001b[38;5;66;03m#         #to_fill[i] = array\u001b[39;00m\n\u001b[0;32m      9\u001b[0m \u001b[38;5;28mlen\u001b[39m(county_gdf)\n",
      "Cell \u001b[1;32mIn[294], line 23\u001b[0m, in \u001b[0;36mStr_element_to_geometry\u001b[1;34m(df, column)\u001b[0m\n\u001b[0;32m     21\u001b[0m     \u001b[38;5;28;01mif\u001b[39;00m geom_type \u001b[38;5;241m==\u001b[39m \u001b[38;5;124m\"\u001b[39m\u001b[38;5;124mMultiPolygon\u001b[39m\u001b[38;5;124m\"\u001b[39m:\n\u001b[0;32m     22\u001b[0m         MultiPolygon_counter \u001b[38;5;241m+\u001b[39m\u001b[38;5;241m=\u001b[39m \u001b[38;5;241m1\u001b[39m\n\u001b[1;32m---> 23\u001b[0m         geom \u001b[38;5;241m=\u001b[39m \u001b[43mshapely\u001b[49m\u001b[38;5;241;43m.\u001b[39;49m\u001b[43mMultiPolygon\u001b[49m\u001b[43m(\u001b[49m\u001b[43mgeom_list\u001b[49m\u001b[43m[\u001b[49m\u001b[38;5;241;43m0\u001b[39;49m\u001b[43m]\u001b[49m\u001b[43m)\u001b[49m\n\u001b[0;32m     24\u001b[0m     new_column\u001b[38;5;241m.\u001b[39mappend(geom)\n\u001b[0;32m     25\u001b[0m gdf \u001b[38;5;241m=\u001b[39m df                                                                                                                              \u001b[38;5;66;03m# Creating the GeoDataFrame\u001b[39;00m\n",
      "File \u001b[1;32mc:\\Users\\Tyler Marino\\Documents\\anaconda\\envs\\epsvenvv\\Lib\\site-packages\\shapely\\geometry\\multipolygon.py:84\u001b[0m, in \u001b[0;36mMultiPolygon.__new__\u001b[1;34m(self, polygons)\u001b[0m\n\u001b[0;32m     82\u001b[0m     \u001b[38;5;28;01melse\u001b[39;00m:\n\u001b[0;32m     83\u001b[0m         holes \u001b[38;5;241m=\u001b[39m \u001b[38;5;28;01mNone\u001b[39;00m\n\u001b[1;32m---> 84\u001b[0m     p \u001b[38;5;241m=\u001b[39m \u001b[43mpolygon\u001b[49m\u001b[38;5;241;43m.\u001b[39;49m\u001b[43mPolygon\u001b[49m\u001b[43m(\u001b[49m\u001b[43mshell\u001b[49m\u001b[43m,\u001b[49m\u001b[43m \u001b[49m\u001b[43mholes\u001b[49m\u001b[43m)\u001b[49m\n\u001b[0;32m     85\u001b[0m \u001b[38;5;28;01melse\u001b[39;00m:\n\u001b[0;32m     86\u001b[0m     p \u001b[38;5;241m=\u001b[39m polygon\u001b[38;5;241m.\u001b[39mPolygon(ob)\n",
      "File \u001b[1;32mc:\\Users\\Tyler Marino\\Documents\\anaconda\\envs\\epsvenvv\\Lib\\site-packages\\shapely\\geometry\\polygon.py:237\u001b[0m, in \u001b[0;36mPolygon.__new__\u001b[1;34m(self, shell, holes)\u001b[0m\n\u001b[0;32m    235\u001b[0m         holes \u001b[38;5;241m=\u001b[39m \u001b[38;5;28;01mNone\u001b[39;00m\n\u001b[0;32m    236\u001b[0m     \u001b[38;5;28;01melse\u001b[39;00m:\n\u001b[1;32m--> 237\u001b[0m         holes \u001b[38;5;241m=\u001b[39m [\u001b[43mLinearRing\u001b[49m\u001b[43m(\u001b[49m\u001b[43mring\u001b[49m\u001b[43m)\u001b[49m \u001b[38;5;28;01mfor\u001b[39;00m ring \u001b[38;5;129;01min\u001b[39;00m holes]\n\u001b[0;32m    239\u001b[0m geom \u001b[38;5;241m=\u001b[39m shapely\u001b[38;5;241m.\u001b[39mpolygons(shell, holes\u001b[38;5;241m=\u001b[39mholes)\n\u001b[0;32m    240\u001b[0m \u001b[38;5;28;01mif\u001b[39;00m \u001b[38;5;129;01mnot\u001b[39;00m \u001b[38;5;28misinstance\u001b[39m(geom, Polygon):\n",
      "File \u001b[1;32mc:\\Users\\Tyler Marino\\Documents\\anaconda\\envs\\epsvenvv\\Lib\\site-packages\\shapely\\geometry\\polygon.py:93\u001b[0m, in \u001b[0;36mLinearRing.__new__\u001b[1;34m(self, coordinates)\u001b[0m\n\u001b[0;32m     90\u001b[0m     \u001b[38;5;28;01melse\u001b[39;00m:\n\u001b[0;32m     91\u001b[0m         \u001b[38;5;28;01mreturn\u001b[39;00m [\u001b[38;5;28mfloat\u001b[39m(c) \u001b[38;5;28;01mfor\u001b[39;00m c \u001b[38;5;129;01min\u001b[39;00m o]\n\u001b[1;32m---> 93\u001b[0m coordinates \u001b[38;5;241m=\u001b[39m np\u001b[38;5;241m.\u001b[39marray([\u001b[43m_coords\u001b[49m\u001b[43m(\u001b[49m\u001b[43mo\u001b[49m\u001b[43m)\u001b[49m \u001b[38;5;28;01mfor\u001b[39;00m o \u001b[38;5;129;01min\u001b[39;00m coordinates])\n\u001b[0;32m     94\u001b[0m \u001b[38;5;28;01mif\u001b[39;00m \u001b[38;5;129;01mnot\u001b[39;00m np\u001b[38;5;241m.\u001b[39missubdtype(coordinates\u001b[38;5;241m.\u001b[39mdtype, np\u001b[38;5;241m.\u001b[39mnumber):\n\u001b[0;32m     95\u001b[0m     \u001b[38;5;66;03m# conversion of coords to 2D array failed, this might be due\u001b[39;00m\n\u001b[0;32m     96\u001b[0m     \u001b[38;5;66;03m# to inconsistent coordinate dimensionality\u001b[39;00m\n\u001b[0;32m     97\u001b[0m     \u001b[38;5;28;01mraise\u001b[39;00m \u001b[38;5;167;01mValueError\u001b[39;00m(\u001b[38;5;124m\"\u001b[39m\u001b[38;5;124mInconsistent coordinate dimensionality\u001b[39m\u001b[38;5;124m\"\u001b[39m)\n",
      "File \u001b[1;32mc:\\Users\\Tyler Marino\\Documents\\anaconda\\envs\\epsvenvv\\Lib\\site-packages\\shapely\\geometry\\polygon.py:91\u001b[0m, in \u001b[0;36mLinearRing.__new__.<locals>._coords\u001b[1;34m(o)\u001b[0m\n\u001b[0;32m     89\u001b[0m     \u001b[38;5;28;01mreturn\u001b[39;00m o\u001b[38;5;241m.\u001b[39mcoords[\u001b[38;5;241m0\u001b[39m]\n\u001b[0;32m     90\u001b[0m \u001b[38;5;28;01melse\u001b[39;00m:\n\u001b[1;32m---> 91\u001b[0m     \u001b[38;5;28;01mreturn\u001b[39;00m [\u001b[38;5;28mfloat\u001b[39m(c) \u001b[38;5;28;01mfor\u001b[39;00m c \u001b[38;5;129;01min\u001b[39;00m o]\n",
      "\u001b[1;31mTypeError\u001b[0m: 'float' object is not iterable"
     ]
    }
   ],
   "source": [
    "\n",
    "\n",
    "Stastes_gdf = Str_element_to_geometry(States_geoms, \"St Asgeojson\")\n",
    "county_gdf = Str_element_to_geometry(County_geoms, \"Geo Shape\")\n",
    "# for index, item in enumerate(multipolygon_problem[0].tolist()):\n",
    "#     list = item\n",
    "#     for i, itemm in enumerate(list):\n",
    "#         array = np.array(itemm)\n",
    "        \n",
    "#         #to_fill[i] = array\n",
    "len(county_gdf)"
   ]
  },
  {
   "cell_type": "code",
   "execution_count": 57,
   "metadata": {},
   "outputs": [
    {
     "data": {
      "text/html": [
       "\n",
       "            <style>\n",
       "                .geemap-dark {\n",
       "                    --jp-widgets-color: white;\n",
       "                    --jp-widgets-label-color: white;\n",
       "                    --jp-ui-font-color1: white;\n",
       "                    --jp-layout-color2: #454545;\n",
       "                    background-color: #383838;\n",
       "                }\n",
       "\n",
       "                .geemap-dark .jupyter-button {\n",
       "                    --jp-layout-color3: #383838;\n",
       "                }\n",
       "\n",
       "                .geemap-colab {\n",
       "                    background-color: var(--colab-primary-surface-color, white);\n",
       "                }\n",
       "\n",
       "                .geemap-colab .jupyter-button {\n",
       "                    --jp-layout-color3: var(--colab-primary-surface-color, white);\n",
       "                }\n",
       "            </style>\n",
       "            "
      ],
      "text/plain": [
       "<IPython.core.display.HTML object>"
      ]
     },
     "metadata": {},
     "output_type": "display_data"
    },
    {
     "ename": "EEException",
     "evalue": "Invalid GeoJSON geometry.",
     "output_type": "error",
     "traceback": [
      "\u001b[1;31m---------------------------------------------------------------------------\u001b[0m",
      "\u001b[1;31mEEException\u001b[0m                               Traceback (most recent call last)",
      "Cell \u001b[1;32mIn[57], line 3\u001b[0m\n\u001b[0;32m      1\u001b[0m states_border \u001b[38;5;241m=\u001b[39m ee\u001b[38;5;241m.\u001b[39mFeatureCollection(\u001b[38;5;124m\"\u001b[39m\u001b[38;5;124mWM/geoLab/geoBoundaries/600/ADM1\u001b[39m\u001b[38;5;124m\"\u001b[39m)\n\u001b[0;32m      2\u001b[0m voting_boundries \u001b[38;5;241m=\u001b[39m ee\u001b[38;5;241m.\u001b[39mFeatureCollection(\u001b[38;5;124m\"\u001b[39m\u001b[38;5;124mWM/geoLab/geoBoundaries/600/ADM2\u001b[39m\u001b[38;5;124m\"\u001b[39m)\n\u001b[1;32m----> 3\u001b[0m voting_boundries\u001b[38;5;241m.\u001b[39mfilterBounds(\u001b[43mee\u001b[49m\u001b[38;5;241;43m.\u001b[39;49m\u001b[43mGeometry\u001b[49m\u001b[43m(\u001b[49m\u001b[43msublists\u001b[49m\u001b[43m)\u001b[49m)\n",
      "File \u001b[1;32mc:\\Users\\Tyler Marino\\Documents\\anaconda\\envs\\epsvenvv\\Lib\\site-packages\\ee\\computedobject.py:28\u001b[0m, in \u001b[0;36mComputedObjectMetaclass.__call__\u001b[1;34m(cls, *args, **kwargs)\u001b[0m\n\u001b[0;32m     26\u001b[0m   \u001b[38;5;28;01mreturn\u001b[39;00m args[\u001b[38;5;241m0\u001b[39m]\n\u001b[0;32m     27\u001b[0m \u001b[38;5;28;01melse\u001b[39;00m:\n\u001b[1;32m---> 28\u001b[0m   \u001b[38;5;28;01mreturn\u001b[39;00m \u001b[38;5;28;43mtype\u001b[39;49m\u001b[38;5;241;43m.\u001b[39;49m\u001b[38;5;21;43m__call__\u001b[39;49m\u001b[43m(\u001b[49m\u001b[38;5;28;43mcls\u001b[39;49m\u001b[43m,\u001b[49m\u001b[43m \u001b[49m\u001b[38;5;241;43m*\u001b[39;49m\u001b[43margs\u001b[49m\u001b[43m,\u001b[49m\u001b[43m \u001b[49m\u001b[38;5;241;43m*\u001b[39;49m\u001b[38;5;241;43m*\u001b[39;49m\u001b[43mkwargs\u001b[49m\u001b[43m)\u001b[49m\n",
      "File \u001b[1;32mc:\\Users\\Tyler Marino\\Documents\\anaconda\\envs\\epsvenvv\\Lib\\site-packages\\ee\\_utils.py:38\u001b[0m, in \u001b[0;36maccept_opt_prefix.<locals>.opt_fixed.<locals>.wrapper\u001b[1;34m(*args, **kwargs)\u001b[0m\n\u001b[0;32m     36\u001b[0m     \u001b[38;5;28;01mif\u001b[39;00m new_key \u001b[38;5;129;01mnot\u001b[39;00m \u001b[38;5;129;01min\u001b[39;00m kwargs:\n\u001b[0;32m     37\u001b[0m       kwargs[new_key] \u001b[38;5;241m=\u001b[39m old_key_val\n\u001b[1;32m---> 38\u001b[0m \u001b[38;5;28;01mreturn\u001b[39;00m \u001b[43mfunc\u001b[49m\u001b[43m(\u001b[49m\u001b[38;5;241;43m*\u001b[39;49m\u001b[43margs\u001b[49m\u001b[43m,\u001b[49m\u001b[43m \u001b[49m\u001b[38;5;241;43m*\u001b[39;49m\u001b[38;5;241;43m*\u001b[39;49m\u001b[43mkwargs\u001b[49m\u001b[43m)\u001b[49m\n",
      "File \u001b[1;32mc:\\Users\\Tyler Marino\\Documents\\anaconda\\envs\\epsvenvv\\Lib\\site-packages\\ee\\geometry.py:84\u001b[0m, in \u001b[0;36mGeometry.__init__\u001b[1;34m(self, geo_json, proj, geodesic, evenOdd)\u001b[0m\n\u001b[0;32m     81\u001b[0m   geo_json \u001b[38;5;241m=\u001b[39m geo_json\u001b[38;5;241m.\u001b[39mencode()\n\u001b[0;32m     83\u001b[0m \u001b[38;5;28;01mif\u001b[39;00m \u001b[38;5;129;01mnot\u001b[39;00m Geometry\u001b[38;5;241m.\u001b[39m_isValidGeometry(geo_json):\n\u001b[1;32m---> 84\u001b[0m   \u001b[38;5;28;01mraise\u001b[39;00m ee_exception\u001b[38;5;241m.\u001b[39mEEException(\u001b[38;5;124m'\u001b[39m\u001b[38;5;124mInvalid GeoJSON geometry.\u001b[39m\u001b[38;5;124m'\u001b[39m)\n\u001b[0;32m     86\u001b[0m \u001b[38;5;28msuper\u001b[39m()\u001b[38;5;241m.\u001b[39m\u001b[38;5;21m__init__\u001b[39m(\u001b[38;5;28;01mNone\u001b[39;00m, \u001b[38;5;28;01mNone\u001b[39;00m)\n\u001b[0;32m     88\u001b[0m \u001b[38;5;66;03m# The type of the geometry.\u001b[39;00m\n",
      "\u001b[1;31mEEException\u001b[0m: Invalid GeoJSON geometry."
     ]
    }
   ],
   "source": [
    "states_border = ee.FeatureCollection(\"WM/geoLab/geoBoundaries/600/ADM1\")\n",
    "voting_boundries = ee.FeatureCollection(\"WM/geoLab/geoBoundaries/600/ADM2\")\n",
    "voting_boundries.filterBounds(ee.Geometry(sublists))"
   ]
  },
  {
   "cell_type": "code",
   "execution_count": 16,
   "metadata": {},
   "outputs": [
    {
     "data": {
      "text/html": [
       "\n",
       "            <style>\n",
       "                .geemap-dark {\n",
       "                    --jp-widgets-color: white;\n",
       "                    --jp-widgets-label-color: white;\n",
       "                    --jp-ui-font-color1: white;\n",
       "                    --jp-layout-color2: #454545;\n",
       "                    background-color: #383838;\n",
       "                }\n",
       "\n",
       "                .geemap-dark .jupyter-button {\n",
       "                    --jp-layout-color3: #383838;\n",
       "                }\n",
       "\n",
       "                .geemap-colab {\n",
       "                    background-color: var(--colab-primary-surface-color, white);\n",
       "                }\n",
       "\n",
       "                .geemap-colab .jupyter-button {\n",
       "                    --jp-layout-color3: var(--colab-primary-surface-color, white);\n",
       "                }\n",
       "            </style>\n",
       "            "
      ],
      "text/plain": [
       "<IPython.core.display.HTML object>"
      ]
     },
     "metadata": {},
     "output_type": "display_data"
    },
    {
     "data": {
      "application/vnd.jupyter.widget-view+json": {
       "model_id": "3eeb9cb9fbc241bcbf4277fd038242b8",
       "version_major": 2,
       "version_minor": 0
      },
      "text/plain": [
       "Map(center=[0, 0], controls=(ZoomControl(options=['position', 'zoom_in_text', 'zoom_in_title', 'zoom_out_text'…"
      ]
     },
     "execution_count": 16,
     "metadata": {},
     "output_type": "execute_result"
    }
   ],
   "source": [
    "map = geemap.Map()\n",
    "styleParams = {\n",
    "  \"fillColor\": 'b5ffb4',\n",
    "  \"color\": '00909F',\n",
    "  \"width\": 1.0,\n",
    "}\n",
    "\n",
    "dataset = states_border\n",
    "\n",
    "map.addLayer(dataset, {}, 'States Boundaries')\n",
    "map.addLayer(voting_boundries, {}, 'Municipalities Bountries')\n",
    "map"
   ]
  },
  {
   "cell_type": "code",
   "execution_count": 9,
   "metadata": {},
   "outputs": [
    {
     "data": {
      "text/html": [
       "\n",
       "            <style>\n",
       "                .geemap-dark {\n",
       "                    --jp-widgets-color: white;\n",
       "                    --jp-widgets-label-color: white;\n",
       "                    --jp-ui-font-color1: white;\n",
       "                    --jp-layout-color2: #454545;\n",
       "                    background-color: #383838;\n",
       "                }\n",
       "\n",
       "                .geemap-dark .jupyter-button {\n",
       "                    --jp-layout-color3: #383838;\n",
       "                }\n",
       "\n",
       "                .geemap-colab {\n",
       "                    background-color: var(--colab-primary-surface-color, white);\n",
       "                }\n",
       "\n",
       "                .geemap-colab .jupyter-button {\n",
       "                    --jp-layout-color3: var(--colab-primary-surface-color, white);\n",
       "                }\n",
       "            </style>\n",
       "            "
      ],
      "text/plain": [
       "<IPython.core.display.HTML object>"
      ]
     },
     "metadata": {},
     "output_type": "display_data"
    }
   ],
   "source": []
  },
  {
   "cell_type": "code",
   "execution_count": 44,
   "metadata": {},
   "outputs": [
    {
     "data": {
      "text/html": [
       "\n",
       "            <style>\n",
       "                .geemap-dark {\n",
       "                    --jp-widgets-color: white;\n",
       "                    --jp-widgets-label-color: white;\n",
       "                    --jp-ui-font-color1: white;\n",
       "                    --jp-layout-color2: #454545;\n",
       "                    background-color: #383838;\n",
       "                }\n",
       "\n",
       "                .geemap-dark .jupyter-button {\n",
       "                    --jp-layout-color3: #383838;\n",
       "                }\n",
       "\n",
       "                .geemap-colab {\n",
       "                    background-color: var(--colab-primary-surface-color, white);\n",
       "                }\n",
       "\n",
       "                .geemap-colab .jupyter-button {\n",
       "                    --jp-layout-color3: var(--colab-primary-surface-color, white);\n",
       "                }\n",
       "            </style>\n",
       "            "
      ],
      "text/plain": [
       "<IPython.core.display.HTML object>"
      ]
     },
     "metadata": {},
     "output_type": "display_data"
    },
    {
     "name": "stdout",
     "output_type": "stream",
     "text": [
      "{'type': 'Image', 'bands': [{'id': 'SR_B1', 'data_type': {'type': 'PixelType', 'precision': 'int', 'min': 0, 'max': 65535}, 'dimensions': [7961, 7301], 'crs': 'EPSG:32613', 'crs_transform': [30, 0, 270285, 0, -30, 4414815]}, {'id': 'SR_B2', 'data_type': {'type': 'PixelType', 'precision': 'int', 'min': 0, 'max': 65535}, 'dimensions': [7961, 7301], 'crs': 'EPSG:32613', 'crs_transform': [30, 0, 270285, 0, -30, 4414815]}, {'id': 'SR_B3', 'data_type': {'type': 'PixelType', 'precision': 'int', 'min': 0, 'max': 65535}, 'dimensions': [7961, 7301], 'crs': 'EPSG:32613', 'crs_transform': [30, 0, 270285, 0, -30, 4414815]}, {'id': 'SR_B4', 'data_type': {'type': 'PixelType', 'precision': 'int', 'min': 0, 'max': 65535}, 'dimensions': [7961, 7301], 'crs': 'EPSG:32613', 'crs_transform': [30, 0, 270285, 0, -30, 4414815]}, {'id': 'SR_B5', 'data_type': {'type': 'PixelType', 'precision': 'int', 'min': 0, 'max': 65535}, 'dimensions': [7961, 7301], 'crs': 'EPSG:32613', 'crs_transform': [30, 0, 270285, 0, -30, 4414815]}, {'id': 'SR_B7', 'data_type': {'type': 'PixelType', 'precision': 'int', 'min': 0, 'max': 65535}, 'dimensions': [7961, 7301], 'crs': 'EPSG:32613', 'crs_transform': [30, 0, 270285, 0, -30, 4414815]}, {'id': 'SR_ATMOS_OPACITY', 'data_type': {'type': 'PixelType', 'precision': 'int', 'min': -32768, 'max': 32767}, 'dimensions': [7961, 7301], 'crs': 'EPSG:32613', 'crs_transform': [30, 0, 270285, 0, -30, 4414815]}, {'id': 'SR_CLOUD_QA', 'data_type': {'type': 'PixelType', 'precision': 'int', 'min': 0, 'max': 255}, 'dimensions': [7961, 7301], 'crs': 'EPSG:32613', 'crs_transform': [30, 0, 270285, 0, -30, 4414815]}, {'id': 'ST_B6', 'data_type': {'type': 'PixelType', 'precision': 'int', 'min': 0, 'max': 65535}, 'dimensions': [7961, 7301], 'crs': 'EPSG:32613', 'crs_transform': [30, 0, 270285, 0, -30, 4414815]}, {'id': 'ST_ATRAN', 'data_type': {'type': 'PixelType', 'precision': 'int', 'min': -32768, 'max': 32767}, 'dimensions': [7961, 7301], 'crs': 'EPSG:32613', 'crs_transform': [30, 0, 270285, 0, -30, 4414815]}, {'id': 'ST_CDIST', 'data_type': {'type': 'PixelType', 'precision': 'int', 'min': -32768, 'max': 32767}, 'dimensions': [7961, 7301], 'crs': 'EPSG:32613', 'crs_transform': [30, 0, 270285, 0, -30, 4414815]}, {'id': 'ST_DRAD', 'data_type': {'type': 'PixelType', 'precision': 'int', 'min': -32768, 'max': 32767}, 'dimensions': [7961, 7301], 'crs': 'EPSG:32613', 'crs_transform': [30, 0, 270285, 0, -30, 4414815]}, {'id': 'ST_EMIS', 'data_type': {'type': 'PixelType', 'precision': 'int', 'min': -32768, 'max': 32767}, 'dimensions': [7961, 7301], 'crs': 'EPSG:32613', 'crs_transform': [30, 0, 270285, 0, -30, 4414815]}, {'id': 'ST_EMSD', 'data_type': {'type': 'PixelType', 'precision': 'int', 'min': -32768, 'max': 32767}, 'dimensions': [7961, 7301], 'crs': 'EPSG:32613', 'crs_transform': [30, 0, 270285, 0, -30, 4414815]}, {'id': 'ST_QA', 'data_type': {'type': 'PixelType', 'precision': 'int', 'min': -32768, 'max': 32767}, 'dimensions': [7961, 7301], 'crs': 'EPSG:32613', 'crs_transform': [30, 0, 270285, 0, -30, 4414815]}, {'id': 'ST_TRAD', 'data_type': {'type': 'PixelType', 'precision': 'int', 'min': -32768, 'max': 32767}, 'dimensions': [7961, 7301], 'crs': 'EPSG:32613', 'crs_transform': [30, 0, 270285, 0, -30, 4414815]}, {'id': 'ST_URAD', 'data_type': {'type': 'PixelType', 'precision': 'int', 'min': -32768, 'max': 32767}, 'dimensions': [7961, 7301], 'crs': 'EPSG:32613', 'crs_transform': [30, 0, 270285, 0, -30, 4414815]}, {'id': 'QA_PIXEL', 'data_type': {'type': 'PixelType', 'precision': 'int', 'min': 0, 'max': 65535}, 'dimensions': [7961, 7301], 'crs': 'EPSG:32613', 'crs_transform': [30, 0, 270285, 0, -30, 4414815]}, {'id': 'QA_RADSAT', 'data_type': {'type': 'PixelType', 'precision': 'int', 'min': 0, 'max': 65535}, 'dimensions': [7961, 7301], 'crs': 'EPSG:32613', 'crs_transform': [30, 0, 270285, 0, -30, 4414815]}], 'version': 1627404056305591, 'id': 'LANDSAT/LT05/C02/T1_L2/LT05_034033_20000913', 'properties': {'IMAGE_QUALITY': 9, 'WRS_TYPE': 2, 'CORRECTION_GAIN_BAND_2': 'CPF', 'CORRECTION_GAIN_BAND_1': 'CPF', 'TEMPERATURE_ADD_BAND_ST_B6': 149, 'system:footprint': {'type': 'LinearRing', 'coordinates': [[-104.96862896677371, 39.540085786133915], [-104.9690775112379, 39.54217406040662], [-107.0798900099159, 39.85152193914491], [-107.08630051197153, 39.849942700743426], [-107.08944174770329, 39.84112862408747], [-107.1115041078215, 39.771534838826994], [-107.21846900191836, 39.41466626291418], [-107.3722687481528, 38.89173438300116], [-107.52401205518223, 38.3686294921052], [-107.55363973159633, 38.26391470428326], [-107.56038569186514, 38.23703596370612], [-107.55893476154158, 38.23325503352045], [-107.4963130912363, 38.22459828533016], [-105.49293858775594, 37.93060574388541], [-105.47793248862575, 37.974262741673826], [-105.46653591496704, 38.00864963370001], [-105.44842522337568, 38.064960861308556], [-105.29407238673615, 38.542434473390024], [-105.00338702808062, 39.433770409478186], [-104.96862896677371, 39.540085786133915]]}, 'REFLECTIVE_SAMPLES': 7961, 'TEMPERATURE_MINIMUM_BAND_ST_B6': 149.003418, 'CORRECTION_GAIN_BAND_7': 'CPF', 'CORRECTION_GAIN_BAND_6': 'INTERNAL_CALIBRATION', 'CORRECTION_GAIN_BAND_5': 'CPF', 'SUN_AZIMUTH': 141.40103016, 'CORRECTION_GAIN_BAND_4': 'CPF', 'CORRECTION_GAIN_BAND_3': 'CPF', 'DATE_ACQUIRED': '2000-09-13', 'ELLIPSOID': 'WGS84', 'SENSOR_MODE': 'SAM', 'STATION_ID': 'XXX', 'DATA_SOURCE_REANALYSIS': 'GEOS-5 FP-IT', 'ORIENTATION': 'NORTH_UP', 'WRS_ROW': 33, 'CLOUD_COVER': 0, 'GEOMETRIC_RMSE_VERIFY': 0.099, 'COLLECTION_CATEGORY': 'T1', 'GRID_CELL_SIZE_REFLECTIVE': 30, 'ALGORITHM_SOURCE_SURFACE_TEMPERATURE': 'st_1.3.0', 'CLOUD_COVER_LAND': 0, 'GEOMETRIC_RMSE_MODEL': 4.296, 'COLLECTION_NUMBER': 2, 'DATA_SOURCE_WATER_VAPOR': 'NCEP', 'LANDSAT_SCENE_ID': 'LT50340332000257XXX02', 'WRS_PATH': 34, 'L1_PROCESSING_SOFTWARE_VERSION': 'LPGS_15.3.1c', 'GEOMETRIC_RMSE_MODEL_Y': 3.264, 'REFLECTIVE_LINES': 7301, 'GEOMETRIC_RMSE_MODEL_X': 2.793, 'system:asset_size': 705139768, 'DATA_SOURCE_AIR_TEMPERATURE': 'NCEP', 'system:index': 'LT05_034033_20000913', 'GEOMETRIC_RMSE_VERIFY_QUAD_LL': 0.12, 'DATA_SOURCE_ELEVATION': 'GLS2000', 'SENSOR_ANOMALIES': 'NONE', 'GEOMETRIC_RMSE_VERIFY_QUAD_LR': 0.114, 'REFLECTANCE_ADD_BAND_1': -0.2, 'REFLECTANCE_ADD_BAND_2': -0.2, 'DATUM': 'WGS84', 'REFLECTANCE_ADD_BAND_3': -0.2, 'REFLECTANCE_ADD_BAND_4': -0.2, 'REFLECTANCE_ADD_BAND_5': -0.2, 'REFLECTANCE_ADD_BAND_7': -0.2, 'GROUND_CONTROL_POINTS_VERSION': 5, 'GEOMETRIC_RMSE_VERIFY_QUAD_UL': 0.077, 'CORRECTION_BIAS_BAND_2': 'CPF', 'CORRECTION_BIAS_BAND_1': 'CPF', 'GEOMETRIC_RMSE_VERIFY_QUAD_UR': 0.077, 'CORRECTION_BIAS_BAND_4': 'CPF', 'CORRECTION_BIAS_BAND_3': 'CPF', 'DATA_TYPE_L0RP': 'TMR_L0RP', 'UTM_ZONE': 13, 'system:time_end': 968865725989, 'DATA_SOURCE_PRESSURE': 'NCEP', 'LANDSAT_PRODUCT_ID': 'LT05_L2SP_034033_20000913_20200906_02_T1', 'REFLECTANCE_MULT_BAND_7': 2.75e-05, 'system:time_start': 968865725989, 'L1_PROCESSING_LEVEL': 'L1TP', 'PROCESSING_SOFTWARE_VERSION': 'LPGS_15.3.1c', 'L1_DATE_PRODUCT_GENERATED': '2020-09-06T22:03:38Z', 'EPHEMERIS_TYPE': 'DEFINITIVE', 'REFLECTANCE_MULT_BAND_1': 2.75e-05, 'CORRECTION_BIAS_BAND_6': 'CPF', 'REFLECTANCE_MULT_BAND_3': 2.75e-05, 'CORRECTION_BIAS_BAND_5': 'CPF', 'REFLECTANCE_MULT_BAND_2': 2.75e-05, 'REFLECTANCE_MULT_BAND_5': 2.75e-05, 'CORRECTION_BIAS_BAND_7': 'CPF', 'REFLECTANCE_MULT_BAND_4': 2.75e-05, 'THERMAL_LINES': 7301, 'GRID_CELL_SIZE_THERMAL': 30, 'REQUEST_ID': 'L2', 'EARTH_SUN_DISTANCE': 1.0059471, 'TEMPERATURE_MAXIMUM_BAND_ST_B6': 372.999941, 'SCENE_CENTER_TIME': '17:22:05.9890880Z', 'SUN_ELEVATION': 48.06594259, 'DATE_PRODUCT_GENERATED': 1599431239000, 'L1_REQUEST_ID': 'L2', 'DATA_SOURCE_OZONE': 'TOMS', 'SATURATION_BAND_1': 'Y', 'SENSOR_MODE_SLC': 'ON', 'SATURATION_BAND_2': 'N', 'SATURATION_BAND_3': 'Y', 'SATURATION_BAND_4': 'Y', 'SATURATION_BAND_5': 'Y', 'MAP_PROJECTION': 'UTM', 'SATURATION_BAND_6': 'N', 'SENSOR_ID': 'TM', 'SATURATION_BAND_7': 'Y', 'TEMPERATURE_MULT_BAND_ST_B6': 0.00341802, 'L1_LANDSAT_PRODUCT_ID': 'LT05_L1TP_034033_20000913_20200906_02_T1', 'PROCESSING_LEVEL': 'L2SP', 'ALGORITHM_SOURCE_SURFACE_REFLECTANCE': 'LEDAPS_3.4.0', 'GROUND_CONTROL_POINTS_MODEL': 946, 'SPACECRAFT_ID': 'LANDSAT_5', 'THERMAL_SAMPLES': 7961, 'GROUND_CONTROL_POINTS_VERIFY': 3623}}\n"
     ]
    }
   ],
   "source": [
    "#Loading image\n",
    "\n",
    "# Load a Landsat image.\n",
    "img = ee.Image('LANDSAT/LT05/C02/T1_L2/LT05_034033_20000913')\n",
    "print(img.getInfo())"
   ]
  },
  {
   "cell_type": "code",
   "execution_count": 45,
   "metadata": {},
   "outputs": [
    {
     "data": {
      "text/html": [
       "\n",
       "            <style>\n",
       "                .geemap-dark {\n",
       "                    --jp-widgets-color: white;\n",
       "                    --jp-widgets-label-color: white;\n",
       "                    --jp-ui-font-color1: white;\n",
       "                    --jp-layout-color2: #454545;\n",
       "                    background-color: #383838;\n",
       "                }\n",
       "\n",
       "                .geemap-dark .jupyter-button {\n",
       "                    --jp-layout-color3: #383838;\n",
       "                }\n",
       "\n",
       "                .geemap-colab {\n",
       "                    background-color: var(--colab-primary-surface-color, white);\n",
       "                }\n",
       "\n",
       "                .geemap-colab .jupyter-button {\n",
       "                    --jp-layout-color3: var(--colab-primary-surface-color, white);\n",
       "                }\n",
       "            </style>\n",
       "            "
      ],
      "text/plain": [
       "<IPython.core.display.HTML object>"
      ]
     },
     "metadata": {},
     "output_type": "display_data"
    },
    {
     "data": {
      "application/vnd.jupyter.widget-view+json": {
       "model_id": "ff202d21ed7444019775a16854ff76a2",
       "version_major": 2,
       "version_minor": 0
      },
      "text/plain": [
       "Map(center=[0, 0], controls=(ZoomControl(options=['position', 'zoom_in_text', 'zoom_in_title', 'zoom_out_text'…"
      ]
     },
     "metadata": {},
     "output_type": "display_data"
    },
    {
     "name": "stdout",
     "output_type": "stream",
     "text": [
      "Collecting geemap\n",
      "  Obtaining dependency information for geemap from https://files.pythonhosted.org/packages/17/3c/e4f4e57317b4eef31804a836c3d4f67ca5345f2a117b97f0e92049043b5f/geemap-0.34.0-py2.py3-none-any.whl.metadata\n",
      "  Downloading geemap-0.34.0-py2.py3-none-any.whl.metadata (12 kB)\n",
      "Collecting bqplot (from geemap)\n",
      "  Obtaining dependency information for bqplot from https://files.pythonhosted.org/packages/ad/f5/717a355a47e8ba28ff9fcbe63d3014b55a8d20f3983582205085e85e2869/bqplot-0.12.43-py2.py3-none-any.whl.metadata\n",
      "  Downloading bqplot-0.12.43-py2.py3-none-any.whl.metadata (6.4 kB)\n",
      "Collecting colour (from geemap)\n",
      "  Obtaining dependency information for colour from https://files.pythonhosted.org/packages/74/46/e81907704ab203206769dee1385dc77e1407576ff8f50a0681d0a6b541be/colour-0.1.5-py2.py3-none-any.whl.metadata\n",
      "  Downloading colour-0.1.5-py2.py3-none-any.whl.metadata (18 kB)\n",
      "Requirement already satisfied: earthengine-api>=0.1.347 in c:\\users\\tyler marino\\documents\\anaconda\\envs\\epsvenvv\\lib\\site-packages (from geemap) (0.1.410)\n",
      "Collecting eerepr>=0.0.4 (from geemap)\n",
      "  Obtaining dependency information for eerepr>=0.0.4 from https://files.pythonhosted.org/packages/0b/71/5a5e36ad755e3e3081b43acf9ac2a50d1f6f88211aa278bb80114d0b6cd6/eerepr-0.0.4-py3-none-any.whl.metadata\n",
      "  Downloading eerepr-0.0.4-py3-none-any.whl.metadata (4.0 kB)\n",
      "Requirement already satisfied: folium>=0.13.0 in c:\\users\\tyler marino\\documents\\anaconda\\envs\\epsvenvv\\lib\\site-packages (from geemap) (0.17.0)\n",
      "Collecting geocoder (from geemap)\n",
      "  Obtaining dependency information for geocoder from https://files.pythonhosted.org/packages/4f/6b/13166c909ad2f2d76b929a4227c952630ebaf0d729f6317eb09cbceccbab/geocoder-1.38.1-py2.py3-none-any.whl.metadata\n",
      "  Downloading geocoder-1.38.1-py2.py3-none-any.whl.metadata (14 kB)\n",
      "Collecting ipyevents (from geemap)\n",
      "  Obtaining dependency information for ipyevents from https://files.pythonhosted.org/packages/af/49/5692d363a82838282f5c33a787922f07115d7ba4b452391e51db95c9d247/ipyevents-2.0.2-py3-none-any.whl.metadata\n",
      "  Downloading ipyevents-2.0.2-py3-none-any.whl.metadata (2.9 kB)\n",
      "Collecting ipyfilechooser>=0.6.0 (from geemap)\n",
      "  Obtaining dependency information for ipyfilechooser>=0.6.0 from https://files.pythonhosted.org/packages/00/60/249e3444fcd9c833704741769981cd02fe2c7ce94126b1394e7a3b26e543/ipyfilechooser-0.6.0-py3-none-any.whl.metadata\n",
      "  Downloading ipyfilechooser-0.6.0-py3-none-any.whl.metadata (6.4 kB)\n",
      "Requirement already satisfied: ipyleaflet>=0.17.0 in c:\\users\\tyler marino\\documents\\anaconda\\envs\\epsvenvv\\lib\\site-packages (from geemap) (0.19.1)\n",
      "Collecting ipytree (from geemap)\n",
      "  Obtaining dependency information for ipytree from https://files.pythonhosted.org/packages/e4/03/35cf1742598d784e96153175233318a2332f71863e55ad1007c9264c1a7a/ipytree-0.2.2-py2.py3-none-any.whl.metadata\n",
      "  Downloading ipytree-0.2.2-py2.py3-none-any.whl.metadata (849 bytes)\n",
      "Requirement already satisfied: matplotlib in c:\\users\\tyler marino\\documents\\anaconda\\envs\\epsvenvv\\lib\\site-packages (from geemap) (3.8.0)\n",
      "Requirement already satisfied: numpy in c:\\users\\tyler marino\\documents\\anaconda\\envs\\epsvenvv\\lib\\site-packages (from geemap) (1.26.0)\n",
      "Requirement already satisfied: pandas in c:\\users\\tyler marino\\documents\\anaconda\\envs\\epsvenvv\\lib\\site-packages (from geemap) (2.2.2)\n",
      "Collecting plotly (from geemap)\n",
      "  Obtaining dependency information for plotly from https://files.pythonhosted.org/packages/b8/f0/bcf716a8e070370d6598c92fcd328bd9ef8a9bda2c5562da5a835c66700b/plotly-5.23.0-py3-none-any.whl.metadata\n",
      "  Downloading plotly-5.23.0-py3-none-any.whl.metadata (7.3 kB)\n",
      "Collecting pyperclip (from geemap)\n",
      "  Downloading pyperclip-1.9.0.tar.gz (20 kB)\n",
      "  Preparing metadata (setup.py): started\n",
      "  Preparing metadata (setup.py): finished with status 'done'\n",
      "Collecting pyshp>=2.1.3 (from geemap)\n",
      "  Obtaining dependency information for pyshp>=2.1.3 from https://files.pythonhosted.org/packages/98/2f/68116db5b36b895c0450e3072b8cb6c2fac0359279b182ea97014d3c8ac0/pyshp-2.3.1-py2.py3-none-any.whl.metadata\n",
      "  Downloading pyshp-2.3.1-py2.py3-none-any.whl.metadata (55 kB)\n",
      "     ---------------------------------------- 0.0/56.0 kB ? eta -:--:--\n",
      "     ------------------------------------ --- 51.2/56.0 kB 1.3 MB/s eta 0:00:01\n",
      "     -------------------------------------- 56.0/56.0 kB 973.0 kB/s eta 0:00:00\n",
      "Collecting python-box (from geemap)\n",
      "  Obtaining dependency information for python-box from https://files.pythonhosted.org/packages/91/0d/f5548978dd4cfc26c562a266bd2d077427eaf3577d8b88c4c3deac793332/python_box-7.2.0-cp312-cp312-win_amd64.whl.metadata\n",
      "  Downloading python_box-7.2.0-cp312-cp312-win_amd64.whl.metadata (8.0 kB)\n",
      "Collecting scooby (from geemap)\n",
      "  Obtaining dependency information for scooby from https://files.pythonhosted.org/packages/2f/4b/ea1c1c4ecaa97baf8001568d502eaff1bbc3d5c1b48cce3f3fd5a77b8f52/scooby-0.10.0-py3-none-any.whl.metadata\n",
      "  Downloading scooby-0.10.0-py3-none-any.whl.metadata (15 kB)\n",
      "Requirement already satisfied: google-cloud-storage in c:\\users\\tyler marino\\documents\\anaconda\\envs\\epsvenvv\\lib\\site-packages (from earthengine-api>=0.1.347->geemap) (2.17.0)\n",
      "Requirement already satisfied: google-api-python-client>=1.12.1 in c:\\users\\tyler marino\\documents\\anaconda\\envs\\epsvenvv\\lib\\site-packages (from earthengine-api>=0.1.347->geemap) (2.136.0)\n",
      "Requirement already satisfied: google-auth>=1.4.1 in c:\\users\\tyler marino\\documents\\anaconda\\envs\\epsvenvv\\lib\\site-packages (from earthengine-api>=0.1.347->geemap) (2.31.0)\n",
      "Requirement already satisfied: google-auth-httplib2>=0.0.3 in c:\\users\\tyler marino\\documents\\anaconda\\envs\\epsvenvv\\lib\\site-packages (from earthengine-api>=0.1.347->geemap) (0.2.0)\n",
      "Requirement already satisfied: httplib2<1dev,>=0.9.2 in c:\\users\\tyler marino\\documents\\anaconda\\envs\\epsvenvv\\lib\\site-packages (from earthengine-api>=0.1.347->geemap) (0.22.0)\n",
      "Requirement already satisfied: requests in c:\\users\\tyler marino\\documents\\anaconda\\envs\\epsvenvv\\lib\\site-packages (from earthengine-api>=0.1.347->geemap) (2.32.3)\n",
      "Requirement already satisfied: branca>=0.6.0 in c:\\users\\tyler marino\\documents\\anaconda\\envs\\epsvenvv\\lib\\site-packages (from folium>=0.13.0->geemap) (0.7.2)\n",
      "Requirement already satisfied: jinja2>=2.9 in c:\\users\\tyler marino\\documents\\anaconda\\envs\\epsvenvv\\lib\\site-packages (from folium>=0.13.0->geemap) (3.1.4)\n",
      "Requirement already satisfied: xyzservices in c:\\users\\tyler marino\\documents\\anaconda\\envs\\epsvenvv\\lib\\site-packages (from folium>=0.13.0->geemap) (2024.6.0)\n",
      "Requirement already satisfied: ipywidgets in c:\\users\\tyler marino\\documents\\anaconda\\envs\\epsvenvv\\lib\\site-packages (from ipyfilechooser>=0.6.0->geemap) (8.1.3)\n",
      "Requirement already satisfied: jupyter-leaflet<0.20,>=0.19 in c:\\users\\tyler marino\\documents\\anaconda\\envs\\epsvenvv\\lib\\site-packages (from ipyleaflet>=0.17.0->geemap) (0.19.1)\n",
      "Requirement already satisfied: traittypes<3,>=0.2.1 in c:\\users\\tyler marino\\documents\\anaconda\\envs\\epsvenvv\\lib\\site-packages (from ipyleaflet>=0.17.0->geemap) (0.2.1)\n",
      "Requirement already satisfied: traitlets>=4.3.0 in c:\\users\\tyler marino\\documents\\anaconda\\envs\\epsvenvv\\lib\\site-packages (from bqplot->geemap) (5.10.1)\n",
      "Requirement already satisfied: python-dateutil>=2.8.2 in c:\\users\\tyler marino\\documents\\anaconda\\envs\\epsvenvv\\lib\\site-packages (from pandas->geemap) (2.8.2)\n",
      "Requirement already satisfied: pytz>=2020.1 in c:\\users\\tyler marino\\documents\\anaconda\\envs\\epsvenvv\\lib\\site-packages (from pandas->geemap) (2024.1)\n",
      "Requirement already satisfied: tzdata>=2022.7 in c:\\users\\tyler marino\\documents\\anaconda\\envs\\epsvenvv\\lib\\site-packages (from pandas->geemap) (2024.1)\n",
      "Requirement already satisfied: click in c:\\users\\tyler marino\\documents\\anaconda\\envs\\epsvenvv\\lib\\site-packages (from geocoder->geemap) (8.1.7)\n",
      "Collecting future (from geocoder->geemap)\n",
      "  Obtaining dependency information for future from https://files.pythonhosted.org/packages/da/71/ae30dadffc90b9006d77af76b393cb9dfbfc9629f339fc1574a1c52e6806/future-1.0.0-py3-none-any.whl.metadata\n",
      "  Downloading future-1.0.0-py3-none-any.whl.metadata (4.0 kB)\n",
      "Collecting ratelim (from geocoder->geemap)\n",
      "  Obtaining dependency information for ratelim from https://files.pythonhosted.org/packages/f2/98/7e6d147fd16a10a5f821db6e25f192265d6ecca3d82957a4fdd592cad49c/ratelim-0.1.6-py2.py3-none-any.whl.metadata\n",
      "  Downloading ratelim-0.1.6-py2.py3-none-any.whl.metadata (1.4 kB)\n",
      "Requirement already satisfied: six in c:\\users\\tyler marino\\documents\\anaconda\\envs\\epsvenvv\\lib\\site-packages (from geocoder->geemap) (1.16.0)\n",
      "Requirement already satisfied: contourpy>=1.0.1 in c:\\users\\tyler marino\\documents\\anaconda\\envs\\epsvenvv\\lib\\site-packages (from matplotlib->geemap) (1.2.1)\n",
      "Requirement already satisfied: cycler>=0.10 in c:\\users\\tyler marino\\documents\\anaconda\\envs\\epsvenvv\\lib\\site-packages (from matplotlib->geemap) (0.12.0)\n",
      "Requirement already satisfied: fonttools>=4.22.0 in c:\\users\\tyler marino\\documents\\anaconda\\envs\\epsvenvv\\lib\\site-packages (from matplotlib->geemap) (4.43.0)\n",
      "Requirement already satisfied: kiwisolver>=1.0.1 in c:\\users\\tyler marino\\documents\\anaconda\\envs\\epsvenvv\\lib\\site-packages (from matplotlib->geemap) (1.4.5)\n",
      "Requirement already satisfied: packaging>=20.0 in c:\\users\\tyler marino\\documents\\anaconda\\envs\\epsvenvv\\lib\\site-packages (from matplotlib->geemap) (23.2)\n",
      "Requirement already satisfied: pillow>=6.2.0 in c:\\users\\tyler marino\\documents\\anaconda\\envs\\epsvenvv\\lib\\site-packages (from matplotlib->geemap) (10.0.1)\n",
      "Requirement already satisfied: pyparsing>=2.3.1 in c:\\users\\tyler marino\\documents\\anaconda\\envs\\epsvenvv\\lib\\site-packages (from matplotlib->geemap) (3.1.1)\n",
      "Collecting tenacity>=6.2.0 (from plotly->geemap)\n",
      "  Obtaining dependency information for tenacity>=6.2.0 from https://files.pythonhosted.org/packages/b6/cb/b86984bed139586d01532a587464b5805f12e397594f19f931c4c2fbfa61/tenacity-9.0.0-py3-none-any.whl.metadata\n",
      "  Downloading tenacity-9.0.0-py3-none-any.whl.metadata (1.2 kB)\n",
      "Requirement already satisfied: google-api-core!=2.0.*,!=2.1.*,!=2.2.*,!=2.3.0,<3.0.0.dev0,>=1.31.5 in c:\\users\\tyler marino\\documents\\anaconda\\envs\\epsvenvv\\lib\\site-packages (from google-api-python-client>=1.12.1->earthengine-api>=0.1.347->geemap) (2.19.1)\n",
      "Requirement already satisfied: uritemplate<5,>=3.0.1 in c:\\users\\tyler marino\\documents\\anaconda\\envs\\epsvenvv\\lib\\site-packages (from google-api-python-client>=1.12.1->earthengine-api>=0.1.347->geemap) (4.1.1)\n",
      "Requirement already satisfied: cachetools<6.0,>=2.0.0 in c:\\users\\tyler marino\\documents\\anaconda\\envs\\epsvenvv\\lib\\site-packages (from google-auth>=1.4.1->earthengine-api>=0.1.347->geemap) (5.3.3)\n",
      "Requirement already satisfied: pyasn1-modules>=0.2.1 in c:\\users\\tyler marino\\documents\\anaconda\\envs\\epsvenvv\\lib\\site-packages (from google-auth>=1.4.1->earthengine-api>=0.1.347->geemap) (0.4.0)\n",
      "Requirement already satisfied: rsa<5,>=3.1.4 in c:\\users\\tyler marino\\documents\\anaconda\\envs\\epsvenvv\\lib\\site-packages (from google-auth>=1.4.1->earthengine-api>=0.1.347->geemap) (4.9)\n",
      "Requirement already satisfied: comm>=0.1.3 in c:\\users\\tyler marino\\documents\\anaconda\\envs\\epsvenvv\\lib\\site-packages (from ipywidgets->ipyfilechooser>=0.6.0->geemap) (0.1.4)\n",
      "Requirement already satisfied: ipython>=6.1.0 in c:\\users\\tyler marino\\documents\\anaconda\\envs\\epsvenvv\\lib\\site-packages (from ipywidgets->ipyfilechooser>=0.6.0->geemap) (8.16.1)\n",
      "Requirement already satisfied: widgetsnbextension~=4.0.11 in c:\\users\\tyler marino\\documents\\anaconda\\envs\\epsvenvv\\lib\\site-packages (from ipywidgets->ipyfilechooser>=0.6.0->geemap) (4.0.11)\n",
      "Requirement already satisfied: jupyterlab-widgets~=3.0.11 in c:\\users\\tyler marino\\documents\\anaconda\\envs\\epsvenvv\\lib\\site-packages (from ipywidgets->ipyfilechooser>=0.6.0->geemap) (3.0.11)\n",
      "Requirement already satisfied: MarkupSafe>=2.0 in c:\\users\\tyler marino\\documents\\anaconda\\envs\\epsvenvv\\lib\\site-packages (from jinja2>=2.9->folium>=0.13.0->geemap) (2.1.5)\n",
      "Requirement already satisfied: colorama in c:\\users\\tyler marino\\documents\\anaconda\\envs\\epsvenvv\\lib\\site-packages (from click->geocoder->geemap) (0.4.6)\n",
      "Requirement already satisfied: google-cloud-core<3.0dev,>=2.3.0 in c:\\users\\tyler marino\\documents\\anaconda\\envs\\epsvenvv\\lib\\site-packages (from google-cloud-storage->earthengine-api>=0.1.347->geemap) (2.4.1)\n",
      "Requirement already satisfied: google-resumable-media>=2.6.0 in c:\\users\\tyler marino\\documents\\anaconda\\envs\\epsvenvv\\lib\\site-packages (from google-cloud-storage->earthengine-api>=0.1.347->geemap) (2.7.1)\n",
      "Requirement already satisfied: google-crc32c<2.0dev,>=1.0 in c:\\users\\tyler marino\\documents\\anaconda\\envs\\epsvenvv\\lib\\site-packages (from google-cloud-storage->earthengine-api>=0.1.347->geemap) (1.5.0)\n",
      "Requirement already satisfied: charset-normalizer<4,>=2 in c:\\users\\tyler marino\\documents\\anaconda\\envs\\epsvenvv\\lib\\site-packages (from requests->earthengine-api>=0.1.347->geemap) (3.3.2)\n",
      "Requirement already satisfied: idna<4,>=2.5 in c:\\users\\tyler marino\\documents\\anaconda\\envs\\epsvenvv\\lib\\site-packages (from requests->earthengine-api>=0.1.347->geemap) (3.7)\n",
      "Requirement already satisfied: urllib3<3,>=1.21.1 in c:\\users\\tyler marino\\documents\\anaconda\\envs\\epsvenvv\\lib\\site-packages (from requests->earthengine-api>=0.1.347->geemap) (2.2.2)\n",
      "Requirement already satisfied: certifi>=2017.4.17 in c:\\users\\tyler marino\\documents\\anaconda\\envs\\epsvenvv\\lib\\site-packages (from requests->earthengine-api>=0.1.347->geemap) (2024.7.4)\n",
      "Requirement already satisfied: decorator in c:\\users\\tyler marino\\documents\\anaconda\\envs\\epsvenvv\\lib\\site-packages (from ratelim->geocoder->geemap) (5.1.1)\n",
      "Requirement already satisfied: googleapis-common-protos<2.0.dev0,>=1.56.2 in c:\\users\\tyler marino\\documents\\anaconda\\envs\\epsvenvv\\lib\\site-packages (from google-api-core!=2.0.*,!=2.1.*,!=2.2.*,!=2.3.0,<3.0.0.dev0,>=1.31.5->google-api-python-client>=1.12.1->earthengine-api>=0.1.347->geemap) (1.63.2)\n",
      "Requirement already satisfied: protobuf!=3.20.0,!=3.20.1,!=4.21.0,!=4.21.1,!=4.21.2,!=4.21.3,!=4.21.4,!=4.21.5,<6.0.0.dev0,>=3.19.5 in c:\\users\\tyler marino\\documents\\anaconda\\envs\\epsvenvv\\lib\\site-packages (from google-api-core!=2.0.*,!=2.1.*,!=2.2.*,!=2.3.0,<3.0.0.dev0,>=1.31.5->google-api-python-client>=1.12.1->earthengine-api>=0.1.347->geemap) (5.27.2)\n",
      "Requirement already satisfied: proto-plus<2.0.0dev,>=1.22.3 in c:\\users\\tyler marino\\documents\\anaconda\\envs\\epsvenvv\\lib\\site-packages (from google-api-core!=2.0.*,!=2.1.*,!=2.2.*,!=2.3.0,<3.0.0.dev0,>=1.31.5->google-api-python-client>=1.12.1->earthengine-api>=0.1.347->geemap) (1.24.0)\n",
      "Requirement already satisfied: backcall in c:\\users\\tyler marino\\documents\\anaconda\\envs\\epsvenvv\\lib\\site-packages (from ipython>=6.1.0->ipywidgets->ipyfilechooser>=0.6.0->geemap) (0.2.0)\n",
      "Requirement already satisfied: jedi>=0.16 in c:\\users\\tyler marino\\documents\\anaconda\\envs\\epsvenvv\\lib\\site-packages (from ipython>=6.1.0->ipywidgets->ipyfilechooser>=0.6.0->geemap) (0.19.1)\n",
      "Requirement already satisfied: matplotlib-inline in c:\\users\\tyler marino\\documents\\anaconda\\envs\\epsvenvv\\lib\\site-packages (from ipython>=6.1.0->ipywidgets->ipyfilechooser>=0.6.0->geemap) (0.1.6)\n",
      "Requirement already satisfied: pickleshare in c:\\users\\tyler marino\\documents\\anaconda\\envs\\epsvenvv\\lib\\site-packages (from ipython>=6.1.0->ipywidgets->ipyfilechooser>=0.6.0->geemap) (0.7.5)\n",
      "Requirement already satisfied: prompt-toolkit!=3.0.37,<3.1.0,>=3.0.30 in c:\\users\\tyler marino\\documents\\anaconda\\envs\\epsvenvv\\lib\\site-packages (from ipython>=6.1.0->ipywidgets->ipyfilechooser>=0.6.0->geemap) (3.0.39)\n",
      "Requirement already satisfied: pygments>=2.4.0 in c:\\users\\tyler marino\\documents\\anaconda\\envs\\epsvenvv\\lib\\site-packages (from ipython>=6.1.0->ipywidgets->ipyfilechooser>=0.6.0->geemap) (2.16.1)\n",
      "Requirement already satisfied: stack-data in c:\\users\\tyler marino\\documents\\anaconda\\envs\\epsvenvv\\lib\\site-packages (from ipython>=6.1.0->ipywidgets->ipyfilechooser>=0.6.0->geemap) (0.6.2)\n",
      "Requirement already satisfied: pyasn1<0.7.0,>=0.4.6 in c:\\users\\tyler marino\\documents\\anaconda\\envs\\epsvenvv\\lib\\site-packages (from pyasn1-modules>=0.2.1->google-auth>=1.4.1->earthengine-api>=0.1.347->geemap) (0.6.0)\n",
      "Requirement already satisfied: parso<0.9.0,>=0.8.3 in c:\\users\\tyler marino\\documents\\anaconda\\envs\\epsvenvv\\lib\\site-packages (from jedi>=0.16->ipython>=6.1.0->ipywidgets->ipyfilechooser>=0.6.0->geemap) (0.8.3)\n",
      "Requirement already satisfied: wcwidth in c:\\users\\tyler marino\\documents\\anaconda\\envs\\epsvenvv\\lib\\site-packages (from prompt-toolkit!=3.0.37,<3.1.0,>=3.0.30->ipython>=6.1.0->ipywidgets->ipyfilechooser>=0.6.0->geemap) (0.2.8)\n",
      "Requirement already satisfied: executing>=1.2.0 in c:\\users\\tyler marino\\documents\\anaconda\\envs\\epsvenvv\\lib\\site-packages (from stack-data->ipython>=6.1.0->ipywidgets->ipyfilechooser>=0.6.0->geemap) (1.2.0)\n",
      "Requirement already satisfied: asttokens>=2.1.0 in c:\\users\\tyler marino\\documents\\anaconda\\envs\\epsvenvv\\lib\\site-packages (from stack-data->ipython>=6.1.0->ipywidgets->ipyfilechooser>=0.6.0->geemap) (2.4.0)\n",
      "Requirement already satisfied: pure-eval in c:\\users\\tyler marino\\documents\\anaconda\\envs\\epsvenvv\\lib\\site-packages (from stack-data->ipython>=6.1.0->ipywidgets->ipyfilechooser>=0.6.0->geemap) (0.2.2)\n",
      "Downloading geemap-0.34.0-py2.py3-none-any.whl (2.2 MB)\n",
      "   ---------------------------------------- 0.0/2.2 MB ? eta -:--:--\n",
      "   ---- ----------------------------------- 0.2/2.2 MB 4.6 MB/s eta 0:00:01\n",
      "   ------ --------------------------------- 0.4/2.2 MB 4.6 MB/s eta 0:00:01\n",
      "   ------------- -------------------------- 0.8/2.2 MB 5.4 MB/s eta 0:00:01\n",
      "   --------------------- ------------------ 1.2/2.2 MB 6.4 MB/s eta 0:00:01\n",
      "   ----------------------------- ---------- 1.7/2.2 MB 7.6 MB/s eta 0:00:01\n",
      "   ------------------------------------ --- 2.1/2.2 MB 7.8 MB/s eta 0:00:01\n",
      "   ---------------------------------------  2.2/2.2 MB 7.9 MB/s eta 0:00:01\n",
      "   ---------------------------------------- 2.2/2.2 MB 6.5 MB/s eta 0:00:00\n",
      "Downloading eerepr-0.0.4-py3-none-any.whl (9.7 kB)\n",
      "Downloading ipyfilechooser-0.6.0-py3-none-any.whl (11 kB)\n",
      "Using cached pyshp-2.3.1-py2.py3-none-any.whl (46 kB)\n",
      "Downloading bqplot-0.12.43-py2.py3-none-any.whl (1.2 MB)\n",
      "   ---------------------------------------- 0.0/1.2 MB ? eta -:--:--\n",
      "   -- ------------------------------------- 0.1/1.2 MB 2.6 MB/s eta 0:00:01\n",
      "   ------------- -------------------------- 0.4/1.2 MB 6.5 MB/s eta 0:00:01\n",
      "   ---------------------------- ----------- 0.9/1.2 MB 7.0 MB/s eta 0:00:01\n",
      "   ---------------------------------------  1.2/1.2 MB 7.7 MB/s eta 0:00:01\n",
      "   ---------------------------------------  1.2/1.2 MB 7.1 MB/s eta 0:00:01\n",
      "   ---------------------------------------- 1.2/1.2 MB 6.0 MB/s eta 0:00:00\n",
      "Downloading colour-0.1.5-py2.py3-none-any.whl (23 kB)\n",
      "Using cached geocoder-1.38.1-py2.py3-none-any.whl (98 kB)\n",
      "Downloading ipyevents-2.0.2-py3-none-any.whl (101 kB)\n",
      "   ---------------------------------------- 0.0/101.8 kB ? eta -:--:--\n",
      "   ---- ----------------------------------- 10.2/101.8 kB ? eta -:--:--\n",
      "   ----------------------------------- --- 92.2/101.8 kB 880.9 kB/s eta 0:00:01\n",
      "   ----------------------------------- --- 92.2/101.8 kB 880.9 kB/s eta 0:00:01\n",
      "   ----------------------------------- --- 92.2/101.8 kB 880.9 kB/s eta 0:00:01\n",
      "   -------------------------------------- 101.8/101.8 kB 451.0 kB/s eta 0:00:00\n",
      "Downloading ipytree-0.2.2-py2.py3-none-any.whl (1.3 MB)\n",
      "   ---------------------------------------- 0.0/1.3 MB ? eta -:--:--\n",
      "   --- ------------------------------------ 0.1/1.3 MB ? eta -:--:--\n",
      "   ----- ---------------------------------- 0.2/1.3 MB 2.6 MB/s eta 0:00:01\n",
      "   --------- ------------------------------ 0.3/1.3 MB 2.8 MB/s eta 0:00:01\n",
      "   ---------------- ----------------------- 0.5/1.3 MB 3.7 MB/s eta 0:00:01\n",
      "   --------------------- ------------------ 0.7/1.3 MB 3.3 MB/s eta 0:00:01\n",
      "   ------------------------- -------------- 0.8/1.3 MB 3.2 MB/s eta 0:00:01\n",
      "   -------------------------- ------------- 0.9/1.3 MB 3.2 MB/s eta 0:00:01\n",
      "   -------------------------- ------------- 0.9/1.3 MB 3.2 MB/s eta 0:00:01\n",
      "   -------------------------- ------------- 0.9/1.3 MB 3.2 MB/s eta 0:00:01\n",
      "   ---------------------------------------  1.3/1.3 MB 3.1 MB/s eta 0:00:01\n",
      "   ---------------------------------------- 1.3/1.3 MB 2.9 MB/s eta 0:00:00\n",
      "Downloading plotly-5.23.0-py3-none-any.whl (17.3 MB)\n",
      "   ---------------------------------------- 0.0/17.3 MB ? eta -:--:--\n",
      "   ---------------------------------------- 0.0/17.3 MB ? eta -:--:--\n",
      "   ---------------------------------------- 0.0/17.3 MB 1.3 MB/s eta 0:00:14\n",
      "   ---------------------------------------- 0.0/17.3 MB 495.5 kB/s eta 0:00:35\n",
      "   ---------------------------------------- 0.1/17.3 MB 1.1 MB/s eta 0:00:16\n",
      "    --------------------------------------- 0.3/17.3 MB 1.9 MB/s eta 0:00:09\n",
      "   - -------------------------------------- 0.5/17.3 MB 2.8 MB/s eta 0:00:07\n",
      "   -- ------------------------------------- 0.9/17.3 MB 3.7 MB/s eta 0:00:05\n",
      "   --- ------------------------------------ 1.4/17.3 MB 4.8 MB/s eta 0:00:04\n",
      "   --- ------------------------------------ 1.7/17.3 MB 5.2 MB/s eta 0:00:03\n",
      "   ----- ---------------------------------- 2.4/17.3 MB 6.4 MB/s eta 0:00:03\n",
      "   ------- -------------------------------- 3.1/17.3 MB 7.2 MB/s eta 0:00:02\n",
      "   -------- ------------------------------- 3.6/17.3 MB 7.8 MB/s eta 0:00:02\n",
      "   --------- ------------------------------ 4.1/17.3 MB 8.2 MB/s eta 0:00:02\n",
      "   ---------- ----------------------------- 4.5/17.3 MB 8.0 MB/s eta 0:00:02\n",
      "   ----------- ---------------------------- 5.1/17.3 MB 8.5 MB/s eta 0:00:02\n",
      "   ------------ --------------------------- 5.3/17.3 MB 8.3 MB/s eta 0:00:02\n",
      "   ------------ --------------------------- 5.4/17.3 MB 7.8 MB/s eta 0:00:02\n",
      "   ------------ --------------------------- 5.6/17.3 MB 7.7 MB/s eta 0:00:02\n",
      "   ------------ --------------------------- 5.6/17.3 MB 7.7 MB/s eta 0:00:02\n",
      "   -------------- ------------------------- 6.4/17.3 MB 7.6 MB/s eta 0:00:02\n",
      "   --------------- ------------------------ 6.9/17.3 MB 7.7 MB/s eta 0:00:02\n",
      "   ---------------- ----------------------- 7.1/17.3 MB 7.6 MB/s eta 0:00:02\n",
      "   ----------------- ---------------------- 7.6/17.3 MB 7.7 MB/s eta 0:00:02\n",
      "   ------------------ --------------------- 8.1/17.3 MB 7.8 MB/s eta 0:00:02\n",
      "   ------------------- -------------------- 8.5/17.3 MB 8.0 MB/s eta 0:00:02\n",
      "   -------------------- ------------------- 8.8/17.3 MB 8.1 MB/s eta 0:00:02\n",
      "   -------------------- ------------------- 9.1/17.3 MB 8.0 MB/s eta 0:00:02\n",
      "   ---------------------- ----------------- 9.5/17.3 MB 8.0 MB/s eta 0:00:01\n",
      "   ---------------------- ----------------- 9.6/17.3 MB 8.0 MB/s eta 0:00:01\n",
      "   ----------------------- ---------------- 10.0/17.3 MB 7.9 MB/s eta 0:00:01\n",
      "   ------------------------ --------------- 10.5/17.3 MB 8.7 MB/s eta 0:00:01\n",
      "   ------------------------- -------------- 10.9/17.3 MB 9.0 MB/s eta 0:00:01\n",
      "   -------------------------- ------------- 11.3/17.3 MB 8.8 MB/s eta 0:00:01\n",
      "   -------------------------- ------------- 11.6/17.3 MB 8.8 MB/s eta 0:00:01\n",
      "   ---------------------------- ----------- 12.1/17.3 MB 8.8 MB/s eta 0:00:01\n",
      "   ---------------------------- ----------- 12.4/17.3 MB 8.5 MB/s eta 0:00:01\n",
      "   ----------------------------- ---------- 12.8/17.3 MB 8.5 MB/s eta 0:00:01\n",
      "   ------------------------------ --------- 13.3/17.3 MB 8.4 MB/s eta 0:00:01\n",
      "   ------------------------------- -------- 13.7/17.3 MB 8.3 MB/s eta 0:00:01\n",
      "   -------------------------------- ------- 14.2/17.3 MB 8.3 MB/s eta 0:00:01\n",
      "   --------------------------------- ------ 14.5/17.3 MB 8.2 MB/s eta 0:00:01\n",
      "   ---------------------------------- ----- 14.8/17.3 MB 8.1 MB/s eta 0:00:01\n",
      "   ---------------------------------- ----- 15.1/17.3 MB 7.9 MB/s eta 0:00:01\n",
      "   ----------------------------------- ---- 15.2/17.3 MB 7.7 MB/s eta 0:00:01\n",
      "   ----------------------------------- ---- 15.3/17.3 MB 7.4 MB/s eta 0:00:01\n",
      "   ----------------------------------- ---- 15.3/17.3 MB 7.3 MB/s eta 0:00:01\n",
      "   ----------------------------------- ---- 15.4/17.3 MB 7.1 MB/s eta 0:00:01\n",
      "   ----------------------------------- ---- 15.5/17.3 MB 7.0 MB/s eta 0:00:01\n",
      "   ----------------------------------- ---- 15.5/17.3 MB 7.0 MB/s eta 0:00:01\n",
      "   ------------------------------------ --- 15.9/17.3 MB 7.4 MB/s eta 0:00:01\n",
      "   -------------------------------------- - 16.6/17.3 MB 7.3 MB/s eta 0:00:01\n",
      "   ---------------------------------------  17.0/17.3 MB 7.4 MB/s eta 0:00:01\n",
      "   ---------------------------------------  17.2/17.3 MB 7.3 MB/s eta 0:00:01\n",
      "   ---------------------------------------  17.3/17.3 MB 7.2 MB/s eta 0:00:01\n",
      "   ---------------------------------------  17.3/17.3 MB 7.1 MB/s eta 0:00:01\n",
      "   ---------------------------------------- 17.3/17.3 MB 6.7 MB/s eta 0:00:00\n",
      "Downloading python_box-7.2.0-cp312-cp312-win_amd64.whl (1.2 MB)\n",
      "   ---------------------------------------- 0.0/1.2 MB ? eta -:--:--\n",
      "   --------- ------------------------------ 0.3/1.2 MB 8.6 MB/s eta 0:00:01\n",
      "   ---------------- ----------------------- 0.5/1.2 MB 5.9 MB/s eta 0:00:01\n",
      "   --------------------------------- ------ 1.0/1.2 MB 7.7 MB/s eta 0:00:01\n",
      "   ---------------------------------------  1.2/1.2 MB 7.4 MB/s eta 0:00:01\n",
      "   ---------------------------------------- 1.2/1.2 MB 5.7 MB/s eta 0:00:00\n",
      "Downloading scooby-0.10.0-py3-none-any.whl (18 kB)\n",
      "Downloading tenacity-9.0.0-py3-none-any.whl (28 kB)\n",
      "Using cached future-1.0.0-py3-none-any.whl (491 kB)\n",
      "Using cached ratelim-0.1.6-py2.py3-none-any.whl (4.0 kB)\n",
      "Building wheels for collected packages: pyperclip\n",
      "  Building wheel for pyperclip (setup.py): started\n",
      "  Building wheel for pyperclip (setup.py): finished with status 'done'\n",
      "  Created wheel for pyperclip: filename=pyperclip-1.9.0-py3-none-any.whl size=11019 sha256=f1237f1fea00828ed16938ad06ded4cbeb0c92830e96ac244bc427823852de55\n",
      "  Stored in directory: c:\\users\\tyler marino\\appdata\\local\\pip\\cache\\wheels\\e0\\e8\\fc\\8ab8aa326e33bc066ccd5f3ca9646eab4299881af933f94f09\n",
      "Successfully built pyperclip\n",
      "Installing collected packages: pyperclip, colour, tenacity, scooby, ratelim, python-box, pyshp, future, plotly, geocoder, ipytree, ipyfilechooser, ipyevents, bqplot, eerepr, geemap\n",
      "Successfully installed bqplot-0.12.43 colour-0.1.5 eerepr-0.0.4 future-1.0.0 geemap-0.34.0 geocoder-1.38.1 ipyevents-2.0.2 ipyfilechooser-0.6.0 ipytree-0.2.2 plotly-5.23.0 pyperclip-1.9.0 pyshp-2.3.1 python-box-7.2.0 ratelim-0.1.6 scooby-0.10.0 tenacity-9.0.0\n"
     ]
    }
   ],
   "source": [
    "#Displaying a Map\n",
    "\n",
    "# Initialize a map object.\n",
    "m = geemap.Map()\n",
    "\n",
    "# Add the image to the map.\n",
    "m.add_layer(img, None, 'Random image')\n",
    "\n",
    "# Display the map (you can call the object directly if it is the final line).\n",
    "display(m)"
   ]
  },
  {
   "cell_type": "code",
   "execution_count": 53,
   "metadata": {},
   "outputs": [
    {
     "data": {
      "text/html": [
       "\n",
       "            <style>\n",
       "                .geemap-dark {\n",
       "                    --jp-widgets-color: white;\n",
       "                    --jp-widgets-label-color: white;\n",
       "                    --jp-ui-font-color1: white;\n",
       "                    --jp-layout-color2: #454545;\n",
       "                    background-color: #383838;\n",
       "                }\n",
       "\n",
       "                .geemap-dark .jupyter-button {\n",
       "                    --jp-layout-color3: #383838;\n",
       "                }\n",
       "\n",
       "                .geemap-colab {\n",
       "                    background-color: var(--colab-primary-surface-color, white);\n",
       "                }\n",
       "\n",
       "                .geemap-colab .jupyter-button {\n",
       "                    --jp-layout-color3: var(--colab-primary-surface-color, white);\n",
       "                }\n",
       "            </style>\n",
       "            "
      ],
      "text/plain": [
       "<IPython.core.display.HTML object>"
      ]
     },
     "metadata": {},
     "output_type": "display_data"
    },
    {
     "ename": "AttributeError",
     "evalue": "'ImageCollection' object has no attribute 'length'",
     "output_type": "error",
     "traceback": [
      "\u001b[1;31m---------------------------------------------------------------------------\u001b[0m",
      "\u001b[1;31mAttributeError\u001b[0m                            Traceback (most recent call last)",
      "Cell \u001b[1;32mIn[53], line 3\u001b[0m\n\u001b[0;32m      1\u001b[0m \u001b[38;5;66;03m# Load a Landsat 8 collection for a single path-row, 2021 images only.\u001b[39;00m\n\u001b[0;32m      2\u001b[0m collection \u001b[38;5;241m=\u001b[39m ee\u001b[38;5;241m.\u001b[39mImageCollection(\u001b[38;5;124m'\u001b[39m\u001b[38;5;124mLANDSAT/LC08/C02/T1_TOA\u001b[39m\u001b[38;5;124m'\u001b[39m)\u001b[38;5;241m.\u001b[39mfilterDate(\u001b[38;5;124m'\u001b[39m\u001b[38;5;124m2021\u001b[39m\u001b[38;5;124m'\u001b[39m, \u001b[38;5;124m'\u001b[39m\u001b[38;5;124m2022\u001b[39m\u001b[38;5;124m'\u001b[39m)\u001b[38;5;241m.\u001b[39mfilter(ee\u001b[38;5;241m.\u001b[39mFilter\u001b[38;5;241m.\u001b[39meq(\u001b[38;5;124m'\u001b[39m\u001b[38;5;124mWRS_PATH\u001b[39m\u001b[38;5;124m'\u001b[39m, \u001b[38;5;241m44\u001b[39m))\u001b[38;5;241m.\u001b[39mfilter(ee\u001b[38;5;241m.\u001b[39mFilter\u001b[38;5;241m.\u001b[39meq(\u001b[38;5;124m'\u001b[39m\u001b[38;5;124mWRS_ROW\u001b[39m\u001b[38;5;124m'\u001b[39m, \u001b[38;5;241m34\u001b[39m))\n\u001b[1;32m----> 3\u001b[0m \u001b[43mcollection\u001b[49m\u001b[38;5;241;43m.\u001b[39;49m\u001b[43mlength\u001b[49m()\n\u001b[0;32m      4\u001b[0m \u001b[38;5;66;03m#This function uses a conditional statement to return the image if\u001b[39;00m\n\u001b[0;32m      5\u001b[0m \u001b[38;5;66;03m# the solar elevation > 40 degrees. Otherwise it returns a \"zero image\".\u001b[39;00m\n\u001b[0;32m      6\u001b[0m \u001b[38;5;28;01mdef\u001b[39;00m \u001b[38;5;21mconditional\u001b[39m(image):\n",
      "\u001b[1;31mAttributeError\u001b[0m: 'ImageCollection' object has no attribute 'length'"
     ]
    }
   ],
   "source": [
    "\n",
    "\n",
    "# Load a Landsat 8 collection for a single path-row, 2021 images only.\n",
    "collection = ee.ImageCollection('LANDSAT/LC08/C02/T1_TOA').filterDate('2021', '2022').filter(ee.Filter.eq('WRS_PATH', 44)).filter(ee.Filter.eq('WRS_ROW', 34))\n",
    "collection.length()\n",
    "#This function uses a conditional statement to return the image if\n",
    "# the solar elevation > 40 degrees. Otherwise it returns a \"zero image\".\n",
    "def conditional(image):\n",
    "  return ee.Algorithms.If(ee.Number(image.get('SUN_ELEVATION')).gt(40),\n",
    "                          image,\n",
    "                          ee.Image(0))\n",
    "\n",
    "\n",
    "# Map the function over the collection and print the result. Expand the\n",
    "# collection and note that 7 of the 22 images are now \"zero images'.\n",
    "print('Expand this to see the result', collection.map(conditional))\n",
    "newer_collection = collection.map(conditional)\n",
    "\n",
    "\n",
    "m.add_layer(newer_collection, None, 'collection Augmented')\n",
    "display(m)"
   ]
  }
 ],
 "metadata": {
  "kernelspec": {
   "display_name": "Python 3",
   "language": "python",
   "name": "python3"
  },
  "language_info": {
   "codemirror_mode": {
    "name": "ipython",
    "version": 3
   },
   "file_extension": ".py",
   "mimetype": "text/x-python",
   "name": "python",
   "nbconvert_exporter": "python",
   "pygments_lexer": "ipython3",
   "version": "3.12.0"
  }
 },
 "nbformat": 4,
 "nbformat_minor": 2
}

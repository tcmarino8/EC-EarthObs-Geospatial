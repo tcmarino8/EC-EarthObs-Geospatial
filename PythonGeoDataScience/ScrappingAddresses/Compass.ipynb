{
 "cells": [
  {
   "cell_type": "code",
   "execution_count": null,
   "metadata": {},
   "outputs": [],
   "source": [
    "import pyap\n",
    "import geometryFxns\n",
    "import folium\n",
    "from geometryFxns import create_office_geodataframe\n",
    "\n",
    "\n",
    "xompass_gdf = create_office_geodataframe(\"https://www.compass.com/about/offices/\")\n"
   ]
  },
  {
   "cell_type": "code",
   "execution_count": null,
   "metadata": {},
   "outputs": [],
   "source": [
    "## To impliment into geometryFxns.py to ensure more addresses are geocoded\n",
    "print(\"number of unreadable addresses is:\", len(xompass_gdf[xompass_gdf['geometry'] == None]))\n",
    "\n",
    "\n",
    "for index, item in enumerate(xompass_gdf['geometry']):\n",
    "    if item == None:\n",
    "        office_location = xompass_gdf['office_location'][index]\n",
    "        address = pyap.parse(office_location, country='US')\n",
    "        if len(address) > 0:\n",
    "            address_dict = address[0].as_dict()\n",
    "            codeable_address = str(address_dict['street_number'] + ' ' + address_dict['street_name'] + ' ' + address_dict['street_type'] + ' ' + address_dict['city'] + ', ' + address_dict['region1'] + ' ' + address_dict['postal_code'])\n",
    "            print(codeable_address)\n",
    "            xompass_gdf.loc[index, 'geometry'] = geometryFxns.geocode_address(codeable_address)\n",
    "\n",
    "\n",
    "        "
   ]
  },
  {
   "cell_type": "code",
   "execution_count": null,
   "metadata": {},
   "outputs": [],
   "source": [
    "print('number of unreadable addresses is:', len(xompass_gdf[xompass_gdf['geometry'] == None]))"
   ]
  },
  {
   "cell_type": "code",
   "execution_count": null,
   "metadata": {},
   "outputs": [],
   "source": [
    "\n",
    "\n",
    "def create_map_with_geoms(gdf):\n",
    "    \n",
    "    #df = create_office_geodataframe(url)\n",
    "    # Create a map centered on the mean of all points\n",
    "    no_missing_gdf = gdf[gdf['geometry'] != None]\n",
    "    points = [[point.xy[1][0], point.xy[0][0]] for point in no_missing_gdf['geometry']]\n",
    "    center_lat = sum(points[0][0] for point in points) / len(no_missing_gdf)\n",
    "    center_lon = sum(points[0][1] for point in points) / len(no_missing_gdf)\n",
    "    \n",
    "    m = folium.Map(location=[center_lat, center_lon], zoom_start=4)\n",
    "    \n",
    "    # Add each geometry to the map\n",
    "    for i in range(len(no_missing_gdf)):\n",
    "        row = no_missing_gdf.iloc[i]\n",
    "        geom = row['geometry']\n",
    "        folium.Marker(\n",
    "            points[i],\n",
    "\n",
    "            popup=f\"{row['office_title']}<br>{row['office_location']}<br>{row['office_phone_number']}\"\n",
    "        ).add_to(m)\n",
    "    \n",
    "    filepath = 'map.html'\n",
    "    m.save(filepath)\n",
    "    return \n",
    "\n",
    "create_map_with_geoms(xompass_gdf)\n"
   ]
  }
 ],
 "metadata": {
  "kernelspec": {
   "display_name": "epsvenvv",
   "language": "python",
   "name": "python3"
  },
  "language_info": {
   "name": "python",
   "version": "3.12.0"
  }
 },
 "nbformat": 4,
 "nbformat_minor": 2
}

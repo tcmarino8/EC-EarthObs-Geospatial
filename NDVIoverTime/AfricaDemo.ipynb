{
 "cells": [
  {
   "cell_type": "code",
   "execution_count": 18,
   "metadata": {},
   "outputs": [
    {
     "data": {
      "text/html": [
       "\n",
       "            <style>\n",
       "                .geemap-dark {\n",
       "                    --jp-widgets-color: white;\n",
       "                    --jp-widgets-label-color: white;\n",
       "                    --jp-ui-font-color1: white;\n",
       "                    --jp-layout-color2: #454545;\n",
       "                    background-color: #383838;\n",
       "                }\n",
       "\n",
       "                .geemap-dark .jupyter-button {\n",
       "                    --jp-layout-color3: #383838;\n",
       "                }\n",
       "\n",
       "                .geemap-colab {\n",
       "                    background-color: var(--colab-primary-surface-color, white);\n",
       "                }\n",
       "\n",
       "                .geemap-colab .jupyter-button {\n",
       "                    --jp-layout-color3: var(--colab-primary-surface-color, white);\n",
       "                }\n",
       "            </style>\n",
       "            "
      ],
      "text/plain": [
       "<IPython.core.display.HTML object>"
      ]
     },
     "metadata": {},
     "output_type": "display_data"
    },
    {
     "ename": "ModuleNotFoundError",
     "evalue": "No module named 'ui'",
     "output_type": "error",
     "traceback": [
      "\u001b[1;31m---------------------------------------------------------------------------\u001b[0m",
      "\u001b[1;31mModuleNotFoundError\u001b[0m                       Traceback (most recent call last)",
      "Cell \u001b[1;32mIn[18], line 3\u001b[0m\n\u001b[0;32m      1\u001b[0m \u001b[38;5;28;01mimport\u001b[39;00m \u001b[38;5;21;01mee\u001b[39;00m\n\u001b[0;32m      2\u001b[0m \u001b[38;5;28;01mimport\u001b[39;00m \u001b[38;5;21;01mgeemap\u001b[39;00m\n\u001b[1;32m----> 3\u001b[0m \u001b[38;5;28;01mimport\u001b[39;00m \u001b[38;5;21;01mui\u001b[39;00m\n\u001b[0;32m      4\u001b[0m ee\u001b[38;5;241m.\u001b[39mInitialize()\n",
      "\u001b[1;31mModuleNotFoundError\u001b[0m: No module named 'ui'"
     ]
    }
   ],
   "source": [
    "import ee\n",
    "import geemap\n",
    "ee.Initialize()"
   ]
  },
  {
   "cell_type": "code",
   "execution_count": 17,
   "metadata": {},
   "outputs": [
    {
     "data": {
      "text/html": [
       "\n",
       "            <style>\n",
       "                .geemap-dark {\n",
       "                    --jp-widgets-color: white;\n",
       "                    --jp-widgets-label-color: white;\n",
       "                    --jp-ui-font-color1: white;\n",
       "                    --jp-layout-color2: #454545;\n",
       "                    background-color: #383838;\n",
       "                }\n",
       "\n",
       "                .geemap-dark .jupyter-button {\n",
       "                    --jp-layout-color3: #383838;\n",
       "                }\n",
       "\n",
       "                .geemap-colab {\n",
       "                    background-color: var(--colab-primary-surface-color, white);\n",
       "                }\n",
       "\n",
       "                .geemap-colab .jupyter-button {\n",
       "                    --jp-layout-color3: var(--colab-primary-surface-color, white);\n",
       "                }\n",
       "            </style>\n",
       "            "
      ],
      "text/plain": [
       "<IPython.core.display.HTML object>"
      ]
     },
     "metadata": {},
     "output_type": "display_data"
    },
    {
     "name": "stdout",
     "output_type": "stream",
     "text": [
      "Note: you may need to restart the kernel to use updated packages.\n"
     ]
    },
    {
     "name": "stderr",
     "output_type": "stream",
     "text": [
      "ERROR: Could not find a version that satisfies the requirement ui (from versions: none)\n",
      "ERROR: No matching distribution found for ui\n"
     ]
    }
   ],
   "source": []
  },
  {
   "cell_type": "code",
   "execution_count": 77,
   "metadata": {},
   "outputs": [
    {
     "data": {
      "text/html": [
       "\n",
       "            <style>\n",
       "                .geemap-dark {\n",
       "                    --jp-widgets-color: white;\n",
       "                    --jp-widgets-label-color: white;\n",
       "                    --jp-ui-font-color1: white;\n",
       "                    --jp-layout-color2: #454545;\n",
       "                    background-color: #383838;\n",
       "                }\n",
       "\n",
       "                .geemap-dark .jupyter-button {\n",
       "                    --jp-layout-color3: #383838;\n",
       "                }\n",
       "\n",
       "                .geemap-colab {\n",
       "                    background-color: var(--colab-primary-surface-color, white);\n",
       "                }\n",
       "\n",
       "                .geemap-colab .jupyter-button {\n",
       "                    --jp-layout-color3: var(--colab-primary-surface-color, white);\n",
       "                }\n",
       "            </style>\n",
       "            "
      ],
      "text/plain": [
       "<IPython.core.display.HTML object>"
      ]
     },
     "metadata": {},
     "output_type": "display_data"
    },
    {
     "data": {
      "text/plain": [
       "'https://earthengine.googleapis.com/v1/projects/earthengine-legacy/videoThumbnails/9cc4ad31de3503337f8a5705767c0124-64ea177287d5ef0565139c49b1a51332:getPixels'"
      ]
     },
     "execution_count": 77,
     "metadata": {},
     "output_type": "execute_result"
    }
   ],
   "source": [
    "\n",
    "def get_dates (img):\n",
    "  doy = ee.Date(img.get('system:time_start')).getRelative('day', 'year')\n",
    "  return img.set('doy', doy)\n",
    "\n",
    "def median_vis(img):\n",
    "  # Ensure that startDoy is a number.\n",
    "  doyCol = ee.ImageCollection.fromImages(img.get('doy_matches'))\n",
    "  # Filter images by date range; starting with the current startDate and\n",
    "  # ending 15 days later. Reduce the resulting image collection by median.\n",
    "  return doyCol.reduce(ee.Reducer.median())\n",
    "\n",
    "\n",
    "#Only works for africa, need to adjust region geom to make bounding box around \n",
    "def make_visualization(wld_rgn):\n",
    "    # Make a day-of-year sequence from 1 to 365 with a 16-day step.\n",
    "  doyList = ee.List.sequence(1, 365, 16)\n",
    "\n",
    "  # Import a MODIS NDVI collection.\n",
    "  ndviCol = ee.ImageCollection('MODIS/006/MOD13A2').select('NDVI')\n",
    "\n",
    "  Africa_map = geemap.Map()\n",
    "\n",
    "  Africa_map.add_layer(ndviCol.first(), name = 'Raw NDVI')\n",
    "\n",
    "\n",
    "  # Define a mask to clip the NDVI data by.\n",
    "  mask = ee.FeatureCollection('USDOS/LSIB_SIMPLE/2017').filter(ee.Filter.eq('wld_rgn', wld_rgn))\n",
    "\n",
    "  Africa_map.add_layer(mask, name = 'mask of Africa')\n",
    "\n",
    "\n",
    "  # Define the regional bounds of animation frames.\n",
    "  region = ee.Geometry.Polygon(\n",
    "    [[[-18.698368046353494, 38.1446395611524],\n",
    "      [-18.698368046353494, -36.16300755581617],\n",
    "      [52.229366328646506, -36.16300755581617],\n",
    "      [52.229366328646506, 38.1446395611524]]]\n",
    "  )\n",
    "\n",
    "  ndviCol = ndviCol.map(get_dates)\n",
    "\n",
    "  distinctDOY = ndviCol.filterDate('2000-01-01', '2001-01-01')\n",
    "\n",
    "\n",
    "\n",
    "\n",
    "  # Define a filter that identifies which images from the complete collection\n",
    "  # match the DOY from the distinct DOY collection.\n",
    "  filter = ee.Filter.equals(leftField = 'doy', rightField = 'doy')\n",
    "\n",
    "\n",
    "  # Define a join.\n",
    "  join = ee.Join.saveAll('doy_matches')\n",
    "\n",
    "\n",
    "  # Apply the join and convert the resulting FeatureCollection to an\n",
    "  # ImageCollection.\n",
    "  joinCol = ee.ImageCollection(join.apply(distinctDOY, ndviCol, filter))\n",
    "\n",
    "  Africa_map.add_layer(joinCol.first(), name = 'Unassembeled, Reasembled')\n",
    "\n",
    "\n",
    "  # Map over the list of days to build a list of image composites, this builds a ImageCollection.\n",
    "  ndviCompCol = joinCol.map(median_vis)\n",
    "\n",
    "  Africa_map.add_layer(ndviCompCol.first(), name = 'median_vis Display')\n",
    "\n",
    "\n",
    "  # Define RGB visualization parameters.\n",
    "  visParams = {\n",
    "    'bands' : ['B1', 'B2'],\n",
    "    'min' : 0.0,\n",
    "    'max' : 9000.0, \n",
    "    'palette' : ['FFFFFF', 'CE7E45', 'DF923D', 'F1B555', 'FCD163', '99B718', '74A901',\n",
    "      '66A000', '529400', '3E8601', '207401', '056201', '004C00', '023B01',\n",
    "      '012E01', '011D01', '011301']\n",
    "  }\n",
    "\n",
    "  # Create RGB visualization images for use as animation frames.\n",
    "  rgbVis = ndviCompCol.map(lambda img : img.visualize( min = 0.0, max = 9000.0, palette = ['FFFFFF', 'CE7E45', 'DF923D', 'F1B555', 'FCD163', '99B718', '74A901',\n",
    "      '66A000', '529400', '3E8601', '207401', '056201', '004C00', '023B01',\n",
    "      '012E01', '011D01', '011301']).clip(mask))\n",
    "\n",
    "  Africa_map.add_layer(rgbVis.first(), name = 'rgb NDVI Display')\n",
    "\n",
    "  # Define GIF visualization parameters.\n",
    "  gifParams = {\n",
    "    'region': region,\n",
    "    'dimensions': 600,\n",
    "    'crs': 'EPSG:3857',\n",
    "    'framesPerSecond': 10\n",
    "  }\n",
    "\n",
    "  # Print the GIF URL to the console.\n",
    "  return rgbVis.getVideoThumbURL(gifParams)\n",
    "\n",
    "\n",
    "make_visualization('Africa')\n",
    "\n"
   ]
  }
 ],
 "metadata": {
  "kernelspec": {
   "display_name": "epsvenvv",
   "language": "python",
   "name": "python3"
  },
  "language_info": {
   "codemirror_mode": {
    "name": "ipython",
    "version": 3
   },
   "file_extension": ".py",
   "mimetype": "text/x-python",
   "name": "python",
   "nbconvert_exporter": "python",
   "pygments_lexer": "ipython3",
   "version": "3.12.0"
  }
 },
 "nbformat": 4,
 "nbformat_minor": 2
}
